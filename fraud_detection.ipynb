{
  "cells": [
    {
      "cell_type": "markdown",
      "metadata": {
        "id": "view-in-github",
        "colab_type": "text"
      },
      "source": [
        "<a href=\"https://colab.research.google.com/github/ffgama/Cookbook/blob/master/fraud_detection.ipynb\" target=\"_parent\"><img src=\"https://colab.research.google.com/assets/colab-badge.svg\" alt=\"Open In Colab\"/></a>"
      ]
    },
    {
      "cell_type": "markdown",
      "metadata": {
        "id": "0SEyhe5kIQl_"
      },
      "source": [
        "# Setup do spark no colab"
      ]
    },
    {
      "cell_type": "code",
      "execution_count": 1,
      "metadata": {
        "colab": {
          "base_uri": "https://localhost:8080/"
        },
        "id": "VcKplY21KF-f",
        "outputId": "cd351eb1-b4fe-44f9-9d7c-4cc3530db239"
      },
      "outputs": [
        {
          "output_type": "stream",
          "name": "stdout",
          "text": [
            "\u001b[33m\r0% [Working]\u001b[0m\r            \rHit:1 http://security.ubuntu.com/ubuntu jammy-security InRelease\n",
            "\u001b[33m\r0% [Waiting for headers] [Connecting to cloud.r-project.org] [Connecting to ppa\u001b[0m\r                                                                               \rHit:2 http://archive.ubuntu.com/ubuntu jammy InRelease\n",
            "\r                                                                               \rHit:3 http://archive.ubuntu.com/ubuntu jammy-updates InRelease\n",
            "\r                                                                               \rHit:4 http://archive.ubuntu.com/ubuntu jammy-backports InRelease\n",
            "\u001b[33m\r0% [Connected to cloud.r-project.org (108.138.128.85)] [Connecting to ppa.launc\u001b[0m\r                                                                               \rHit:5 https://developer.download.nvidia.com/compute/cuda/repos/ubuntu2204/x86_64  InRelease\n",
            "Hit:6 https://cloud.r-project.org/bin/linux/ubuntu jammy-cran40/ InRelease\n",
            "Hit:7 https://ppa.launchpadcontent.net/c2d4u.team/c2d4u4.0+/ubuntu jammy InRelease\n",
            "Hit:8 https://ppa.launchpadcontent.net/deadsnakes/ppa/ubuntu jammy InRelease\n",
            "Hit:9 https://ppa.launchpadcontent.net/graphics-drivers/ppa/ubuntu jammy InRelease\n",
            "Hit:10 https://ppa.launchpadcontent.net/ubuntugis/ppa/ubuntu jammy InRelease\n",
            "Reading package lists... Done\n",
            "Building dependency tree... Done\n",
            "Reading state information... Done\n",
            "39 packages can be upgraded. Run 'apt list --upgradable' to see them.\n",
            "tar: spark-3.4.0-bin-hadoop3.4.tgz: Cannot open: No such file or directory\n",
            "tar: Error is not recoverable: exiting now\n",
            "Requirement already satisfied: pyspark in /usr/local/lib/python3.10/dist-packages (3.5.1)\n",
            "Requirement already satisfied: py4j==0.10.9.7 in /usr/local/lib/python3.10/dist-packages (from pyspark) (0.10.9.7)\n",
            "Requirement already satisfied: py4j in /usr/local/lib/python3.10/dist-packages (0.10.9.7)\n",
            "Requirement already satisfied: pyspark-pandas in /usr/local/lib/python3.10/dist-packages (0.0.7)\n",
            "Requirement already satisfied: pandas in /usr/local/lib/python3.10/dist-packages (from pyspark-pandas) (1.5.3)\n",
            "Requirement already satisfied: python-dateutil>=2.8.1 in /usr/local/lib/python3.10/dist-packages (from pandas->pyspark-pandas) (2.8.2)\n",
            "Requirement already satisfied: pytz>=2020.1 in /usr/local/lib/python3.10/dist-packages (from pandas->pyspark-pandas) (2023.4)\n",
            "Requirement already satisfied: numpy>=1.21.0 in /usr/local/lib/python3.10/dist-packages (from pandas->pyspark-pandas) (1.25.2)\n",
            "Requirement already satisfied: six>=1.5 in /usr/local/lib/python3.10/dist-packages (from python-dateutil>=2.8.1->pandas->pyspark-pandas) (1.16.0)\n"
          ]
        }
      ],
      "source": [
        "!sudo apt update\n",
        "!apt-get install openjdk-8-jdk-headless -qq > /dev/null\n",
        "#Check this site for the latest download link https://www.apache.org/dyn/closer.lua/spark/spark-3.2.1/spark-3.2.1-bin-hadoop3.2.tgz\n",
        "!wget -q https://dlcdn.apache.org/spark/spark-3.4.0/spark-3.4.0-bin-hadoop3.4.tgz\n",
        "!tar xf spark-3.4.0-bin-hadoop3.4.tgz\n",
        "!pip install -q findspark\n",
        "!pip install pyspark\n",
        "!pip install py4j\n",
        "!pip install pyspark-pandas"
      ]
    },
    {
      "cell_type": "code",
      "execution_count": 2,
      "metadata": {
        "colab": {
          "base_uri": "https://localhost:8080/"
        },
        "id": "tCaqNRPDhgTK",
        "outputId": "5f056a09-8cee-49e6-dc6d-50abc2dec57e"
      },
      "outputs": [
        {
          "output_type": "stream",
          "name": "stderr",
          "text": [
            "/usr/local/lib/python3.10/dist-packages/pyspark/pandas/__init__.py:50: UserWarning: 'PYARROW_IGNORE_TIMEZONE' environment variable was not set. It is required to set this environment variable to '1' in both driver and executor sides if you use pyarrow>=2.0.0. pandas-on-Spark will set it for you but it does not work if there is a Spark context already launched.\n",
            "  warnings.warn(\n"
          ]
        }
      ],
      "source": [
        "from pyspark.sql import SparkSession\n",
        "from pyspark.sql import DataFrame\n",
        "from pyspark.sql import functions as F\n",
        "from pyspark.sql import types as T\n",
        "from copy import deepcopy\n",
        "import pyspark.pandas as ps\n",
        "import seaborn as sns\n",
        "import matplotlib.pyplot as plt"
      ]
    },
    {
      "cell_type": "code",
      "execution_count": 3,
      "metadata": {
        "id": "rNurRmMzKITy"
      },
      "outputs": [],
      "source": [
        "spark = SparkSession.builder.appName(\"Fraud Detection App\").getOrCreate()\n",
        "\n",
        "files_names = [\n",
        "    'train_dataset_recruitment.csv',\n",
        "    'valid_dataset_recruitment.csv',\n",
        "    'test_dataset_recruitment.csv'\n",
        "]\n",
        "\n",
        "def read_csv_into_spark(filename: str) -> DataFrame:\n",
        "  \"\"\"\n",
        "  Leitura do dataset de treino, teste e validacao.\n",
        "  \"\"\"\n",
        "  drive_path = '/content/drive/MyDrive/ebanx_data/'\n",
        "\n",
        "  dataset = spark.read.csv(\n",
        "      drive_path+filename,\n",
        "      header=True,\n",
        "      inferSchema=True\n",
        "  )\n",
        "  return dataset\n",
        "\n",
        "def save_csv_into_spark(dataset: DataFrame, path_file: str) -> None:\n",
        "  \"\"\"\n",
        "  Salva em um objeto spark em um arquivo CSV.\n",
        "  \"\"\"\n",
        "  drive_path = '/content/drive/MyDrive/ebanx_data/'\n",
        "\n",
        "  dataset.write.format(\"csv\") \\\n",
        "    .option(\"header\", True) \\\n",
        "    .option(\"delimiter\", \";\") \\\n",
        "    .mode(\"overwrite\") \\\n",
        "    .save(drive_path+path_file)\n",
        "\n",
        "\n",
        "def checkup_dataset(dataset: DataFrame) -> None:\n",
        "  \"\"\"\n",
        "  Checa e conta o numero de registros nulos nas colunas.\n",
        "  \"\"\"\n",
        "  print(dataset.agg(*(F.count(F.when(F.col(c).isNull(), c)).alias(c) for c in dataset.columns)).show())\n",
        "  return\n",
        "\n",
        "def get_general_info_datasets(dataset: DataFrame) -> None:\n",
        "  \"\"\"\n",
        "  Imprime informacoes gerais do dataset.\n",
        "  \"\"\"\n",
        "  print('\\n')\n",
        "  print('--------------------------------------')\n",
        "  print(\"Total de {} linhas e {} colunas\".format(dataset.count(), len(dataset.columns)))\n",
        "  print('--------------------------------------')\n",
        "  print(\"Schema da tabela:\")\n",
        "  dataset.printSchema()\n",
        "  dataset.show(2)\n",
        "  print(\"Valores nulos do dataset:\")\n",
        "  checkup_dataset(dataset)\n",
        "  ('--------------------------------------')\n",
        "  print('Descricao estatistica das features...')\n",
        "  print(dataset.describe().show())\n",
        "  ('--------------------------------------')\n",
        "  return\n",
        "\n",
        "def get_transformation_to_string(dataset:DataFrame, columns: list) -> DataFrame:\n",
        "  \"\"\"\n",
        "  Converte para string\n",
        "  \"\"\"\n",
        "  for c in columns:\n",
        "    dataset = dataset.withColumn(c, F.col(c).cast(T.StringType()))\n",
        "\n",
        "  return dataset\n",
        "\n",
        "\n",
        "\n",
        "def fill_null_columns(dataset: DataFrame) -> DataFrame:\n",
        "  \"\"\"\n",
        "  Responsavel por substituir valores nulos presente em uma coluna.\n",
        "  \"\"\"\n",
        "  string_columns = ['fakeTransactionId','fakeCustomerEmail',\n",
        "                    'fakeCardId', 'fakeCustomerPhone','fakeCustomerIp','fakeBillingZip',\n",
        "                    'billingCity','billingState','billingCountry']\n",
        "\n",
        "  dataset = dataset.fillna(\"Sem preenchimento\", subset=string_columns)\n",
        "\n",
        "  date_columns = ['customerDob', 'customerCreatedAt', 'cbkDate', 'dt']\n",
        "  date_to_replace = '1900-01-01'\n",
        "\n",
        "  for column in date_columns:\n",
        "    dataset = dataset.withColumn(\n",
        "        column, F.to_date(F.date_format(F.coalesce(F.col(column),  F.lit('1900-01-01')), \"yyyy-MM-dd\"))\n",
        "  )\n",
        "\n",
        "  return dataset"
      ]
    },
    {
      "cell_type": "markdown",
      "metadata": {
        "id": "28sGvoOoMM9K"
      },
      "source": [
        "# Carga de Dados"
      ]
    },
    {
      "cell_type": "code",
      "execution_count": 4,
      "metadata": {
        "id": "HFLW_qGWholo"
      },
      "outputs": [],
      "source": [
        "# Carga de dados\n",
        "train_df, val_df, test_df = [read_csv_into_spark(f) for f in files_names]"
      ]
    },
    {
      "cell_type": "code",
      "execution_count": 5,
      "metadata": {
        "colab": {
          "base_uri": "https://localhost:8080/"
        },
        "id": "NK-APdeOINOC",
        "outputId": "850ee0e1-4e43-48aa-9bd7-35261db0a542"
      },
      "outputs": [
        {
          "output_type": "stream",
          "name": "stdout",
          "text": [
            "\n",
            "\n",
            "--------------------------------------\n",
            "Total de 2826 linhas e 16 colunas\n",
            "--------------------------------------\n",
            "Schema da tabela:\n",
            "root\n",
            " |-- fakeTransactionId: string (nullable = true)\n",
            " |-- logDate: timestamp (nullable = true)\n",
            " |-- fakeCustomerEmail: string (nullable = true)\n",
            " |-- fakeCardId: string (nullable = true)\n",
            " |-- fakeCustomerPhone: string (nullable = true)\n",
            " |-- fakeCustomerIp: string (nullable = true)\n",
            " |-- fakeBillingZip: string (nullable = true)\n",
            " |-- customerDob: date (nullable = true)\n",
            " |-- customerCreatedAt: date (nullable = true)\n",
            " |-- totalAmount: double (nullable = true)\n",
            " |-- billingCity: string (nullable = true)\n",
            " |-- billingState: string (nullable = true)\n",
            " |-- billingCountry: string (nullable = true)\n",
            " |-- isCbk: integer (nullable = true)\n",
            " |-- cbkDate: date (nullable = true)\n",
            " |-- dt: date (nullable = true)\n",
            "\n",
            "+--------------------+-------------------+--------------------+--------------------+--------------------+--------------------+--------------------+-----------+-----------------+-----------+-----------+------------+--------------+-----+-------+----------+\n",
            "|   fakeTransactionId|            logDate|   fakeCustomerEmail|          fakeCardId|   fakeCustomerPhone|      fakeCustomerIp|      fakeBillingZip|customerDob|customerCreatedAt|totalAmount|billingCity|billingState|billingCountry|isCbk|cbkDate|        dt|\n",
            "+--------------------+-------------------+--------------------+--------------------+--------------------+--------------------+--------------------+-----------+-----------------+-----------+-----------+------------+--------------+-----+-------+----------+\n",
            "|cf4c77f6-5801-49d...|2021-05-18 12:21:28|85ec9123-a69d-436...|5b052ff2-4629-49f...|c4bb7b07-b8da-4b7...|                NULL|6ae32c1a-1261-402...| 1997-08-02|       2015-11-03|       16.9| votorantim|          SP|            BR|    0|   NULL|2021-05-18|\n",
            "|b0fdb54c-4e7b-4dc...|2021-05-19 15:09:01|85ec9123-a69d-436...|554fd2df-d204-4a3...|f93c90a0-79bf-432...|70705617-d1e4-447...|6ae32c1a-1261-402...| 1997-08-02|       2015-11-03|      34.84| votorantim|          SP|            BR|    0|   NULL|2021-05-19|\n",
            "+--------------------+-------------------+--------------------+--------------------+--------------------+--------------------+--------------------+-----------+-----------------+-----------+-----------+------------+--------------+-----+-------+----------+\n",
            "only showing top 2 rows\n",
            "\n",
            "Valores nulos do dataset:\n",
            "+-----------------+-------+-----------------+----------+-----------------+--------------+--------------+-----------+-----------------+-----------+-----------+------------+--------------+-----+-------+---+\n",
            "|fakeTransactionId|logDate|fakeCustomerEmail|fakeCardId|fakeCustomerPhone|fakeCustomerIp|fakeBillingZip|customerDob|customerCreatedAt|totalAmount|billingCity|billingState|billingCountry|isCbk|cbkDate| dt|\n",
            "+-----------------+-------+-----------------+----------+-----------------+--------------+--------------+-----------+-----------------+-----------+-----------+------------+--------------+-----+-------+---+\n",
            "|                0|      0|                0|         0|                0|          1984|            45|          0|                0|          0|        784|          18|             0|    0|   2757|  0|\n",
            "+-----------------+-------+-----------------+----------+-----------------+--------------+--------------+-----------+-----------------+-----------+-----------+------------+--------------+-----+-------+---+\n",
            "\n",
            "None\n",
            "Descricao estatistica das features...\n",
            "+-------+--------------------+--------------------+--------------------+--------------------+--------------------+--------------------+------------------+-----------+------------+--------------+--------------------+\n",
            "|summary|   fakeTransactionId|   fakeCustomerEmail|          fakeCardId|   fakeCustomerPhone|      fakeCustomerIp|      fakeBillingZip|       totalAmount|billingCity|billingState|billingCountry|               isCbk|\n",
            "+-------+--------------------+--------------------+--------------------+--------------------+--------------------+--------------------+------------------+-----------+------------+--------------+--------------------+\n",
            "|  count|                2826|                2826|                2826|                2826|                 842|                2781|              2826|       2042|        2808|          2826|                2826|\n",
            "|   mean|                NULL|                NULL|                NULL|                NULL|                NULL|                NULL| 88.46325194621261| 5.427007E7|        NULL|          NULL|0.024416135881104035|\n",
            "| stddev|                NULL|                NULL|                NULL|                NULL|                NULL|                NULL|221.54184144906407|        0.0|        NULL|          NULL|  0.1543645686158775|\n",
            "|    min|0016e679-c943-4ff...|005caf58-245e-454...|009b0c80-fd03-450...|0043b8a4-cf7f-409...|02361729-29dc-489...|00d48169-b586-4b8...|              2.01|   54270070|          AC|            BR|                   0|\n",
            "|    max|ffc7530c-bbb5-423...|ffbc587e-e67e-4fa...|ffcc73e3-5cfa-452...|ffc552c3-86b8-4b3...|ffc30808-4514-4cd...|ffe4b08f-ce94-44f...|           3569.35| votorantim|          TO|            BR|                   1|\n",
            "+-------+--------------------+--------------------+--------------------+--------------------+--------------------+--------------------+------------------+-----------+------------+--------------+--------------------+\n",
            "\n",
            "None\n"
          ]
        }
      ],
      "source": [
        "# Datasets info\n",
        "get_general_info_datasets(train_df)"
      ]
    },
    {
      "cell_type": "markdown",
      "metadata": {
        "id": "oUs20QVem_l5"
      },
      "source": [
        "# Transformacao de dados"
      ]
    },
    {
      "cell_type": "markdown",
      "metadata": {
        "id": "bJ7Y0_NjCFEd"
      },
      "source": [
        "Duas colunas nao existem nos dados de teste: o target **isCbk** e a coluna **cbkDate**. A primeira, preencheremos a medida que disponibilizarmos os resultados da predicao. Enquanto que a segunda poderiamos excluir porem optamos em manter pelo menos provisoriamente pensando que ela possa eventualmente ser util para nos ajudar a compor alguma outra variavel presente no dataset.\n",
        "\n",
        "A avaliacao abaixo e necessaria para garantirmos que ao tentar prever o fenomeno tenhamos acesso as variveis do mundo real."
      ]
    },
    {
      "cell_type": "code",
      "execution_count": 6,
      "metadata": {
        "colab": {
          "base_uri": "https://localhost:8080/"
        },
        "id": "kRT_tWxLCB9s",
        "outputId": "2f732c03-4e6f-4354-c4c3-29afc13e6584"
      },
      "outputs": [
        {
          "output_type": "execute_result",
          "data": {
            "text/plain": [
              "{'cbkDate', 'isCbk'}"
            ]
          },
          "metadata": {},
          "execution_count": 6
        }
      ],
      "source": [
        "# checando features que nao estao presentes nos datasets\n",
        "load_all_cols = set(train_df.columns).union(test_df.columns).union(val_df.columns)\n",
        "common_cols = set(train_df.columns).intersection(test_df.columns).intersection(val_df.columns)\n",
        "distinct_cols = load_all_cols - common_cols\n",
        "distinct_cols"
      ]
    },
    {
      "cell_type": "code",
      "execution_count": 7,
      "metadata": {
        "id": "q_1yGgtjhtUg"
      },
      "outputs": [],
      "source": [
        "# criando as duas colunas no teste apenas para facilitar na execucao das etapas seguintes\n",
        "test_df_add = test_df.withColumn(\"cbkDate\", F.lit('-')) \\\n",
        "        .withColumn(\"isCbk\", F.lit(None))"
      ]
    },
    {
      "cell_type": "code",
      "execution_count": 8,
      "metadata": {
        "id": "bHw9mTY1m-fo"
      },
      "outputs": [],
      "source": [
        "# substituindo registros nao preenchidos\n",
        "train_df_cleaned = fill_null_columns(train_df)\n",
        "val_df_cleaned = fill_null_columns(val_df)\n",
        "test_df_cleaned = fill_null_columns(test_df_add)"
      ]
    },
    {
      "cell_type": "code",
      "execution_count": 9,
      "metadata": {
        "colab": {
          "base_uri": "https://localhost:8080/"
        },
        "id": "Md19FQcVeAkS",
        "outputId": "44e4dc5e-72af-432d-d4f1-978fcce7606b"
      },
      "outputs": [
        {
          "output_type": "stream",
          "name": "stdout",
          "text": [
            "+-----------------+-------+-----------------+----------+-----------------+--------------+--------------+-----------+-----------------+-----------+-----------+------------+--------------+-----+-------+---+\n",
            "|fakeTransactionId|logDate|fakeCustomerEmail|fakeCardId|fakeCustomerPhone|fakeCustomerIp|fakeBillingZip|customerDob|customerCreatedAt|totalAmount|billingCity|billingState|billingCountry|isCbk|cbkDate| dt|\n",
            "+-----------------+-------+-----------------+----------+-----------------+--------------+--------------+-----------+-----------------+-----------+-----------+------------+--------------+-----+-------+---+\n",
            "|                0|      0|                0|         0|                0|             0|             0|          0|                0|          0|          0|           0|             0|    0|      0|  0|\n",
            "+-----------------+-------+-----------------+----------+-----------------+--------------+--------------+-----------+-----------------+-----------+-----------+------------+--------------+-----+-------+---+\n",
            "\n",
            "None\n",
            "+-----------------+-------+-----------------+----------+-----------------+--------------+--------------+-----------+-----------------+-----------+-----------+------------+--------------+-----+-------+---+\n",
            "|fakeTransactionId|logDate|fakeCustomerEmail|fakeCardId|fakeCustomerPhone|fakeCustomerIp|fakeBillingZip|customerDob|customerCreatedAt|totalAmount|billingCity|billingState|billingCountry|isCbk|cbkDate| dt|\n",
            "+-----------------+-------+-----------------+----------+-----------------+--------------+--------------+-----------+-----------------+-----------+-----------+------------+--------------+-----+-------+---+\n",
            "|                0|      0|                0|         0|                0|             0|             0|          0|                0|          0|          0|           0|             0|    0|      0|  0|\n",
            "+-----------------+-------+-----------------+----------+-----------------+--------------+--------------+-----------+-----------------+-----------+-----------+------------+--------------+-----+-------+---+\n",
            "\n",
            "None\n",
            "+-----------------+-------+-----------------+----------+-----------------+--------------+--------------+-----------+-----------------+-----------+-----------+------------+--------------+---+-------+-----+\n",
            "|fakeTransactionId|logDate|fakeCustomerEmail|fakeCardId|fakeCustomerPhone|fakeCustomerIp|fakeBillingZip|customerDob|customerCreatedAt|totalAmount|billingCity|billingState|billingCountry| dt|cbkDate|isCbk|\n",
            "+-----------------+-------+-----------------+----------+-----------------+--------------+--------------+-----------+-----------------+-----------+-----------+------------+--------------+---+-------+-----+\n",
            "|                0|      0|                0|         0|                0|             0|             0|          0|                0|          0|          0|           0|             0|  0|   2835| 2835|\n",
            "+-----------------+-------+-----------------+----------+-----------------+--------------+--------------+-----------+-----------------+-----------+-----------+------------+--------------+---+-------+-----+\n",
            "\n",
            "None\n"
          ]
        }
      ],
      "source": [
        "checkup_dataset(train_df_cleaned)\n",
        "checkup_dataset(val_df_cleaned)\n",
        "checkup_dataset(test_df_cleaned)"
      ]
    },
    {
      "cell_type": "markdown",
      "metadata": {
        "id": "FQRr79rncr3b"
      },
      "source": [
        "Aplicando as transformacoes minimas"
      ]
    },
    {
      "cell_type": "code",
      "execution_count": 10,
      "metadata": {
        "id": "TJm_xLloA9vQ"
      },
      "outputs": [],
      "source": [
        "train_df_cleaned_transf = get_transformation_to_string(train_df_cleaned, columns=['isCbk'])\n",
        "val_df_cleaned_transf = get_transformation_to_string(val_df_cleaned, columns=['isCbk'])\n",
        "test_df_cleaned_transf = get_transformation_to_string(test_df_cleaned, columns=['isCbk'])"
      ]
    },
    {
      "cell_type": "markdown",
      "metadata": {
        "id": "mPcO25IKZD6J"
      },
      "source": [
        "Salvando os resultados intermediarios..."
      ]
    },
    {
      "cell_type": "code",
      "execution_count": 11,
      "metadata": {
        "id": "Wfo8KGO9bGTQ"
      },
      "outputs": [],
      "source": [
        "save_csv_into_spark(train_df_cleaned_transf, 'eda_data/train_df_cleaned_transf.csv')\n",
        "save_csv_into_spark(val_df_cleaned_transf, 'eda_data/val_df_cleaned_transf.csv')\n",
        "save_csv_into_spark(test_df_cleaned_transf, 'eda_data/test_df_cleaned_transf.csv')"
      ]
    },
    {
      "cell_type": "markdown",
      "metadata": {
        "id": "jbO724hFTKYz"
      },
      "source": [
        "# EDA basico"
      ]
    },
    {
      "cell_type": "code",
      "execution_count": 12,
      "metadata": {
        "id": "ZYedPdFVQylT"
      },
      "outputs": [],
      "source": [
        "# file_names = ['eda_data/train_df_cleaned_transf.csv', 'eda_data/val_df_cleaned_transf.csv','eda_data/test_df_cleaned_transf.csv']\n",
        "# Carga de dados\n",
        "# train_eda, val_eda, test_eda = [read_csv_into_spark(f) for f in files_names]\n",
        "train_eda, val_eda, test_eda = train_df_cleaned_transf, val_df_cleaned_transf, test_df_cleaned_transf"
      ]
    },
    {
      "cell_type": "markdown",
      "metadata": {
        "id": "X5NwWzw2mgXz"
      },
      "source": [
        "Avaliando a cardinalidade das features categoricas. E possivel notar que tanto **fakeTransactionId** quanto **logDate** do jeito que estao nos fornecem pouca informacao sobre o evento. Porem, a segunda pode nos ajudar no trabalho de enriquecimento de features. **Billing Country** tem valores constantes e tambem podemos remover."
      ]
    },
    {
      "cell_type": "code",
      "execution_count": 13,
      "metadata": {
        "colab": {
          "base_uri": "https://localhost:8080/"
        },
        "id": "-p8I6qT8jz7g",
        "outputId": "8d58bfcb-4543-4688-e26b-39aa7cbe8cc5"
      },
      "outputs": [
        {
          "output_type": "stream",
          "name": "stdout",
          "text": [
            "Treino=2826\n",
            "Validacao=2828\n",
            "Teste=2835\n",
            "> Listando eventos unicos ...\n",
            "Row(fakeTransactionId=2826, logDate=2823, fakeCustomerEmail=315, fakeCardId=622, fakeCustomerPhone=407, fakeCustomerIp=338, fakeBillingZip=382, customerDob=368, customerCreatedAt=290, totalAmount=716, billingCity=174, billingState=25, billingCountry=1, isCbk=2, cbkDate=27, dt=37)\n",
            "Row(fakeTransactionId=2828, logDate=2826, fakeCustomerEmail=315, fakeCardId=581, fakeCustomerPhone=370, fakeCustomerIp=259, fakeBillingZip=361, customerDob=357, customerCreatedAt=282, totalAmount=588, billingCity=166, billingState=26, billingCountry=1, isCbk=2, cbkDate=29, dt=37)\n",
            "Row(fakeTransactionId=2835, logDate=2829, fakeCustomerEmail=315, fakeCardId=455, fakeCustomerPhone=350, fakeCustomerIp=101, fakeBillingZip=339, customerDob=402, customerCreatedAt=270, totalAmount=248, billingCity=192, billingState=28, billingCountry=1, dt=33, cbkDate=0, isCbk=0)\n"
          ]
        }
      ],
      "source": [
        "print('Treino={}'.format(train_eda.count()))\n",
        "print('Validacao={}'.format(val_eda.count()))\n",
        "print('Teste={}'.format(test_eda.count()))\n",
        "print('> Listando eventos unicos ...')\n",
        "print(train_eda.agg(*(F.countDistinct(F.col(col)).alias(col) for col in train_eda.columns)).collect()[0])\n",
        "print(val_eda.agg(*(F.countDistinct(F.col(col)).alias(col) for col in val_eda.columns)).collect()[0])\n",
        "print(test_eda.agg(*(F.countDistinct(F.col(col)).alias(col) for col in test_eda.columns)).collect()[0])"
      ]
    },
    {
      "cell_type": "markdown",
      "metadata": {
        "id": "oTAR65WmxMbB"
      },
      "source": [
        "Compreendendo a relacao das features com o target. Abaixo notamos que o target de fato e extremamente desbalanceado com cenario identico nos datasets de treino e validacao."
      ]
    },
    {
      "cell_type": "code",
      "execution_count": 14,
      "metadata": {
        "colab": {
          "base_uri": "https://localhost:8080/"
        },
        "id": "kO89-kUAxITE",
        "outputId": "2fc47b39-8cdc-45fa-eaf6-f2ff8ead0829"
      },
      "outputs": [
        {
          "output_type": "stream",
          "name": "stdout",
          "text": [
            "+-----+----+--------------------+\n",
            "|isCbk| Tot|                Prop|\n",
            "+-----+----+--------------------+\n",
            "|    0|2757|   0.975583864118896|\n",
            "|    1|  69|0.024416135881104035|\n",
            "+-----+----+--------------------+\n",
            "\n",
            "+-----+----+--------------------+\n",
            "|isCbk| Tot|                Prop|\n",
            "+-----+----+--------------------+\n",
            "|    0|2760|  0.9759547383309759|\n",
            "|    1|  68|0.024045261669024046|\n",
            "+-----+----+--------------------+\n",
            "\n"
          ]
        }
      ],
      "source": [
        "df_prop_train = train_eda.groupBy('isCbk')\\\n",
        "                  .agg(F.count('isCbk').alias('Tot'),\n",
        "                      (F.count('isCbk') / train_eda.count()).alias('Prop')\n",
        ")\n",
        "df_prop_train.show()\n",
        "\n",
        "df_prop_val = val_eda.groupBy('isCbk')\\\n",
        "                      .agg(F.count('isCbk').alias('Tot'),\n",
        "                          (F.count('isCbk') / val_eda.count()).alias('Prop')\n",
        ")\n",
        "\n",
        "df_prop_val.show()\n",
        "\n",
        "# caso desejemos visualizar\n",
        "# df_prop_train = ps.DataFrame(df_prop_train)\n",
        "# df_prop_train.plot.pie(y='Prop')"
      ]
    },
    {
      "cell_type": "markdown",
      "metadata": {
        "id": "b9k1IAy563sZ"
      },
      "source": [
        "\n",
        "**Variaveis numericas**\n",
        "\n",
        "Gostariamos de investigar se ha alguma diferenca entre no evento de fraude vs nao fraude para as variaveis numericas. No nosso caso, a unica que temos e o valor de transacao. No conjunto de validacao as magnitudes mudam mas o comportamento e muito similar."
      ]
    },
    {
      "cell_type": "markdown",
      "metadata": {
        "id": "mSV_KMCFGe0Y"
      },
      "source": [
        "**Valor da transacao**"
      ]
    },
    {
      "cell_type": "code",
      "execution_count": 15,
      "metadata": {
        "colab": {
          "base_uri": "https://localhost:8080/"
        },
        "id": "OPUIC9AU7g5y",
        "outputId": "7058017a-a024-44ee-985c-43cb4f8cce5f"
      },
      "outputs": [
        {
          "output_type": "stream",
          "name": "stdout",
          "text": [
            "+-----+----+------------------+\n",
            "|isCbk|Med.|              Avg.|\n",
            "+-----+----+------------------+\n",
            "|    0|26.0|  87.6016938701475|\n",
            "|    1|80.2|122.88811594202902|\n",
            "+-----+----+------------------+\n",
            "\n",
            "+-----+------+------------------+\n",
            "|isCbk|  Med.|              Avg.|\n",
            "+-----+------+------------------+\n",
            "|    0|  34.9| 70.23455434782474|\n",
            "|    1|99.875|146.33632352941174|\n",
            "+-----+------+------------------+\n",
            "\n"
          ]
        }
      ],
      "source": [
        "train_eda.groupBy('isCbk')\\\n",
        "        .agg(F.median('totalAmount').alias('Med.'),\n",
        "             F.mean('totalAmount').alias('Avg.')).show()\n",
        "\n",
        "val_eda.groupBy('isCbk')\\\n",
        "        .agg(F.median('totalAmount').alias('Med.'),\n",
        "             F.mean('totalAmount').alias('Avg.')).show()"
      ]
    },
    {
      "cell_type": "markdown",
      "metadata": {
        "id": "TTi7RqC2FDho"
      },
      "source": [
        "Media e mediana indicam que o saldo e maior quando ha fraude. Em geral a distribuicao de ambos eventos eh similar na presenca dessa variavel. Mas dentro do evento fraude parece temos uma leve distribuicao bicaudal o que indica que a presenca de uma outra variavel pode ajudar a explicar melhor o fenomeno."
      ]
    },
    {
      "cell_type": "code",
      "execution_count": 16,
      "metadata": {
        "colab": {
          "base_uri": "https://localhost:8080/",
          "height": 472
        },
        "id": "_0ibyNoy_F4K",
        "outputId": "5f3b6260-585f-4981-99e7-a54536e0a1e5"
      },
      "outputs": [
        {
          "output_type": "display_data",
          "data": {
            "text/plain": [
              "<Figure size 640x480 with 1 Axes>"
            ],
            "image/png": "[encoded data removed]"
          },
          "metadata": {}
        }
      ],
      "source": [
        "sns.violinplot(x='isCbk', y='totalAmount', data=train_eda.toPandas().sort_values('isCbk'))\n",
        "plt.title(\"Distribuicao do saldo para cada um dos grupos\")\n",
        "plt.show()"
      ]
    },
    {
      "cell_type": "code",
      "execution_count": 17,
      "metadata": {
        "colab": {
          "base_uri": "https://localhost:8080/",
          "height": 472
        },
        "id": "wqZUUsn5I67R",
        "outputId": "455ad738-b0e6-44d0-8691-0e69573b88d8"
      },
      "outputs": [
        {
          "output_type": "display_data",
          "data": {
            "text/plain": [
              "<Figure size 640x480 with 1 Axes>"
            ],
            "image/png": "[encoded data removed]"
          },
          "metadata": {}
        }
      ],
      "source": [
        "sns.violinplot(x='isCbk', y='totalAmount', data=val_eda.toPandas().sort_values('isCbk'))\n",
        "plt.title(\"Distribuicao do saldo para cada um dos grupos\")\n",
        "plt.show()"
      ]
    },
    {
      "cell_type": "markdown",
      "metadata": {
        "id": "RN1QtkShGiSo"
      },
      "source": [
        "**Variaveis categoricas**"
      ]
    },
    {
      "cell_type": "markdown",
      "metadata": {
        "id": "3tBRCPipH_72"
      },
      "source": [
        "Dentro do universo categorico vamos comecar explorando as features espaciais."
      ]
    },
    {
      "cell_type": "markdown",
      "metadata": {
        "id": "WQpC19EYS5NT"
      },
      "source": [
        "**Estado de cobranca do titular**"
      ]
    },
    {
      "cell_type": "code",
      "execution_count": 18,
      "metadata": {
        "id": "dZ6ufwu7R0IT"
      },
      "outputs": [],
      "source": [
        "# train_eda.filter(F.col('billingState')=='Sem preenchimento').show()"
      ]
    },
    {
      "cell_type": "markdown",
      "metadata": {
        "id": "QegPD5XIVG6Q"
      },
      "source": [
        "Estados situados no Norte, Nordeste e Sul lideram o ranking de casos de fraude."
      ]
    },
    {
      "cell_type": "code",
      "execution_count": 19,
      "metadata": {
        "colab": {
          "base_uri": "https://localhost:8080/"
        },
        "id": "xkhh_bANIn8o",
        "outputId": "f9a2a71c-8ea2-4f5f-9541-5678ea5f09d2"
      },
      "outputs": [
        {
          "output_type": "stream",
          "name": "stdout",
          "text": [
            "+------------+----+----+-----+\n",
            "|billingState| tot|soma| Prop|\n",
            "+------------+----+----+-----+\n",
            "|          AC|   6| 3.0| 50.0|\n",
            "|          TO|  15| 7.0|46.67|\n",
            "|          PI|  12| 3.0| 25.0|\n",
            "|          SC| 124|10.0| 8.06|\n",
            "|          RS| 153|10.0| 6.54|\n",
            "|          BA| 135| 5.0|  3.7|\n",
            "|          PE| 124| 4.0| 3.23|\n",
            "|          RJ| 284| 9.0| 3.17|\n",
            "|          MG| 224| 5.0| 2.23|\n",
            "|          ES|  64| 1.0| 1.56|\n",
            "|          SP|1012|12.0| 1.19|\n",
            "|          RO|  27| 0.0|  0.0|\n",
            "|          AM|  18| 0.0|  0.0|\n",
            "|          GO|  90| 0.0|  0.0|\n",
            "|          MT|   9| 0.0|  0.0|\n",
            "|          PB|  27| 0.0|  0.0|\n",
            "|          MS|  18| 0.0|  0.0|\n",
            "|          AL|  20| 0.0|  0.0|\n",
            "|          PA|  54| 0.0|  0.0|\n",
            "|          SE|   9| 0.0|  0.0|\n",
            "|          CE|  90| 0.0|  0.0|\n",
            "|          RN|   9| 0.0|  0.0|\n",
            "|          DF|  68| 0.0|  0.0|\n",
            "|          PR| 216| 0.0|  0.0|\n",
            "+------------+----+----+-----+\n",
            "\n"
          ]
        }
      ],
      "source": [
        "table_prop = train_eda.groupBy('billingState')\\\n",
        "          .agg(F.count('isCbk').alias('tot'),\n",
        "               F.sum('isCbk').alias('soma')) \\\n",
        "          .withColumn(\n",
        "              'Prop', F.round((F.col('soma') / F.col('tot'))*100,2))\n",
        "\n",
        "table_prop\\\n",
        "  .filter(F.col('billingState')!='Sem preenchimento')\\\n",
        "  .orderBy(F.desc('Prop'))\\\n",
        "  .show(30)"
      ]
    },
    {
      "cell_type": "markdown",
      "metadata": {
        "id": "Cz2I1Ck3V6iu"
      },
      "source": [
        "**Cidade de cobranca do titular**"
      ]
    },
    {
      "cell_type": "markdown",
      "metadata": {
        "id": "Ug3zayIRUFXm"
      },
      "source": [
        "Perda de informacoes relevante por nao termos cidades com registros preenchidos. Existem algumas opcoes a mesa que poderiamos utilizar na etapa de feature engineering como, por exemplo, rotular registros com base nas informacoes do estado aumentando o numero de exemplos disponiveis em cada cidade utilizando alguma estrategia de labelling como preencher com base na cidade mais frequente. Tambem temos a opcao de deixar como esta assumindo que o nao preenchimento desse campo ja representa  por si so um padrao disponiveis que pdoe ser util na modelagem."
      ]
    },
    {
      "cell_type": "code",
      "execution_count": 20,
      "metadata": {
        "colab": {
          "base_uri": "https://localhost:8080/"
        },
        "id": "f7-CfnfmW6IH",
        "outputId": "5d7cac8f-9309-49fb-e16e-f4ae660698ba"
      },
      "outputs": [
        {
          "output_type": "stream",
          "name": "stdout",
          "text": [
            "+--------------------+-------------------+--------------------+--------------------+--------------------+-----------------+--------------------+-----------+-----------------+-----------+-----------------+------------+--------------+-----+----------+----------+\n",
            "|   fakeTransactionId|            logDate|   fakeCustomerEmail|          fakeCardId|   fakeCustomerPhone|   fakeCustomerIp|      fakeBillingZip|customerDob|customerCreatedAt|totalAmount|      billingCity|billingState|billingCountry|isCbk|   cbkDate|        dt|\n",
            "+--------------------+-------------------+--------------------+--------------------+--------------------+-----------------+--------------------+-----------+-----------------+-----------+-----------------+------------+--------------+-----+----------+----------+\n",
            "|063fa90a-6338-46c...|2021-05-16 00:32:29|091acc56-a4ea-4b0...|f9880882-26bd-450...|a7d10b70-0796-484...|Sem preenchimento|0e6f1728-b515-4dd...| 1991-11-12|       2021-01-29|      59.22|Sem preenchimento|          SP|            BR|    0|1900-01-01|2021-05-16|\n",
            "|b975537c-ffd2-439...|2021-05-16 00:31:40|091acc56-a4ea-4b0...|f9880882-26bd-450...|a7d10b70-0796-484...|Sem preenchimento|0e6f1728-b515-4dd...| 1991-11-12|       2021-01-29|      99.38|Sem preenchimento|          SP|            BR|    0|1900-01-01|2021-05-16|\n",
            "|ffbff841-49d8-422...|2021-05-16 00:33:04|091acc56-a4ea-4b0...|f9880882-26bd-450...|a7d10b70-0796-484...|Sem preenchimento|0e6f1728-b515-4dd...| 1991-11-12|       2021-01-29|      19.07|Sem preenchimento|          SP|            BR|    0|1900-01-01|2021-05-16|\n",
            "+--------------------+-------------------+--------------------+--------------------+--------------------+-----------------+--------------------+-----------+-----------------+-----------+-----------------+------------+--------------+-----+----------+----------+\n",
            "only showing top 3 rows\n",
            "\n"
          ]
        }
      ],
      "source": [
        "train_eda.filter(F.col('billingCity')=='Sem preenchimento').show(3)"
      ]
    },
    {
      "cell_type": "code",
      "execution_count": 21,
      "metadata": {
        "colab": {
          "base_uri": "https://localhost:8080/"
        },
        "id": "iIyqbP4pO7tn",
        "outputId": "21bb0d84-0013-4f34-f14b-7206b23fa64d"
      },
      "outputs": [
        {
          "output_type": "stream",
          "name": "stdout",
          "text": [
            "+-----------------+---+----+-----+\n",
            "|     billingState|tot|soma| Prop|\n",
            "+-----------------+---+----+-----+\n",
            "|               PI|  3| 3.0|100.0|\n",
            "|               TO|  6| 2.0|33.33|\n",
            "|               BA| 18| 5.0|27.78|\n",
            "|               RS| 44| 5.0|11.36|\n",
            "|               SC| 54| 5.0| 9.26|\n",
            "|               MG| 70| 5.0| 7.14|\n",
            "|               SP|276| 8.0|  2.9|\n",
            "|               AM|  9| 0.0|  0.0|\n",
            "|               GO| 36| 0.0|  0.0|\n",
            "|Sem preenchimento| 18| 0.0|  0.0|\n",
            "|               ES|  4| 0.0|  0.0|\n",
            "|               MS| 16| 0.0|  0.0|\n",
            "|               AL|  9| 0.0|  0.0|\n",
            "|               PA|  9| 0.0|  0.0|\n",
            "|               PE| 23| 0.0|  0.0|\n",
            "|               CE| 36| 0.0|  0.0|\n",
            "|               RJ| 91| 0.0|  0.0|\n",
            "|               DF| 18| 0.0|  0.0|\n",
            "|               PR| 44| 0.0|  0.0|\n",
            "+-----------------+---+----+-----+\n",
            "\n"
          ]
        }
      ],
      "source": [
        "train_eda.filter(F.col('billingCity')=='Sem preenchimento')\\\n",
        "        .groupBy('billingState')\\\n",
        "        .agg(F.count('billingState').alias('tot'),\n",
        "            F.sum('isCbk').alias('soma')) \\\n",
        "        .withColumn('Prop', F.round((F.col('soma') / F.col('tot'))*100,2))\\\n",
        "        .orderBy(F.desc('Prop'))\\\n",
        "        .show()"
      ]
    },
    {
      "cell_type": "markdown",
      "metadata": {
        "id": "s3kSzXcGWvW7"
      },
      "source": [
        "Avaliando a frequencia/proporcao de registros por cidade."
      ]
    },
    {
      "cell_type": "code",
      "execution_count": 22,
      "metadata": {
        "colab": {
          "base_uri": "https://localhost:8080/"
        },
        "id": "5m5nudPXIn0W",
        "outputId": "04e8eb70-6de5-4334-8e43-935439f4c907"
      },
      "outputs": [
        {
          "output_type": "stream",
          "name": "stdout",
          "text": [
            "+--------------------+---+----+-----+\n",
            "|         billingCity|tot|soma| Prop|\n",
            "+--------------------+---+----+-----+\n",
            "|          sao mateus|  7| 4.0|57.14|\n",
            "|                taio|  9| 5.0|55.56|\n",
            "|              palmas|  9| 5.0|55.56|\n",
            "|        porto alegre| 17| 5.0|29.41|\n",
            "|             diadema| 24| 4.0|16.67|\n",
            "|              recife| 43| 4.0|  9.3|\n",
            "|      rio de janeiro| 99| 9.0| 9.09|\n",
            "|   Sem preenchimento|784|33.0| 4.21|\n",
            "|           igrejinha|  9| 0.0|  0.0|\n",
            "|  cachoeira paulista|  9| 0.0|  0.0|\n",
            "|            itanhaem|  9| 0.0|  0.0|\n",
            "|              araras|  9| 0.0|  0.0|\n",
            "|             solanea|  9| 0.0|  0.0|\n",
            "|              santos|  6| 0.0|  0.0|\n",
            "|          votorantim|  9| 0.0|  0.0|\n",
            "|              trairi|  9| 0.0|  0.0|\n",
            "|conselheiro lafaiete|  9| 0.0|  0.0|\n",
            "|      venancio aires|  9| 0.0|  0.0|\n",
            "|           aparecida|  9| 0.0|  0.0|\n",
            "|         teresopolis|  9| 0.0|  0.0|\n",
            "|      antonio carlos|  2| 0.0|  0.0|\n",
            "|                  rj|  4| 0.0|  0.0|\n",
            "|             pelotas|  9| 0.0|  0.0|\n",
            "|          santa rosa| 18| 0.0|  0.0|\n",
            "|            trindade|  9| 0.0|  0.0|\n",
            "|     sapucaia do sul|  9| 0.0|  0.0|\n",
            "|sao bernardo do c...| 18| 0.0|  0.0|\n",
            "|              itajai|  4| 0.0|  0.0|\n",
            "|           ceilandia|  7| 0.0|  0.0|\n",
            "|           fortaleza| 18| 0.0|  0.0|\n",
            "+--------------------+---+----+-----+\n",
            "only showing top 30 rows\n",
            "\n"
          ]
        }
      ],
      "source": [
        "table_prop = train_eda.groupBy('billingCity')\\\n",
        "          .agg(F.count('isCbk').alias('tot'),\n",
        "               F.sum('isCbk').alias('soma')) \\\n",
        "          .withColumn(\n",
        "              'Prop', F.round((F.col('soma') / F.col('tot'))*100,2))\n",
        "\n",
        "table_prop.orderBy(F.desc('Prop')).show(30)"
      ]
    },
    {
      "cell_type": "markdown",
      "metadata": {
        "id": "GLd6Ex73XEU5"
      },
      "source": [
        "**Data de criacao de conta (cliente)**"
      ]
    },
    {
      "cell_type": "markdown",
      "metadata": {
        "id": "o_3BqXvzc5hx"
      },
      "source": [
        "Faremos breves analises em variaveis de data, porem esse tipo de dado representa uma riqueza muito grande na por ser uma variavel composta com padroes autocontidos ou mesmo que podem ser combinados a outras variaveis de data presentes no dataset. O foco nesse case nao e fazer uma analise profunda buscando por interrelacoes mas apenas compreender o que temos em maos antes da modelagem."
      ]
    },
    {
      "cell_type": "code",
      "execution_count": 23,
      "metadata": {
        "colab": {
          "base_uri": "https://localhost:8080/"
        },
        "id": "nrhFU4swW4UE",
        "outputId": "8fbd2d55-93b9-464d-e879-d04c47b7b369"
      },
      "outputs": [
        {
          "output_type": "execute_result",
          "data": {
            "text/plain": [
              "DataFrame[customerCreatedAt: date]"
            ]
          },
          "metadata": {},
          "execution_count": 23
        }
      ],
      "source": [
        "train_eda.select('customerCreatedAt').distinct()"
      ]
    },
    {
      "cell_type": "markdown",
      "metadata": {
        "id": "nmfQbso7j7-t"
      },
      "source": [
        "Contagem do numero de eventos fraudulentos para contas criadas no mesmo dia."
      ]
    },
    {
      "cell_type": "code",
      "execution_count": 24,
      "metadata": {
        "colab": {
          "base_uri": "https://localhost:8080/"
        },
        "id": "grg6DDwEaw3-",
        "outputId": "afefce2a-2867-4eee-8eb0-66c95a9bb8fc"
      },
      "outputs": [
        {
          "output_type": "stream",
          "name": "stdout",
          "text": [
            "+-----------------+---+----+-----+\n",
            "|customerCreatedAt|tot|soma| Prop|\n",
            "+-----------------+---+----+-----+\n",
            "|       2020-09-04|  9| 5.0|55.56|\n",
            "|       2021-05-10|  9| 5.0|55.56|\n",
            "|       2017-09-19|  9| 5.0|55.56|\n",
            "|       2017-12-30|  9| 5.0|55.56|\n",
            "|       2020-10-22|  9| 5.0|55.56|\n",
            "|       2021-05-22|  9| 5.0|55.56|\n",
            "|       2019-10-06|  9| 5.0|55.56|\n",
            "|       2021-05-02|  9| 5.0|55.56|\n",
            "|       2021-05-25|  9| 5.0|55.56|\n",
            "|       2021-04-28|  8| 4.0| 50.0|\n",
            "|       2019-09-20|  9| 4.0|44.44|\n",
            "|       2021-05-26| 23| 8.0|34.78|\n",
            "|       2020-12-12| 16| 4.0| 25.0|\n",
            "|       2015-01-21| 16| 4.0| 25.0|\n",
            "|       2019-06-04|  9| 0.0|  0.0|\n",
            "|       2015-05-19|  9| 0.0|  0.0|\n",
            "|       2018-10-05|  9| 0.0|  0.0|\n",
            "|       2015-04-09|  9| 0.0|  0.0|\n",
            "|       2020-08-28|  9| 0.0|  0.0|\n",
            "|       2021-05-12|  9| 0.0|  0.0|\n",
            "|       2015-03-12|  9| 0.0|  0.0|\n",
            "|       2017-06-29|  9| 0.0|  0.0|\n",
            "|       2017-09-29|  9| 0.0|  0.0|\n",
            "|       2019-01-08| 18| 0.0|  0.0|\n",
            "|       2017-12-02|  9| 0.0|  0.0|\n",
            "|       2019-10-05|  9| 0.0|  0.0|\n",
            "|       2017-12-25|  9| 0.0|  0.0|\n",
            "|       2020-12-17|  9| 0.0|  0.0|\n",
            "|       2021-05-03|  9| 0.0|  0.0|\n",
            "|       2019-04-28|  9| 0.0|  0.0|\n",
            "+-----------------+---+----+-----+\n",
            "only showing top 30 rows\n",
            "\n"
          ]
        }
      ],
      "source": [
        "table_prop = train_eda.groupBy('customerCreatedAt')\\\n",
        "          .agg(F.count('isCbk').alias('tot'),\n",
        "               F.sum('isCbk').alias('soma')) \\\n",
        "          .withColumn(\n",
        "              'Prop', F.round((F.col('soma') / F.col('tot'))*100,2))\n",
        "\n",
        "table_prop.orderBy(F.desc('Prop')).show(30)"
      ]
    },
    {
      "cell_type": "markdown",
      "metadata": {
        "id": "-F_qMtMhmugW"
      },
      "source": [
        "Ano de 2021 registrou maior numero de contas criadas com registros de eventos fraudulentos.\n"
      ]
    },
    {
      "cell_type": "code",
      "execution_count": 25,
      "metadata": {
        "colab": {
          "base_uri": "https://localhost:8080/"
        },
        "id": "PyVaANLfkLkQ",
        "outputId": "05213eba-5faf-448b-c6c1-a143a59e6d3d"
      },
      "outputs": [
        {
          "output_type": "stream",
          "name": "stdout",
          "text": [
            "+----------------------+-----------+----+----+\n",
            "|year_customerCreatedAt|tot_eventos|soma|Prop|\n",
            "+----------------------+-----------+----+----+\n",
            "|                  2013|          9| 0.0| 0.0|\n",
            "|                  2014|        144| 0.0| 0.0|\n",
            "|                  2015|        205| 4.0|1.95|\n",
            "|                  2016|        207| 0.0| 0.0|\n",
            "|                  2017|        441|10.0|2.27|\n",
            "|                  2018|        432| 0.0| 0.0|\n",
            "|                  2019|        405| 9.0|2.22|\n",
            "|                  2020|        502|14.0|2.79|\n",
            "|                  2021|        481|32.0|6.65|\n",
            "+----------------------+-----------+----+----+\n",
            "\n"
          ]
        }
      ],
      "source": [
        "train_eda = train_eda.withColumn('year_customerCreatedAt', F.year(train_eda['customerCreatedAt']))\n",
        "train_eda.groupBy('year_customerCreatedAt')\\\n",
        "          .agg(F.count('isCbk').alias('tot_eventos'),\n",
        "               F.sum('isCbk').alias('soma'))\\\n",
        "          .withColumn(\n",
        "              'Prop', F.round((F.col('soma') / F.col('tot_eventos'))*100,2))\\\n",
        "          .orderBy('year_customerCreatedAt')\\\n",
        "          .show()"
      ]
    },
    {
      "cell_type": "markdown",
      "metadata": {
        "id": "YswoFrk9s-4m"
      },
      "source": [
        "Contas criadas nos meses Maio, Setembro, Outubro e Dezembro apontam um maior percentual de registros fraudulentos. Talvez isso tenha tambem alguma relacao com o calendario varejista. De repente, podemos ter uma feature relavante."
      ]
    },
    {
      "cell_type": "code",
      "execution_count": 26,
      "metadata": {
        "colab": {
          "base_uri": "https://localhost:8080/"
        },
        "id": "B_iMCoVQkLfc",
        "outputId": "b5f45cbc-620e-4c93-cf58-0a733635eae0"
      },
      "outputs": [
        {
          "output_type": "stream",
          "name": "stdout",
          "text": [
            "+-----------------------+-----------+----+----+\n",
            "|month_customerCreatedAt|tot_eventos|soma|Prop|\n",
            "+-----------------------+-----------+----+----+\n",
            "|                      1|        268| 4.0|1.49|\n",
            "|                      2|        189| 0.0| 0.0|\n",
            "|                      3|        207| 0.0| 0.0|\n",
            "|                      4|        260| 4.0|1.54|\n",
            "|                      5|        419|28.0|6.68|\n",
            "|                      6|        180| 0.0| 0.0|\n",
            "|                      7|        171| 0.0| 0.0|\n",
            "|                      8|        180| 0.0| 0.0|\n",
            "|                      9|        198|14.0|7.07|\n",
            "|                     10|        234|10.0|4.27|\n",
            "|                     11|        279| 0.0| 0.0|\n",
            "|                     12|        241| 9.0|3.73|\n",
            "+-----------------------+-----------+----+----+\n",
            "\n"
          ]
        }
      ],
      "source": [
        "train_eda = train_eda.withColumn('month_customerCreatedAt', F.month(train_eda['customerCreatedAt']))\n",
        "train_eda.groupBy('month_customerCreatedAt')\\\n",
        "          .agg(F.count('isCbk').alias('tot_eventos'),\n",
        "               F.sum('isCbk').alias('soma'))\\\n",
        "          .withColumn(\n",
        "              'Prop', F.round((F.col('soma') / F.col('tot_eventos'))*100,2))\\\n",
        "          .orderBy('month_customerCreatedAt')\\\n",
        "          .show()"
      ]
    },
    {
      "cell_type": "markdown",
      "metadata": {
        "id": "kHSiCzc4vAjt"
      },
      "source": [
        "Notamos que contas criadas em alguns dias especificos do mes tiveram uma proporcao maior de eventos positivos. Bem como existem alguns dias com 0 sinistralidade."
      ]
    },
    {
      "cell_type": "code",
      "execution_count": 27,
      "metadata": {
        "colab": {
          "base_uri": "https://localhost:8080/"
        },
        "id": "qQv7g5vKugrL",
        "outputId": "cd67b222-3322-4872-fc01-3913d805b565"
      },
      "outputs": [
        {
          "output_type": "stream",
          "name": "stdout",
          "text": [
            "+---------------------+-----------+----+----+\n",
            "|day_customerCreatedAt|tot_eventos|soma|Prop|\n",
            "+---------------------+-----------+----+----+\n",
            "|                    1|         54| 0.0| 0.0|\n",
            "|                    2|        126| 5.0|3.97|\n",
            "|                    3|         99| 0.0| 0.0|\n",
            "|                    4|        108| 5.0|4.63|\n",
            "|                    5|         54| 0.0| 0.0|\n",
            "|                    6|         72| 5.0|6.94|\n",
            "|                    7|         99| 0.0| 0.0|\n",
            "|                    8|        135| 0.0| 0.0|\n",
            "|                    9|         99| 0.0| 0.0|\n",
            "|                   10|         81| 5.0|6.17|\n",
            "|                   11|         72| 0.0| 0.0|\n",
            "|                   12|        106| 4.0|3.77|\n",
            "|                   13|         99| 0.0| 0.0|\n",
            "|                   14|         99| 0.0| 0.0|\n",
            "|                   15|        108| 0.0| 0.0|\n",
            "|                   16|        135| 0.0| 0.0|\n",
            "|                   17|        108| 0.0| 0.0|\n",
            "|                   18|         45| 0.0| 0.0|\n",
            "|                   19|         72| 5.0|6.94|\n",
            "|                   20|         54| 4.0|7.41|\n",
            "|                   21|         88| 4.0|4.55|\n",
            "|                   22|         99|10.0|10.1|\n",
            "|                   23|         27| 0.0| 0.0|\n",
            "|                   24|        108| 0.0| 0.0|\n",
            "|                   25|        126| 5.0|3.97|\n",
            "|                   26|         95| 8.0|8.42|\n",
            "|                   27|         72| 0.0| 0.0|\n",
            "|                   28|        134| 4.0|2.99|\n",
            "|                   29|         90| 0.0| 0.0|\n",
            "|                   30|        117| 5.0|4.27|\n",
            "|                   31|         45| 0.0| 0.0|\n",
            "+---------------------+-----------+----+----+\n",
            "\n"
          ]
        }
      ],
      "source": [
        "train_eda = train_eda.withColumn('day_customerCreatedAt', F.day(train_eda['customerCreatedAt']))\n",
        "train_eda.groupBy('day_customerCreatedAt')\\\n",
        "          .agg(F.count('isCbk').alias('tot_eventos'),\n",
        "               F.sum('isCbk').alias('soma'))\\\n",
        "          .withColumn(\n",
        "              'Prop', F.round((F.col('soma') / F.col('tot_eventos'))*100,2))\\\n",
        "          .orderBy('day_customerCreatedAt')\\\n",
        "          .show(31)"
      ]
    },
    {
      "cell_type": "markdown",
      "metadata": {
        "id": "yVmMvqDrwA3I"
      },
      "source": [
        "Por dia da semana"
      ]
    },
    {
      "cell_type": "code",
      "execution_count": 28,
      "metadata": {
        "colab": {
          "base_uri": "https://localhost:8080/"
        },
        "id": "HAw8VGEEvox6",
        "outputId": "8e8b2b18-947b-471d-c1e7-d09ce4888697"
      },
      "outputs": [
        {
          "output_type": "stream",
          "name": "stdout",
          "text": [
            "+------------------------+-----------+----+----+\n",
            "|semana_customerCreatedAt|tot_eventos|soma|Prop|\n",
            "+------------------------+-----------+----+----+\n",
            "|                       1|        315|10.0|3.17|\n",
            "|                       2|        369| 5.0|1.36|\n",
            "|                       3|        378|10.0|2.65|\n",
            "|                       4|        425|16.0|3.76|\n",
            "|                       5|        351| 5.0|1.42|\n",
            "|                       6|        468| 9.0|1.92|\n",
            "|                       7|        520|14.0|2.69|\n",
            "+------------------------+-----------+----+----+\n",
            "\n"
          ]
        }
      ],
      "source": [
        "train_eda = train_eda.withColumn('semana_customerCreatedAt', F.dayofweek(train_eda['customerCreatedAt']))\n",
        "train_eda.groupBy('semana_customerCreatedAt')\\\n",
        "          .agg(F.count('isCbk').alias('tot_eventos'),\n",
        "               F.sum('isCbk').alias('soma'))\\\n",
        "          .withColumn(\n",
        "              'Prop', F.round((F.col('soma') / F.col('tot_eventos'))*100,2))\\\n",
        "          .orderBy('semana_customerCreatedAt')\\\n",
        "          .show()"
      ]
    },
    {
      "cell_type": "markdown",
      "metadata": {
        "id": "7olHOD6KXf_A"
      },
      "source": [
        "**Data de ocorrencia da transacao**"
      ]
    },
    {
      "cell_type": "code",
      "execution_count": 29,
      "metadata": {
        "colab": {
          "base_uri": "https://localhost:8080/"
        },
        "id": "zdSDOw7Ia80Z",
        "outputId": "9bbf5ca8-6aa5-45d3-cb46-aefed530f6fb"
      },
      "outputs": [
        {
          "output_type": "stream",
          "name": "stdout",
          "text": [
            "+--------------------+-------------------+--------------------+--------------------+--------------------+--------------------+--------------------+-----------+-----------------+-----------+-----------+------------+--------------+-----+----------+----------+----------------------+-----------------------+---------------------+------------------------+\n",
            "|   fakeTransactionId|            logDate|   fakeCustomerEmail|          fakeCardId|   fakeCustomerPhone|      fakeCustomerIp|      fakeBillingZip|customerDob|customerCreatedAt|totalAmount|billingCity|billingState|billingCountry|isCbk|   cbkDate|        dt|year_customerCreatedAt|month_customerCreatedAt|day_customerCreatedAt|semana_customerCreatedAt|\n",
            "+--------------------+-------------------+--------------------+--------------------+--------------------+--------------------+--------------------+-----------+-----------------+-----------+-----------+------------+--------------+-----+----------+----------+----------------------+-----------------------+---------------------+------------------------+\n",
            "|cf4c77f6-5801-49d...|2021-05-18 12:21:28|85ec9123-a69d-436...|5b052ff2-4629-49f...|c4bb7b07-b8da-4b7...|   Sem preenchimento|6ae32c1a-1261-402...| 1997-08-02|       2015-11-03|       16.9| votorantim|          SP|            BR|    0|1900-01-01|2021-05-18|                  2015|                     11|                    3|                       3|\n",
            "|b0fdb54c-4e7b-4dc...|2021-05-19 15:09:01|85ec9123-a69d-436...|554fd2df-d204-4a3...|f93c90a0-79bf-432...|70705617-d1e4-447...|6ae32c1a-1261-402...| 1997-08-02|       2015-11-03|      34.84| votorantim|          SP|            BR|    0|1900-01-01|2021-05-19|                  2015|                     11|                    3|                       3|\n",
            "|673d50de-5736-4ff...|2021-05-19 15:08:21|85ec9123-a69d-436...|554fd2df-d204-4a3...|f93c90a0-79bf-432...|9f3ae108-9cd9-413...|6ae32c1a-1261-402...| 1997-08-02|       2015-11-03|      34.84| votorantim|          SP|            BR|    0|1900-01-01|2021-05-19|                  2015|                     11|                    3|                       3|\n",
            "+--------------------+-------------------+--------------------+--------------------+--------------------+--------------------+--------------------+-----------+-----------------+-----------+-----------+------------+--------------+-----+----------+----------+----------------------+-----------------------+---------------------+------------------------+\n",
            "only showing top 3 rows\n",
            "\n"
          ]
        }
      ],
      "source": [
        "train_eda.show(3)"
      ]
    },
    {
      "cell_type": "markdown",
      "metadata": {
        "id": "W4rDJkoecxvw"
      },
      "source": [
        "Todos os dados de data da transacao de sao do ano de 2021. Cujo periodo e de 25/04 a 31/05 desse mesmo ano. No dataset de validacao o periodo as observacoes estao entre 25/08 a 30/09. Enquanto que nos dados de teste o periodo e de 29/09 a 31/10. Em todos os casos janelas de pouco mais de 30 dias."
      ]
    },
    {
      "cell_type": "markdown",
      "metadata": {
        "id": "_J4LQVD6k4p_"
      },
      "source": [
        "Quinta e sexta-feira sao os **dias da semana** com menores indices de ocorrencia. Um aprofundamento mais interessante seria uma analise feature a feature das suas distribuicoes nos datasets de treino, validacao e teste o que estenderia essa analise mais do que precisamos nessa primeira interacao."
      ]
    },
    {
      "cell_type": "code",
      "execution_count": 30,
      "metadata": {
        "colab": {
          "base_uri": "https://localhost:8080/"
        },
        "id": "oaQcBH-TwOGq",
        "outputId": "71ca4f97-881f-482f-b559-778ea4cf6f74"
      },
      "outputs": [
        {
          "output_type": "stream",
          "name": "stdout",
          "text": [
            "+---------+-----------+----+----+\n",
            "|semana_dt|tot_eventos|soma|Prop|\n",
            "+---------+-----------+----+----+\n",
            "|        1|        399|13.0|3.26|\n",
            "|        2|        407| 9.0|2.21|\n",
            "|        3|        358|11.0|3.07|\n",
            "|        4|        529|18.0| 3.4|\n",
            "|        5|        329| 2.0|0.61|\n",
            "|        6|        414| 4.0|0.97|\n",
            "|        7|        390|12.0|3.08|\n",
            "+---------+-----------+----+----+\n",
            "\n"
          ]
        }
      ],
      "source": [
        "train_eda = train_eda.withColumn('semana_dt', F.dayofweek(train_eda['dt']))\n",
        "train_eda.groupBy('semana_dt')\\\n",
        "          .agg(F.count('isCbk').alias('tot_eventos'),\n",
        "               F.sum('isCbk').alias('soma'))\\\n",
        "          .withColumn(\n",
        "              'Prop', F.round((F.col('soma') / F.col('tot_eventos'))*100,2))\\\n",
        "          .orderBy('semana_dt')\\\n",
        "          .show()"
      ]
    },
    {
      "cell_type": "code",
      "execution_count": 31,
      "metadata": {
        "colab": {
          "base_uri": "https://localhost:8080/"
        },
        "id": "0Qem7QVYlx81",
        "outputId": "f99fc321-6daa-48b5-9aeb-2bfeaba814e2"
      },
      "outputs": [
        {
          "output_type": "stream",
          "name": "stdout",
          "text": [
            "+------+-----------+----+-----+\n",
            "|dia_dt|tot_eventos|soma| Prop|\n",
            "+------+-----------+----+-----+\n",
            "|     1|         62| 0.0|  0.0|\n",
            "|     2|         59| 1.0| 1.69|\n",
            "|     3|         73| 4.0| 5.48|\n",
            "|     4|         66| 0.0|  0.0|\n",
            "|     5|         65| 5.0| 7.69|\n",
            "|     6|         72| 1.0| 1.39|\n",
            "|     7|        158| 3.0|  1.9|\n",
            "|     8|        103| 0.0|  0.0|\n",
            "|     9|         59| 4.0| 6.78|\n",
            "|    10|         63| 5.0| 7.94|\n",
            "|    11|         52| 0.0|  0.0|\n",
            "|    12|         50| 0.0|  0.0|\n",
            "|    13|         53| 0.0|  0.0|\n",
            "|    14|         57| 0.0|  0.0|\n",
            "|    15|         70| 0.0|  0.0|\n",
            "|    16|         73| 0.0|  0.0|\n",
            "|    17|         78| 0.0|  0.0|\n",
            "|    18|         88| 2.0| 2.27|\n",
            "|    19|        152| 0.0|  0.0|\n",
            "|    20|         82| 0.0|  0.0|\n",
            "|    21|         61| 1.0| 1.64|\n",
            "|    22|         79|10.0|12.66|\n",
            "|    23|         84| 2.0| 2.38|\n",
            "|    24|         70| 0.0|  0.0|\n",
            "|    25|        150|10.0| 6.67|\n",
            "|    26|        236| 9.0| 3.81|\n",
            "|    27|        140| 1.0| 0.71|\n",
            "|    28|        162| 4.0| 2.47|\n",
            "|    29|        110| 2.0| 1.82|\n",
            "|    30|        124| 5.0| 4.03|\n",
            "|    31|         75| 0.0|  0.0|\n",
            "+------+-----------+----+-----+\n",
            "\n"
          ]
        }
      ],
      "source": [
        "train_eda = train_eda.withColumn('dia_dt', F.day(train_eda['dt']))\n",
        "train_eda.groupBy('dia_dt')\\\n",
        "          .agg(F.count('isCbk').alias('tot_eventos'),\n",
        "               F.sum('isCbk').alias('soma'))\\\n",
        "          .withColumn(\n",
        "              'Prop', F.round((F.col('soma') / F.col('tot_eventos'))*100,2))\\\n",
        "          .orderBy('dia_dt')\\\n",
        "          .show(31)"
      ]
    },
    {
      "cell_type": "markdown",
      "metadata": {
        "id": "5a6PiB60ut-1"
      },
      "source": [
        "**Data de nascimento dos clientes**"
      ]
    },
    {
      "cell_type": "markdown",
      "metadata": {
        "id": "u4l6a_nWvBOD"
      },
      "source": [
        "A partir da data de nascimento podemos extrair uma informacao mais contextual: a idade do cliente. A partir dessa feature podemos discretizar em muitas outras conforme a necessidade. Por exemplo, ao segmentarmos por faixa etaria encontramos que grupos de clientes 40+ tendem a sofrer mais fraude. Ou melhor ainda, conforme a faixa etaria aumenta maior a tendencia de sofrer fraude."
      ]
    },
    {
      "cell_type": "code",
      "execution_count": 32,
      "metadata": {
        "colab": {
          "base_uri": "https://localhost:8080/"
        },
        "id": "ipz9dx74qumc",
        "outputId": "3978de79-d769-4c27-c977-d7130bb43c4d"
      },
      "outputs": [
        {
          "output_type": "stream",
          "name": "stdout",
          "text": [
            "+------------+-----------+----+----+\n",
            "|faixa_etaria|tot_eventos|soma|Prop|\n",
            "+------------+-----------+----+----+\n",
            "|         40+|       1108|35.0|3.16|\n",
            "|      [0,29]|        875|17.0|1.94|\n",
            "|     [30,40]|        843|17.0|2.02|\n",
            "+------------+-----------+----+----+\n",
            "\n"
          ]
        }
      ],
      "source": [
        "train_eda = train_eda.withColumn('idade',\n",
        "                                 F.round(F.date_diff(F.current_date(),\n",
        "                                                     train_eda['customerDob'])/365, 0).cast(T.IntegerType())\n",
        "                                )\\\n",
        "                      .withColumn('faixa_etaria', F.when(F.col('idade')<=29, '[0,29]')\\\n",
        "                                                  .when(F.col('idade').between(30,40), '[30,40]')\\\n",
        "                                                  .when(F.col('idade')>40, '40+')\n",
        "                                  )\n",
        "train_eda.groupBy('faixa_etaria')\\\n",
        "          .agg(F.count('isCbk').alias('tot_eventos'),\n",
        "               F.sum('isCbk').alias('soma'))\\\n",
        "          .withColumn(\n",
        "              'Prop', F.round((F.col('soma') / F.col('tot_eventos'))*100,2)) \\\n",
        "          .orderBy('faixa_etaria')\\\n",
        "          .show(100)"
      ]
    },
    {
      "cell_type": "markdown",
      "metadata": {
        "id": "qvqIHJJX44R9"
      },
      "source": [
        "Uma rapida inspecionada no conjunto de validacao ratifica a tese acima. Portanto, temos uma variavel hot que pode ser explorada na modelagem."
      ]
    },
    {
      "cell_type": "code",
      "execution_count": 33,
      "metadata": {
        "colab": {
          "base_uri": "https://localhost:8080/"
        },
        "id": "fwY2Xk_AyAq3",
        "outputId": "f21299ea-4c7a-440d-e613-0c04db66e9c3"
      },
      "outputs": [
        {
          "output_type": "stream",
          "name": "stdout",
          "text": [
            "+------------+-----------+----+----+\n",
            "|faixa_etaria|tot_eventos|soma|Prop|\n",
            "+------------+-----------+----+----+\n",
            "|         40+|        939|53.0|5.64|\n",
            "|      [0,29]|       1188| 6.0|0.51|\n",
            "|     [30,40]|        701| 9.0|1.28|\n",
            "+------------+-----------+----+----+\n",
            "\n"
          ]
        }
      ],
      "source": [
        "val_eda = val_eda.withColumn('idade',\n",
        "                                 F.round(F.date_diff(F.current_date(),\n",
        "                                                     val_eda['customerDob'])/365, 0).cast(T.IntegerType())\n",
        "                                )\\\n",
        "                      .withColumn('faixa_etaria', F.when(F.col('idade')<=29, '[0,29]')\\\n",
        "                                                  .when(F.col('idade').between(30,40), '[30,40]')\\\n",
        "                                                  .when(F.col('idade')>40, '40+')\n",
        "                                  )\n",
        "val_eda.groupBy('faixa_etaria')\\\n",
        "          .agg(F.count('isCbk').alias('tot_eventos'),\n",
        "               F.sum('isCbk').alias('soma'))\\\n",
        "          .withColumn(\n",
        "              'Prop', F.round((F.col('soma') / F.col('tot_eventos'))*100,2)) \\\n",
        "          .orderBy('faixa_etaria')\\\n",
        "          .show(100)"
      ]
    },
    {
      "cell_type": "markdown",
      "metadata": {
        "id": "D21ljjHi5YUG"
      },
      "source": [
        "**Codigo Postal do cliente**"
      ]
    },
    {
      "cell_type": "markdown",
      "metadata": {
        "id": "rwcu0I9570zh"
      },
      "source": [
        "A granularidade dessa variavel pode ser util para prever o target. Porem, o risco de overfitting ou mesmo sermos afetados com a maldicao da dimensionalidade e evidente. Temos um baixo numero de exemplos para cada categoria. Idealmente poderiamos splitar esses campos na tentativa de agrega-lo e assim combatermos esse risco.\n",
        "\n",
        "Mesmo com alguns splits na coluna nao chegamos em um agrupamento interessante. Temos poucos registros com um volume razoavel de registros. Mas com bons indicativos de potenciais alvos."
      ]
    },
    {
      "cell_type": "code",
      "execution_count": 34,
      "metadata": {
        "colab": {
          "base_uri": "https://localhost:8080/"
        },
        "id": "sISwG5OS5Fgm",
        "outputId": "2acf94b6-8e81-4263-b901-9eaaa2a0829b"
      },
      "outputs": [
        {
          "output_type": "stream",
          "name": "stdout",
          "text": [
            "+--------------------+-----------+\n",
            "|      fakeBillingZip|tot_eventos|\n",
            "+--------------------+-----------+\n",
            "|   Sem preenchimento|         45|\n",
            "|36a2b506-60a3-41f...|          9|\n",
            "+--------------------+-----------+\n",
            "only showing top 2 rows\n",
            "\n",
            "+-----+-----------+\n",
            "|Zip03|tot_eventos|\n",
            "+-----+-----------+\n",
            "| NULL|         45|\n",
            "| 4404|         27|\n",
            "| 46bd|         18|\n",
            "| 4fe4|         18|\n",
            "| 4dd6|         18|\n",
            "| 477e|         18|\n",
            "| 4990|         16|\n",
            "| 47ae|         16|\n",
            "| 45e8|         13|\n",
            "| 4d50|         12|\n",
            "| 430e|         11|\n",
            "| 4ab5|         11|\n",
            "| 4f7a|         10|\n",
            "| 4f33|         10|\n",
            "| 49f3|         10|\n",
            "| 4565|          9|\n",
            "| 4977|          9|\n",
            "| 437e|          9|\n",
            "| 4e87|          9|\n",
            "| 4d6c|          9|\n",
            "| 40df|          9|\n",
            "| 4ce4|          9|\n",
            "| 44f5|          9|\n",
            "| 48ce|          9|\n",
            "| 4236|          9|\n",
            "| 451d|          9|\n",
            "| 49f6|          9|\n",
            "| 42df|          9|\n",
            "| 4736|          9|\n",
            "| 4531|          9|\n",
            "+-----+-----------+\n",
            "only showing top 30 rows\n",
            "\n"
          ]
        }
      ],
      "source": [
        "df_count = train_eda.groupBy('fakeBillingZip')\\\n",
        "          .agg(F.count('isCbk').alias('tot_eventos'))\\\n",
        "          .orderBy(F.desc('tot_eventos'))\n",
        "\n",
        "df_count.show(2)\n",
        "\n",
        "train_eda.withColumn('Zip01', F.split(train_eda['fakeBillingZip'], \"-\").getItem(0))\\\n",
        "          .withColumn('Zip02', F.split(train_eda['fakeBillingZip'], \"-\").getItem(1))\\\n",
        "          .withColumn('Zip03', F.split(train_eda['fakeBillingZip'], \"-\").getItem(2))\\\n",
        "          .withColumn('Zip04', F.split(train_eda['fakeBillingZip'], \"-\").getItem(3))\\\n",
        "          .groupBy('Zip03')\\\n",
        "          .agg(F.count('isCbk').alias('tot_eventos'))\\\n",
        "          .orderBy(F.desc('tot_eventos'))\\\n",
        "          .show(30)"
      ]
    },
    {
      "cell_type": "markdown",
      "metadata": {
        "id": "z9QZtZ0tClzd"
      },
      "source": [
        "**Ip de localizacao dos clientes**"
      ]
    },
    {
      "cell_type": "markdown",
      "metadata": {
        "id": "3szHYoU8Cv2g"
      },
      "source": [
        "Tambem pode nos fornecer uma informacao espacial necessaria para prever o target. Porem muitos valores nulos e alta cardinalidade."
      ]
    },
    {
      "cell_type": "code",
      "execution_count": 35,
      "metadata": {
        "colab": {
          "base_uri": "https://localhost:8080/"
        },
        "id": "RlmbcanVjwkj",
        "outputId": "15ba8168-3877-4c9f-86af-1a7f262da890"
      },
      "outputs": [
        {
          "output_type": "stream",
          "name": "stdout",
          "text": [
            "+------------+-----------+\n",
            "|        Ip05|tot_eventos|\n",
            "+------------+-----------+\n",
            "|        NULL|       1984|\n",
            "|f91531c1752b|          9|\n",
            "|394c81c59bb3|          9|\n",
            "|be92d2ea5c7f|          9|\n",
            "|32a0757de3f3|          9|\n",
            "|b4fe119c6bfe|          9|\n",
            "|6b4ea00ae510|          9|\n",
            "|bdf9d9f29462|          9|\n",
            "|ba8b8d15875c|          9|\n",
            "|e1df8b2bea44|          9|\n",
            "|086491ff8836|          9|\n",
            "|b8edf86994d3|          9|\n",
            "|2515cc81ec29|          9|\n",
            "|494c770c6df3|          9|\n",
            "|b41b4134fee3|          9|\n",
            "|5fe97a7639f0|          9|\n",
            "|e4c94d72c920|          9|\n",
            "|769294fd8a97|          8|\n",
            "|45b5e14f0a96|          8|\n",
            "|173b46c13850|          7|\n",
            "|130cc981938c|          7|\n",
            "|defc445a6a1b|          7|\n",
            "|6331c934e942|          7|\n",
            "|f316219ad895|          7|\n",
            "|7a18885f88e7|          7|\n",
            "|837bde61f63d|          7|\n",
            "|30e1862be942|          7|\n",
            "|ab9f9ac2ae5f|          7|\n",
            "|6a057e1e807e|          6|\n",
            "|32b1c613a346|          6|\n",
            "+------------+-----------+\n",
            "only showing top 30 rows\n",
            "\n"
          ]
        }
      ],
      "source": [
        "df_count = train_eda.groupBy('fakeCustomerIp')\\\n",
        "          .agg(F.count('isCbk').alias('tot_eventos'))\\\n",
        "          .orderBy(F.desc('tot_eventos'))\n",
        "\n",
        "train_eda.withColumn('Ip01', F.split(train_eda['fakeCustomerIp'], \"-\").getItem(0))\\\n",
        "          .withColumn('Ip02', F.split(train_eda['fakeCustomerIp'], \"-\").getItem(1))\\\n",
        "          .withColumn('Ip03', F.split(train_eda['fakeCustomerIp'], \"-\").getItem(2))\\\n",
        "          .withColumn('Ip04', F.split(train_eda['fakeCustomerIp'], \"-\").getItem(3))\\\n",
        "          .withColumn('Ip05', F.split(train_eda['fakeCustomerIp'], \"-\").getItem(4))\\\n",
        "          .groupBy('Ip05')\\\n",
        "          .agg(F.count('isCbk').alias('tot_eventos'))\\\n",
        "          .orderBy(F.desc('tot_eventos'))\\\n",
        "          .show(30)\n",
        "\n",
        "# df_count.show()"
      ]
    },
    {
      "cell_type": "markdown",
      "metadata": {
        "id": "8EcZ772JEwmV"
      },
      "source": [
        "**Telefone do cliente**"
      ]
    },
    {
      "cell_type": "markdown",
      "metadata": {
        "id": "SgzvuDkuE5nE"
      },
      "source": [
        "Tal como os casos acima o telefone (especialmente DDD) do cliente pode nos dar pistas sobre localizacao."
      ]
    },
    {
      "cell_type": "code",
      "execution_count": 36,
      "metadata": {
        "colab": {
          "base_uri": "https://localhost:8080/"
        },
        "id": "42UpC49uwN3a",
        "outputId": "b9f3ebad-2b1d-4063-87c1-34ff689f423d"
      },
      "outputs": [
        {
          "output_type": "stream",
          "name": "stdout",
          "text": [
            "+--------------------+-----------+\n",
            "|   fakeCustomerPhone|tot_eventos|\n",
            "+--------------------+-----------+\n",
            "|3c51b456-d58d-47d...|          9|\n",
            "|e756a698-d531-40f...|          9|\n",
            "|073766a2-534c-494...|          9|\n",
            "|7dbaaa5b-048a-4d8...|          9|\n",
            "|155eb3d8-1678-478...|          9|\n",
            "+--------------------+-----------+\n",
            "only showing top 5 rows\n",
            "\n",
            "+-------+-----------+\n",
            "|Phone03|tot_eventos|\n",
            "+-------+-----------+\n",
            "|   47e7|         18|\n",
            "|   4d74|         18|\n",
            "|   4687|         18|\n",
            "|   4fa1|         15|\n",
            "|   4c9d|         14|\n",
            "|   4208|         14|\n",
            "|   4ca4|         13|\n",
            "|   4095|         13|\n",
            "|   4bc3|         11|\n",
            "|   40a6|         10|\n",
            "|   4fdc|         10|\n",
            "|   49a5|         10|\n",
            "|   4a76|         10|\n",
            "|   403a|          9|\n",
            "|   4a82|          9|\n",
            "|   4e47|          9|\n",
            "|   46e3|          9|\n",
            "|   4cd5|          9|\n",
            "|   46f3|          9|\n",
            "|   4b80|          9|\n",
            "|   4f39|          9|\n",
            "|   4782|          9|\n",
            "|   4fdb|          9|\n",
            "|   43ca|          9|\n",
            "|   47d1|          9|\n",
            "|   4fa0|          9|\n",
            "|   4d83|          9|\n",
            "|   421e|          9|\n",
            "|   4698|          9|\n",
            "|   44a9|          9|\n",
            "+-------+-----------+\n",
            "only showing top 30 rows\n",
            "\n"
          ]
        }
      ],
      "source": [
        "df_count = train_eda.groupBy('fakeCustomerPhone')\\\n",
        "          .agg(F.count('isCbk').alias('tot_eventos'))\\\n",
        "          .orderBy(F.desc('tot_eventos'))\n",
        "df_count.show(5)\n",
        "\n",
        "ps.DataFrame(df_count)\n",
        "\n",
        "train_eda.withColumn('Phone01', F.split(train_eda['fakeCustomerPhone'], \"-\").getItem(0))\\\n",
        "          .withColumn('Phone02', F.split(train_eda['fakeCustomerPhone'], \"-\").getItem(1))\\\n",
        "          .withColumn('Phone03', F.split(train_eda['fakeCustomerPhone'], \"-\").getItem(2))\\\n",
        "          .withColumn('Phone04', F.split(train_eda['fakeCustomerPhone'], \"-\").getItem(3))\\\n",
        "          .withColumn('Phone05', F.split(train_eda['fakeCustomerPhone'], \"-\").getItem(4))\\\n",
        "          .groupBy('Phone03')\\\n",
        "          .agg(F.count('isCbk').alias('tot_eventos'))\\\n",
        "          .orderBy(F.desc('tot_eventos'))\\\n",
        "          .show(30)"
      ]
    },
    {
      "cell_type": "markdown",
      "metadata": {
        "id": "BRDpNCyxHilx"
      },
      "source": [
        "**Cartao do cliente**"
      ]
    },
    {
      "cell_type": "code",
      "execution_count": 37,
      "metadata": {
        "colab": {
          "base_uri": "https://localhost:8080/"
        },
        "id": "ppi739_tGh9R",
        "outputId": "9c0eb7ea-0451-47ef-9d85-a674220e2922"
      },
      "outputs": [
        {
          "output_type": "stream",
          "name": "stdout",
          "text": [
            "+--------------------+-----------+\n",
            "|          fakeCardId|tot_eventos|\n",
            "+--------------------+-----------+\n",
            "|85b956a3-313a-426...|          9|\n",
            "|537c3272-06ca-4ef...|          9|\n",
            "|e253b99b-ebf1-43a...|          9|\n",
            "|6fb5c571-51c9-419...|          9|\n",
            "|bc880606-d5fa-4fe...|          9|\n",
            "+--------------------+-----------+\n",
            "only showing top 5 rows\n",
            "\n",
            "+------------+-----------+\n",
            "|      card05|tot_eventos|\n",
            "+------------+-----------+\n",
            "|ba976ae2ac06|          9|\n",
            "|bf5c4ccccf68|          9|\n",
            "|22dd78a4817b|          9|\n",
            "|3a8b41148e69|          9|\n",
            "|cd584366352b|          9|\n",
            "|9022b904c139|          9|\n",
            "|6c837f125e6e|          9|\n",
            "|0a9bcd103979|          9|\n",
            "|5d031a57ada2|          9|\n",
            "|b39de102c389|          9|\n",
            "|718ca1ad2528|          9|\n",
            "|e8346d6c6552|          9|\n",
            "|2ef36ac8a616|          9|\n",
            "|36dd4a8024a9|          9|\n",
            "|3134caacfca1|          9|\n",
            "|beb4bb77f277|          9|\n",
            "|d7e3dd6eabf1|          9|\n",
            "|0065c224479f|          9|\n",
            "|8c82415b8133|          9|\n",
            "|6269b615d860|          9|\n",
            "|fbc2d7ba23c0|          9|\n",
            "|075e4ae99f79|          9|\n",
            "|ee7d46eadf9e|          9|\n",
            "|5e4940207118|          9|\n",
            "|cc6056459c45|          9|\n",
            "|961897bab8e3|          9|\n",
            "|dceb691598c5|          9|\n",
            "|d5f4491e32f9|          9|\n",
            "|df7991469f65|          9|\n",
            "|7e69a225e08d|          9|\n",
            "+------------+-----------+\n",
            "only showing top 30 rows\n",
            "\n"
          ]
        }
      ],
      "source": [
        "df_count = train_eda.groupBy('fakeCardId')\\\n",
        "          .agg(F.count('isCbk').alias('tot_eventos'))\\\n",
        "          .orderBy(F.desc('tot_eventos'))\n",
        "df_count.show(5)\n",
        "\n",
        "ps.DataFrame(df_count).head(2)\n",
        "\n",
        "train_eda.withColumn('card01', F.split(train_eda['fakeCardId'], \"-\").getItem(0))\\\n",
        "          .withColumn('card02', F.split(train_eda['fakeCardId'], \"-\").getItem(1))\\\n",
        "          .withColumn('card03', F.split(train_eda['fakeCardId'], \"-\").getItem(2))\\\n",
        "          .withColumn('card04', F.split(train_eda['fakeCardId'], \"-\").getItem(3))\\\n",
        "          .withColumn('card05', F.split(train_eda['fakeCardId'], \"-\").getItem(4))\\\n",
        "          .groupBy('card05')\\\n",
        "          .agg(F.count('isCbk').alias('tot_eventos'))\\\n",
        "          .orderBy(F.desc('tot_eventos'))\\\n",
        "          .show(30)"
      ]
    },
    {
      "cell_type": "markdown",
      "metadata": {
        "id": "Sq21HjufHv8O"
      },
      "source": [
        "**Dia/Hora da transacao**"
      ]
    },
    {
      "cell_type": "markdown",
      "metadata": {
        "id": "9klF9QqcIIdO"
      },
      "source": [
        "Podemos extrair informacoes com uma granularidade muito maior avaliando momentos ao longo do dia que propiciam a ocorrencia de fraude. Podemos compor com muitas features a partir desta.\n",
        "\n",
        "Por exemplo, o periodo da manha proporcionamente contem mais registros de fraudes. O que, de certa forma, pode desafiar o senso comum. Mas se combinarmos esse fato com uma padrao de pequenos valores de transacoes ao longo do dia (dentre outros fatores) temos um comportamento que comeca a fazer sentido."
      ]
    },
    {
      "cell_type": "code",
      "execution_count": 38,
      "metadata": {
        "colab": {
          "base_uri": "https://localhost:8080/"
        },
        "id": "EyR8ZmiyHuPL",
        "outputId": "a69f06a0-4b7c-489f-918c-8318e8f6f777"
      },
      "outputs": [
        {
          "output_type": "stream",
          "name": "stdout",
          "text": [
            "+-------------------+-----------+----+----+\n",
            "|periodo_dia_logDate|tot_eventos|soma|Prop|\n",
            "+-------------------+-----------+----+----+\n",
            "|              Manha|        386|16.0|4.15|\n",
            "|              Tarde|        940|24.0|2.55|\n",
            "|              Noite|        745|19.0|2.55|\n",
            "|          Madrugada|        755|10.0|1.32|\n",
            "+-------------------+-----------+----+----+\n",
            "\n"
          ]
        }
      ],
      "source": [
        "train_eda = train_eda\\\n",
        "            .withColumn('hora_logDate', F.hour(train_eda['logDate']))\\\n",
        "            .withColumn('minuto_logDate', F.minute(train_eda['logDate']))\\\n",
        "            .withColumn('segundo_logDate', F.second(train_eda['logDate']))\\\n",
        "            .withColumn('hora_minuto_logDate', F.concat_ws(':', F.hour(train_eda['logDate']), F.minute(train_eda['logDate'])))\\\n",
        "            .withColumn('periodo_dia_logDate', F.when(F.col('hora_logDate').between(0,5), 'Madrugada')\\\n",
        "                                                .when(F.col('hora_logDate').between(6,13), 'Manha')\\\n",
        "                                                .when(F.col('hora_logDate').between(13,19), 'Tarde')\\\n",
        "                                                .when(F.col('hora_logDate').between(19,23), 'Noite')\n",
        "                        )\n",
        "train_eda.groupBy('periodo_dia_logDate')\\\n",
        "          .agg(F.count('isCbk').alias('tot_eventos'), F.sum('isCbk').alias('soma'))\\\n",
        "          .withColumn('Prop', F.round((F.col('soma') / F.col('tot_eventos'))*100,2))\\\n",
        "          .orderBy(F.desc('Prop'))\\\n",
        "          .show()"
      ]
    },
    {
      "cell_type": "markdown",
      "metadata": {
        "id": "JyEcapKGTtj-"
      },
      "source": [
        "Hora de preparar os dados para a etapa de modelagem."
      ]
    },
    {
      "cell_type": "markdown",
      "metadata": {
        "id": "2lBVeX8eS_vF"
      },
      "source": [
        "# Preparacao de dados: etapa pre-modelagem"
      ]
    },
    {
      "cell_type": "code",
      "execution_count": 39,
      "metadata": {
        "id": "bqNv-W-VQ8mw"
      },
      "outputs": [],
      "source": [
        "def remove_columns_from_df(dataset: DataFrame, columns: list) -> DataFrame:\n",
        "  \"\"\"\n",
        "  Remove uma n colunas de um dataset.\n",
        "  \"\"\"\n",
        "  dataset = dataset.drop(*[c for c in columns])\n",
        "  return dataset\n",
        "\n",
        "\n",
        "def create_new_columns_from_date(dataset: DataFrame, timestamp_columns: list, date_columns: list) -> DataFrame:\n",
        "  \"\"\"\n",
        "  Cria novas features a partir de colunas do tipo data.\n",
        "  \"\"\"\n",
        "\n",
        "  for c in timestamp_columns:\n",
        "    dataset = dataset\\\n",
        "              .withColumn('ano_'+c, F.year(dataset[c]))\\\n",
        "              .withColumn('mes_'+c, F.month(dataset[c]))\\\n",
        "              .withColumn('dia_'+c, F.day(dataset[c]))\\\n",
        "              .withColumn('dia_semana_'+c, F.dayofweek(dataset[c]))\\\n",
        "              .withColumn('hora_'+c, F.hour(dataset[c]))\\\n",
        "              .withColumn('minuto_'+c, F.minute(dataset[c]))\\\n",
        "              .withColumn('segundo_'+c, F.second(dataset[c]))\\\n",
        "              .withColumn('hora_minuto_'+c, F.concat_ws(':', F.hour(dataset[c]), F.minute(dataset[c])))\\\n",
        "              .withColumn('periodo_dia_'+c, F.when(F.col('hora_'+c).between(0,5), 'Madrugada')\\\n",
        "                                                  .when(F.col('hora_'+c).between(6,13), 'Manha')\\\n",
        "                                                  .when(F.col('hora_'+c).between(13,19), 'Tarde')\\\n",
        "                                                  .when(F.col('hora_'+c).between(19,23), 'Noite'))\\\n",
        "              .withColumn('periodo_dia_'+c, F.when(F.col('dia_semana_'+c).between(6,7), 'Final de semana')\\\n",
        "                                                  .otherwise('Semana')\n",
        "              )\n",
        "\n",
        "  for c in date_columns:\n",
        "    dataset = dataset\\\n",
        "              .withColumn('ano_'+c, F.year(dataset[c]))\\\n",
        "              .withColumn('mes_'+c, F.month(dataset[c]))\\\n",
        "              .withColumn('dia_'+c, F.day(dataset[c]))\\\n",
        "              .withColumn('dia_semana_'+c, F.dayofweek(dataset[c]))\\\n",
        "              .withColumn('periodo_dia_'+c, F.when(F.col('dia_semana_'+c).between(6,7), 'Final de semana')\\\n",
        "                                                      .otherwise('Semana')\n",
        "                  )\n",
        "\n",
        "  return dataset\n",
        "\n",
        "\n",
        "def create_new_fields_dt_nascimento(dataset: DataFrame, col_nasc: str) -> DataFrame:\n",
        "    \"\"\"\n",
        "    Criando novas features a partir da data de nascimento.\n",
        "    \"\"\"\n",
        "\n",
        "    dataset = dataset.withColumn('idade', F.round(F.date_diff(F.current_date(),\n",
        "                                                              dataset['customerDob'])/365, 0)\\\n",
        "                      .cast(T.IntegerType()))\\\n",
        "                      .withColumn('faixa_etaria', F.when(F.col('idade')<=29, '[0,29]')\\\n",
        "                                                  .when(F.col('idade').between(30,40), '[30,40]')\\\n",
        "                                                  .when(F.col('idade')>40, '40+'))\n",
        "\n",
        "    return dataset\n",
        "\n",
        "def create_new_fields_based_compound_fields(dataset: DataFrame, columns: list) -> DataFrame:\n",
        "    \"\"\"\n",
        "    Split de campos compostos.\n",
        "    \"\"\"\n",
        "\n",
        "    for col in columns:\n",
        "      dataset = dataset.withColumn(col+'_01',F.split(dataset[col], \"-\").getItem(0))\\\n",
        "                      .withColumn(col+'_02', F.split(dataset[col], \"-\").getItem(1))\\\n",
        "                      .withColumn(col+'_03', F.split(dataset[col], \"-\").getItem(2))\\\n",
        "                      .withColumn(col+'_04', F.split(dataset[col], \"-\").getItem(3))\\\n",
        "                      .withColumn(col+'_05', F.split(dataset[col], \"-\").getItem(4))\n",
        "    return dataset"
      ]
    },
    {
      "cell_type": "markdown",
      "metadata": {
        "id": "EAZ_VrE_X3WE"
      },
      "source": [
        "**Deletando features**"
      ]
    },
    {
      "cell_type": "code",
      "execution_count": 40,
      "metadata": {
        "id": "LpyPjmpXQ8cH"
      },
      "outputs": [],
      "source": [
        "cols_to_delete = ['fakeTransactionId','billingCountry','cbkDate']\n",
        "train_df_prepared = remove_columns_from_df(train_df_cleaned_transf, columns=cols_to_delete)\n",
        "val_df_prepared = remove_columns_from_df(val_df_cleaned_transf, columns=cols_to_delete)\n",
        "test_df_prepared = remove_columns_from_df(test_df_cleaned_transf, columns=cols_to_delete)"
      ]
    },
    {
      "cell_type": "markdown",
      "metadata": {
        "id": "xEL_CZsuX6tD"
      },
      "source": [
        "**Criacao de novas features**"
      ]
    },
    {
      "cell_type": "code",
      "execution_count": 41,
      "metadata": {
        "id": "EmHqaWfCSG1W"
      },
      "outputs": [],
      "source": [
        "timestamp_cols = ['logDate']\n",
        "date_cols = ['dt', 'customerCreatedAt']\n",
        "train_df_prepared = create_new_columns_from_date(train_df_prepared,\n",
        "    timestamp_columns=timestamp_cols,\n",
        "    date_columns=date_cols)\n",
        "\n",
        "val_df_prepared = create_new_columns_from_date(val_df_cleaned_transf,\n",
        "    timestamp_columns=timestamp_cols,\n",
        "    date_columns=date_cols)\n",
        "\n",
        "test_df_prepared = create_new_columns_from_date(test_df_prepared,\n",
        "    timestamp_columns=timestamp_cols,\n",
        "    date_columns=date_cols)\n"
      ]
    },
    {
      "cell_type": "markdown",
      "metadata": {
        "id": "HoSe_v1XeRHK"
      },
      "source": [
        "**Campo nascimento**"
      ]
    },
    {
      "cell_type": "code",
      "execution_count": 42,
      "metadata": {
        "id": "1vtkgwfhUR5A"
      },
      "outputs": [],
      "source": [
        "train_df_prepared = create_new_fields_dt_nascimento(train_df_prepared, col_nasc = 'customerDob')\n",
        "val_df_prepared = create_new_fields_dt_nascimento(val_df_prepared, col_nasc = 'customerDob')\n",
        "test_df_prepared = create_new_fields_dt_nascimento(test_df_prepared, col_nasc = 'customerDob')"
      ]
    },
    {
      "cell_type": "markdown",
      "metadata": {
        "id": "e7-0OeOreVPp"
      },
      "source": [
        "**Outros campos categoricos**"
      ]
    },
    {
      "cell_type": "code",
      "execution_count": 43,
      "metadata": {
        "id": "uQye3q8zURzn"
      },
      "outputs": [],
      "source": [
        "compound_cols = ['fakeCustomerEmail','fakeCardId', 'fakeCustomerPhone', 'fakeCustomerIp', 'fakeBillingZip']\n",
        "train_df_prepared = create_new_fields_based_compound_fields(train_df_prepared, columns=compound_cols)\n",
        "val_df_prepared = create_new_fields_based_compound_fields(val_df_prepared, columns=compound_cols)\n",
        "test_df_prepared = create_new_fields_based_compound_fields(test_df_prepared, columns=compound_cols)"
      ]
    },
    {
      "cell_type": "code",
      "execution_count": 44,
      "metadata": {
        "colab": {
          "base_uri": "https://localhost:8080/"
        },
        "id": "ZpT_fmeLtQhG",
        "outputId": "7813c81e-083b-4596-9aba-11ca277272e3"
      },
      "outputs": [
        {
          "output_type": "stream",
          "name": "stdout",
          "text": [
            "+-------------------+--------------------+--------------------+--------------------+--------------------+--------------------+-----------+-----------------+-----------+-----------+------------+-----+----------+-----------+-----------+-----------+------------------+------------+--------------+---------------+-------------------+-------------------+------+------+------+-------------+--------------+---------------------+---------------------+---------------------+----------------------------+-----------------------------+-----+------------+--------------------+--------------------+--------------------+--------------------+--------------------+-------------+-------------+-------------+-------------+-------------+--------------------+--------------------+--------------------+--------------------+--------------------+-----------------+-----------------+-----------------+-----------------+-----------------+-----------------+-----------------+-----------------+-----------------+-----------------+\n",
            "|            logDate|   fakeCustomerEmail|          fakeCardId|   fakeCustomerPhone|      fakeCustomerIp|      fakeBillingZip|customerDob|customerCreatedAt|totalAmount|billingCity|billingState|isCbk|        dt|ano_logDate|mes_logDate|dia_logDate|dia_semana_logDate|hora_logDate|minuto_logDate|segundo_logDate|hora_minuto_logDate|periodo_dia_logDate|ano_dt|mes_dt|dia_dt|dia_semana_dt|periodo_dia_dt|ano_customerCreatedAt|mes_customerCreatedAt|dia_customerCreatedAt|dia_semana_customerCreatedAt|periodo_dia_customerCreatedAt|idade|faixa_etaria|fakeCustomerEmail_01|fakeCustomerEmail_02|fakeCustomerEmail_03|fakeCustomerEmail_04|fakeCustomerEmail_05|fakeCardId_01|fakeCardId_02|fakeCardId_03|fakeCardId_04|fakeCardId_05|fakeCustomerPhone_01|fakeCustomerPhone_02|fakeCustomerPhone_03|fakeCustomerPhone_04|fakeCustomerPhone_05|fakeCustomerIp_01|fakeCustomerIp_02|fakeCustomerIp_03|fakeCustomerIp_04|fakeCustomerIp_05|fakeBillingZip_01|fakeBillingZip_02|fakeBillingZip_03|fakeBillingZip_04|fakeBillingZip_05|\n",
            "+-------------------+--------------------+--------------------+--------------------+--------------------+--------------------+-----------+-----------------+-----------+-----------+------------+-----+----------+-----------+-----------+-----------+------------------+------------+--------------+---------------+-------------------+-------------------+------+------+------+-------------+--------------+---------------------+---------------------+---------------------+----------------------------+-----------------------------+-----+------------+--------------------+--------------------+--------------------+--------------------+--------------------+-------------+-------------+-------------+-------------+-------------+--------------------+--------------------+--------------------+--------------------+--------------------+-----------------+-----------------+-----------------+-----------------+-----------------+-----------------+-----------------+-----------------+-----------------+-----------------+\n",
            "|2021-05-18 12:21:28|85ec9123-a69d-436...|5b052ff2-4629-49f...|c4bb7b07-b8da-4b7...|   Sem preenchimento|6ae32c1a-1261-402...| 1997-08-02|       2015-11-03|       16.9| votorantim|          SP|    0|2021-05-18|       2021|          5|         18|                 3|          12|            21|             28|              12:21|             Semana|  2021|     5|    18|            3|        Semana|                 2015|                   11|                    3|                           3|                       Semana|   27|      [0,29]|            85ec9123|                a69d|                4364|                b7d4|        c370795f0302|     5b052ff2|         4629|         49f0|         af56| f097e7097436|            c4bb7b07|                b8da|                4b70|                baf4|        c7b72a69fa87|Sem preenchimento|             NULL|             NULL|             NULL|             NULL|         6ae32c1a|             1261|             4029|             8613|     f3d604da74eb|\n",
            "|2021-05-19 15:09:01|85ec9123-a69d-436...|554fd2df-d204-4a3...|f93c90a0-79bf-432...|70705617-d1e4-447...|6ae32c1a-1261-402...| 1997-08-02|       2015-11-03|      34.84| votorantim|          SP|    0|2021-05-19|       2021|          5|         19|                 4|          15|             9|              1|               15:9|             Semana|  2021|     5|    19|            4|        Semana|                 2015|                   11|                    3|                           3|                       Semana|   27|      [0,29]|            85ec9123|                a69d|                4364|                b7d4|        c370795f0302|     554fd2df|         d204|         4a31|         86ce| 508bb62b9486|            f93c90a0|                79bf|                432a|                b5d2|        effbf1968065|         70705617|             d1e4|             4475|             8ce5|     7d74100c6e9b|         6ae32c1a|             1261|             4029|             8613|     f3d604da74eb|\n",
            "+-------------------+--------------------+--------------------+--------------------+--------------------+--------------------+-----------+-----------------+-----------+-----------+------------+-----+----------+-----------+-----------+-----------+------------------+------------+--------------+---------------+-------------------+-------------------+------+------+------+-------------+--------------+---------------------+---------------------+---------------------+----------------------------+-----------------------------+-----+------------+--------------------+--------------------+--------------------+--------------------+--------------------+-------------+-------------+-------------+-------------+-------------+--------------------+--------------------+--------------------+--------------------+--------------------+-----------------+-----------------+-----------------+-----------------+-----------------+-----------------+-----------------+-----------------+-----------------+-----------------+\n",
            "only showing top 2 rows\n",
            "\n"
          ]
        }
      ],
      "source": [
        "train_df_prepared.show(2)"
      ]
    },
    {
      "cell_type": "markdown",
      "metadata": {
        "id": "igggiyuJz6fy"
      },
      "source": []
    },
    {
      "cell_type": "code",
      "execution_count": 45,
      "metadata": {
        "id": "NrjbDch1tdmJ"
      },
      "outputs": [],
      "source": [
        "cols_not_selected = ['logDate', 'fakeCustomerEmail','fakeCardId',\n",
        "                     'fakeCustomerPhone','fakeCustomerIp','fakeBillingZip', 'customerDob',\n",
        "                     'customerCreatedAt']\n",
        "\n",
        "train_df_selected = train_df_prepared\\\n",
        "          .select([col for col in train_df_prepared.columns if col not in cols_not_selected])\n",
        "val_df_selected = val_df_prepared\\\n",
        "          .select([col for col in val_df_prepared.columns if col not in cols_not_selected])\n",
        "test_df_selected = test_df_prepared\\\n",
        "          .select([col for col in test_df_prepared.columns if col not in cols_not_selected])"
      ]
    },
    {
      "cell_type": "code",
      "execution_count": 46,
      "metadata": {
        "id": "oEWSoJMjvig3"
      },
      "outputs": [],
      "source": [
        "train_df_selected = train_df_selected.fillna(\"Sem prenchimento\")\n",
        "val_df_selected = val_df_selected.fillna(\"Sem prenchimento\")\n",
        "test_df_selected = test_df_selected.fillna(\"Sem prenchimento\")"
      ]
    },
    {
      "cell_type": "code",
      "execution_count": 47,
      "metadata": {
        "colab": {
          "base_uri": "https://localhost:8080/"
        },
        "id": "celgKQvkzTUo",
        "outputId": "2b7b7f36-beb3-4df4-fdee-1b74ace67ef3"
      },
      "outputs": [
        {
          "output_type": "stream",
          "name": "stdout",
          "text": [
            "+-----------+-----------+------------+-----+----------+-----------+-----------+-----------+------------------+------------+--------------+---------------+-------------------+-------------------+------+------+------+-------------+--------------+---------------------+---------------------+---------------------+----------------------------+-----------------------------+-----+------------+--------------------+--------------------+--------------------+--------------------+--------------------+-------------+-------------+-------------+-------------+-------------+--------------------+--------------------+--------------------+--------------------+--------------------+-----------------+-----------------+-----------------+-----------------+-----------------+-----------------+-----------------+-----------------+-----------------+-----------------+\n",
            "|totalAmount|billingCity|billingState|isCbk|        dt|ano_logDate|mes_logDate|dia_logDate|dia_semana_logDate|hora_logDate|minuto_logDate|segundo_logDate|hora_minuto_logDate|periodo_dia_logDate|ano_dt|mes_dt|dia_dt|dia_semana_dt|periodo_dia_dt|ano_customerCreatedAt|mes_customerCreatedAt|dia_customerCreatedAt|dia_semana_customerCreatedAt|periodo_dia_customerCreatedAt|idade|faixa_etaria|fakeCustomerEmail_01|fakeCustomerEmail_02|fakeCustomerEmail_03|fakeCustomerEmail_04|fakeCustomerEmail_05|fakeCardId_01|fakeCardId_02|fakeCardId_03|fakeCardId_04|fakeCardId_05|fakeCustomerPhone_01|fakeCustomerPhone_02|fakeCustomerPhone_03|fakeCustomerPhone_04|fakeCustomerPhone_05|fakeCustomerIp_01|fakeCustomerIp_02|fakeCustomerIp_03|fakeCustomerIp_04|fakeCustomerIp_05|fakeBillingZip_01|fakeBillingZip_02|fakeBillingZip_03|fakeBillingZip_04|fakeBillingZip_05|\n",
            "+-----------+-----------+------------+-----+----------+-----------+-----------+-----------+------------------+------------+--------------+---------------+-------------------+-------------------+------+------+------+-------------+--------------+---------------------+---------------------+---------------------+----------------------------+-----------------------------+-----+------------+--------------------+--------------------+--------------------+--------------------+--------------------+-------------+-------------+-------------+-------------+-------------+--------------------+--------------------+--------------------+--------------------+--------------------+-----------------+-----------------+-----------------+-----------------+-----------------+-----------------+-----------------+-----------------+-----------------+-----------------+\n",
            "|       16.9| votorantim|          SP|    0|2021-05-18|       2021|          5|         18|                 3|          12|            21|             28|              12:21|             Semana|  2021|     5|    18|            3|        Semana|                 2015|                   11|                    3|                           3|                       Semana|   27|      [0,29]|            85ec9123|                a69d|                4364|                b7d4|        c370795f0302|     5b052ff2|         4629|         49f0|         af56| f097e7097436|            c4bb7b07|                b8da|                4b70|                baf4|        c7b72a69fa87|Sem preenchimento| Sem prenchimento| Sem prenchimento| Sem prenchimento| Sem prenchimento|         6ae32c1a|             1261|             4029|             8613|     f3d604da74eb|\n",
            "|      34.84| votorantim|          SP|    0|2021-05-19|       2021|          5|         19|                 4|          15|             9|              1|               15:9|             Semana|  2021|     5|    19|            4|        Semana|                 2015|                   11|                    3|                           3|                       Semana|   27|      [0,29]|            85ec9123|                a69d|                4364|                b7d4|        c370795f0302|     554fd2df|         d204|         4a31|         86ce| 508bb62b9486|            f93c90a0|                79bf|                432a|                b5d2|        effbf1968065|         70705617|             d1e4|             4475|             8ce5|     7d74100c6e9b|         6ae32c1a|             1261|             4029|             8613|     f3d604da74eb|\n",
            "|      34.84| votorantim|          SP|    0|2021-05-19|       2021|          5|         19|                 4|          15|             8|             21|               15:8|             Semana|  2021|     5|    19|            4|        Semana|                 2015|                   11|                    3|                           3|                       Semana|   27|      [0,29]|            85ec9123|                a69d|                4364|                b7d4|        c370795f0302|     554fd2df|         d204|         4a31|         86ce| 508bb62b9486|            f93c90a0|                79bf|                432a|                b5d2|        effbf1968065|         9f3ae108|             9cd9|             413a|             8d3c|     6edf2f1fbed5|         6ae32c1a|             1261|             4029|             8613|     f3d604da74eb|\n",
            "+-----------+-----------+------------+-----+----------+-----------+-----------+-----------+------------------+------------+--------------+---------------+-------------------+-------------------+------+------+------+-------------+--------------+---------------------+---------------------+---------------------+----------------------------+-----------------------------+-----+------------+--------------------+--------------------+--------------------+--------------------+--------------------+-------------+-------------+-------------+-------------+-------------+--------------------+--------------------+--------------------+--------------------+--------------------+-----------------+-----------------+-----------------+-----------------+-----------------+-----------------+-----------------+-----------------+-----------------+-----------------+\n",
            "only showing top 3 rows\n",
            "\n"
          ]
        }
      ],
      "source": [
        "train_df_selected.show(3)"
      ]
    },
    {
      "cell_type": "markdown",
      "metadata": {
        "id": "e08Eftk_lxzd"
      },
      "source": [
        "**Salvando registros....**"
      ]
    },
    {
      "cell_type": "code",
      "execution_count": 48,
      "metadata": {
        "id": "jZv959MSQLcD"
      },
      "outputs": [],
      "source": [
        "save_csv_into_spark(train_df_selected, 'ml_data/train_df_prepared.csv')\n",
        "save_csv_into_spark(val_df_selected, 'ml_data/val_df_prepared.csv')\n",
        "save_csv_into_spark(test_df_selected, 'ml_data/test_df_prepared.csv')"
      ]
    },
    {
      "cell_type": "markdown",
      "metadata": {
        "id": "bOZpm7Pcm0co"
      },
      "source": [
        "# Etapa de Modelagem: Parte 1"
      ]
    },
    {
      "cell_type": "markdown",
      "source": [
        "Tentamos utilizar o Spark MLlib para lidar com todo o processo de modelagem. Encontramos problemas ao longo da caminho especialmente com a lentidao na etapa de treinamento do modelo. A lib tambem nao tem suporte nativo a alguns recursos importantes para busca dos melhores hiperparametros utilizando otimizacao bayesiana por ex. ou mesmo metricas de avaliacao de modelos.\n",
        "\n",
        "\n",
        "Dessa forma, podemos considerar toda essa parte 1 como opcional. Pois iremos seguir para uma modelagem utilizando as proprias libs da linguagem python."
      ],
      "metadata": {
        "id": "Yspsl_q_DfR5"
      }
    },
    {
      "cell_type": "code",
      "execution_count": 49,
      "metadata": {
        "id": "ppdO2AQxQtJJ"
      },
      "outputs": [],
      "source": [
        "# file_names = ['ml_data/train_df_prepared.csv', 'ml_data/val_df_prepared.csv','ml_data/test_df_prepared.csv']\n",
        "# Carga de dados\n",
        "# train_data, val_data, test_data = [read_csv_into_spark(f) for f in files_names]\n",
        "train_data, val_data, test_data = train_df_selected, val_df_selected, test_df_selected"
      ]
    },
    {
      "cell_type": "code",
      "execution_count": 50,
      "metadata": {
        "colab": {
          "base_uri": "https://localhost:8080/"
        },
        "id": "8GMhq4iTsaOW",
        "outputId": "2d54be3b-4258-48db-cefb-30610419ce5f"
      },
      "outputs": [
        {
          "output_type": "stream",
          "name": "stdout",
          "text": [
            "+-----+-----------+-----------+-----------+------------------+------------+---------------------+---------------------+---------------------+-----+------------+------------+-------------------+\n",
            "|isCbk|totalAmount|mes_logDate|dia_logDate|dia_semana_logDate|hora_logDate|ano_customerCreatedAt|mes_customerCreatedAt|dia_customerCreatedAt|idade|faixa_etaria|billingState|periodo_dia_logDate|\n",
            "+-----+-----------+-----------+-----------+------------------+------------+---------------------+---------------------+---------------------+-----+------------+------------+-------------------+\n",
            "|    0|       16.9|          5|         18|                 3|          12|                 2015|                   11|                    3|   27|      [0,29]|          SP|             Semana|\n",
            "|    0|      34.84|          5|         19|                 4|          15|                 2015|                   11|                    3|   27|      [0,29]|          SP|             Semana|\n",
            "+-----+-----------+-----------+-----------+------------------+------------+---------------------+---------------------+---------------------+-----+------------+------------+-------------------+\n",
            "only showing top 2 rows\n",
            "\n"
          ]
        }
      ],
      "source": [
        "from xgboost.spark import SparkXGBClassifier\n",
        "from pyspark.ml.tuning import CrossValidator, TrainValidationSplit, ParamGridBuilder\n",
        "from pyspark.ml import Pipeline\n",
        "from pyspark.ml.feature import StringIndexer, VectorAssembler, OneHotEncoder\n",
        "from pyspark.ml.evaluation import BinaryClassificationEvaluator\n",
        "import numpy as np\n",
        "\n",
        "cols_to_select = ['isCbk', 'totalAmount','mes_logDate', 'dia_logDate', 'dia_semana_logDate',\n",
        "                  'hora_logDate', 'ano_customerCreatedAt',\n",
        "                  'mes_customerCreatedAt', 'dia_customerCreatedAt', 'idade', 'faixa_etaria',\n",
        "                  'billingState','periodo_dia_logDate']\n",
        "filter_train_data = train_data.select(cols_to_select)\n",
        "filter_val_data = val_data.select(cols_to_select)\n",
        "filter_train_data.show(2)"
      ]
    },
    {
      "cell_type": "markdown",
      "metadata": {
        "id": "SIGzrfuOEcMu"
      },
      "source": [
        "Definindo os ranges dos hiperparametros."
      ]
    },
    {
      "cell_type": "code",
      "execution_count": 51,
      "metadata": {
        "id": "5pRur3si-P7j"
      },
      "outputs": [],
      "source": [
        "negative_class = filter_train_data.filter(F.col('isCbk')==0).count()\n",
        "positive_class = filter_train_data.filter(F.col('isCbk')==1).count()\n",
        "\n",
        "ref_pos_weight = np.round(negative_class/positive_class)\n",
        "start = int(ref_pos_weight * .9)\n",
        "end = int(ref_pos_weight // .9)\n",
        "interval_class_pos_weight = list(range(start, end+1))\n",
        "interval_max_depth = [5,10,15]\n",
        "interval_eta = [0.001, 0.01]\n",
        "interval_col_sample_by_tree = [0.3, 0.4, 0.5]\n",
        "interval_subsample = [0.6, 0.7]\n",
        "interval_alpha = [1e-5, 1e-2, 0.1]"
      ]
    },
    {
      "cell_type": "markdown",
      "metadata": {
        "id": "3K-Dy4jBprU9"
      },
      "source": [
        "## Tunning: validacao train/test"
      ]
    },
    {
      "cell_type": "code",
      "execution_count": 52,
      "metadata": {
        "id": "EEqXKxJQpqva"
      },
      "outputs": [],
      "source": [
        "# num_features = ['totalAmount']\n",
        "\n",
        "# # features que tem uma ordem natural\n",
        "# cat_features_order = ['faixa_etaria', 'periodo_dia_logDate', 'dia_semana_logDate', 'mes_logDate','dia_logDate','hora_logDate',\n",
        "#                 'ano_customerCreatedAt','mes_customerCreatedAt','dia_customerCreatedAt']\n",
        "\n",
        "# # fatures que a ordem nao importa\n",
        "# cat_features = ['billingState']\n",
        "\n",
        "# targetIndexer = StringIndexer(inputCol='isCbk', outputCol='isCbkIndex', handleInvalid='keep')\n",
        "\n",
        "# indexers = [StringIndexer(inputCol=c, outputCol=\"{}_indexed\".format(c), handleInvalid='keep') for c in cat_features_order]\n",
        "\n",
        "# indexers_enc = [StringIndexer(inputCol=c, outputCol=\"{}_indexed_encoded\".format(c), handleInvalid='keep') for c in cat_features]\n",
        "\n",
        "# encoders = [OneHotEncoder(inputCol=indexer.getOutputCol(),\n",
        "#                           outputCol=\"{}_encoded\".format(indexer.getOutputCol())) for indexer in indexers_enc]\n",
        "\n",
        "# assemblerInputs = [c + \"_indexed_encoded\" for c in cat_features] + [c + \"_indexed\" for c in cat_features_order] + [c for c in num_features]\n",
        "# assembler = VectorAssembler(inputCols=assemblerInputs, outputCol='features')\n",
        "\n",
        "# xgb = SparkXGBClassifier(\n",
        "#     features_col='features',\n",
        "#     label_col='isCbk',\n",
        "#     prediction_col='prediction',\n",
        "#     numRound=100\n",
        "# )\n",
        "\n",
        "# pipeline = Pipeline(stages=indexers + indexers_enc + encoders + [targetIndexer, assembler, xgb])\n",
        "\n",
        "# # Create a ParamGridBuilder to specify the parameters to cross-validate\n",
        "# param_grid = ParamGridBuilder()\\\n",
        "#           .addGrid(xgb.max_depth, interval_max_depth) \\\n",
        "#           .addGrid(xgb.scale_pos_weight, interval_class_pos_weight)\\\n",
        "#           .addGrid(xgb.learning_rate, interval_eta)\\\n",
        "#           .addGrid(xgb.colsample_bytree, interval_col_sample_by_tree)\\\n",
        "#           .addGrid(xgb.subsample, interval_col_sample_by_tree)\\\n",
        "#           .addGrid(xgb.reg_alpha, interval_alpha)\\\n",
        "#           .build()\n",
        "\n",
        "\n",
        "# evaluator = BinaryClassificationEvaluator(\n",
        "#     labelCol='isCbkIndex',\n",
        "#     rawPredictionCol='prediction',\n",
        "#     metricName='areaUnderPR'\n",
        "# )\n",
        "\n",
        "# tvsplit = TrainValidationSplit(\n",
        "#     estimator=pipeline,\n",
        "#     estimatorParamMaps=param_grid,\n",
        "#     evaluator=evaluator,\n",
        "#     trainRatio=0.7\n",
        "# )\n",
        "\n",
        "\n",
        "# # Train the cross-validator\n",
        "# model = tvsplit.fit(filter_train_data)\n",
        "\n",
        "# # # model = pipeline.fit(filter_train_data)\n",
        "# # prediction = model_cv.transform(filter_val_data)\n",
        "\n",
        "# # # Definindo o avaliador\n",
        "# # evaluator = BinaryClassificationEvaluator(\n",
        "# #     labelCol='isCbkIndex',\n",
        "# #     predictionCol='prediction',\n",
        "# #     metricName='f1', beta=1.0\n",
        "# # )\n",
        "\n",
        "# # # Definindo as metricas\n",
        "# # f1 = evaluator.evaluate(prediction, {evaluator.metricName: 'f1'})\n",
        "# # weightedPrecision = evaluator.evaluate(prediction, {evaluator.metricName: 'weightedPrecision'})\n",
        "# # weightedRecall = evaluator.evaluate(prediction, {evaluator.metricName: 'weightedRecall'})\n",
        "\n",
        "# # # Avaliando o modelo\n",
        "# # print('\\n=======================')\n",
        "# # print('F1 Score = {}'.format(np.round(f1, 4)))\n",
        "# # print('Weighted Precision = {}'.format(np.round(weightedPrecision, 4)))\n",
        "# # print('Weighted Recall = {}'.format(np.round(weightedRecall, 4)))"
      ]
    },
    {
      "cell_type": "code",
      "execution_count": 53,
      "metadata": {
        "id": "wxl1Gr1hsXJV"
      },
      "outputs": [],
      "source": [
        "# # Evaluate the best model on the test data\n",
        "# prediction = tvsplit.transform(filter_val_data)\n",
        "\n",
        "# # f1 = evaluator.evaluate(prediction, {evaluator.metricName: 'f1'})\n",
        "# areaUnderPR = evaluator.evaluate(prediction, {evaluator.metricName: 'areaUnderPR'})\n",
        "\n",
        "# # Print the results\n",
        "# print(f\"Area Under Precision/Recall: {areaUnderPR}\")"
      ]
    },
    {
      "cell_type": "markdown",
      "metadata": {
        "id": "z2HQ_WPKquUE"
      },
      "source": [
        "## Tunning: CV (Opcional nesse caso)\n",
        "Opcao secundaria por ser extremamente custosa para o algoritmo. Soma-se isso o fato do pyspark ml nao oferecer suporte nativo a uma alternativa muito mais interessante que seria a estratificacao baseada em otimizacao bayesiana o que baratearia muito o custo da busca dos hiperparametros."
      ]
    },
    {
      "cell_type": "code",
      "execution_count": 54,
      "metadata": {
        "id": "Qayy9X9pmryO"
      },
      "outputs": [],
      "source": [
        "num_features = ['totalAmount']\n",
        "\n",
        "# features que tem uma ordem natural\n",
        "cat_features_order = ['faixa_etaria', 'periodo_dia_logDate', 'dia_semana_logDate', 'mes_logDate','dia_logDate','hora_logDate',\n",
        "                'ano_customerCreatedAt','mes_customerCreatedAt','dia_customerCreatedAt']\n",
        "\n",
        "# fatures que a ordem nao importa\n",
        "cat_features = ['billingState']\n",
        "\n",
        "targetIndexer = StringIndexer(inputCol='isCbk', outputCol='isCbkIndex', handleInvalid='keep')\n",
        "\n",
        "indexers = [StringIndexer(inputCol=c, outputCol=\"{}_indexed\".format(c), handleInvalid='keep') for c in cat_features_order]\n",
        "\n",
        "indexers_enc = [StringIndexer(inputCol=c, outputCol=\"{}_indexed_encoded\".format(c), handleInvalid='keep') for c in cat_features]\n",
        "\n",
        "encoders = [OneHotEncoder(inputCol=indexer.getOutputCol(),\n",
        "                          outputCol=\"{}_encoded\".format(indexer.getOutputCol())) for indexer in indexers_enc]\n",
        "\n",
        "assemblerInputs = [c + \"_indexed_encoded\" for c in cat_features] + [c + \"_indexed\" for c in cat_features_order] + [c for c in num_features]\n",
        "assembler = VectorAssembler(inputCols=assemblerInputs, outputCol='features')\n",
        "\n",
        "xgb = SparkXGBClassifier(\n",
        "    features_col='features',\n",
        "    label_col='isCbk',\n",
        "    prediction_col='prediction',\n",
        "    numRound=100\n",
        ")\n",
        "\n",
        "pipeline = Pipeline(stages=indexers + indexers_enc + encoders + [targetIndexer, assembler, xgb])\n",
        "\n",
        "# Create a ParamGridBuilder to specify the parameters to cross-validate\n",
        "param_grid = ParamGridBuilder()\\\n",
        "          .addGrid(xgb.max_depth, interval_max_depth) \\\n",
        "          .addGrid(xgb.scale_pos_weight, interval_class_pos_weight)\\\n",
        "          .addGrid(xgb.learning_rate, interval_eta)\\\n",
        "          .addGrid(xgb.colsample_bytree, interval_col_sample_by_tree)\\\n",
        "          .addGrid(xgb.subsample, interval_col_sample_by_tree)\\\n",
        "          .addGrid(xgb.reg_alpha, interval_alpha)\\\n",
        "          .build()\n",
        "\n",
        "\n",
        "evaluator = BinaryClassificationEvaluator(\n",
        "    labelCol='isCbkIndex',\n",
        "    rawPredictionCol='prediction',\n",
        "    metricName='areaUnderPR'\n",
        ")\n",
        "\n",
        "cv = CrossValidator(\n",
        "    estimator=pipeline,\n",
        "    estimatorParamMaps=param_grid,\n",
        "    evaluator = evaluator,\n",
        "    numFolds=3\n",
        ")\n",
        "\n",
        "# Train the cross-validator\n",
        "model_cv = cv.fit(filter_train_data)"
      ]
    },
    {
      "cell_type": "code",
      "execution_count": 55,
      "metadata": {
        "id": "SPO47kZyKL51"
      },
      "outputs": [],
      "source": [
        "# printando os melhores hiperparametros\n",
        "model_cv.bestModel.stages[-1].extractParamMap()"
      ]
    },
    {
      "cell_type": "code",
      "execution_count": 56,
      "metadata": {
        "id": "YlHWUCL9El2o"
      },
      "outputs": [],
      "source": [
        "# Evaluate the best model on the test data\n",
        "prediction = model_cv.transform(filter_val_data)\n",
        "\n",
        "# f1 = evaluator.evaluate(prediction, {evaluator.metricName: 'f1'})\n",
        "areaUnderPR = evaluator.evaluate(prediction, {evaluator.metricName: 'areaUnderPR'})\n",
        "\n",
        "# Print the results\n",
        "print(f\"Area Under Precision/Recall: {areaUnderPR}\")"
      ]
    },
    {
      "cell_type": "markdown",
      "metadata": {
        "id": "T7uzjmkLsksQ"
      },
      "source": [
        "## Avaliacao do modelo"
      ]
    },
    {
      "cell_type": "code",
      "execution_count": 57,
      "metadata": {
        "id": "DFS39zsHEMZL"
      },
      "outputs": [],
      "source": [
        "# df_select_pred = prediction.select(\"isCbkIndex\", \"prediction\", \"probability\")\n",
        "# # df_select_pred.filter(F.col('IsCbkIndex')==1).toPandas()\n",
        "\n",
        "# tp = df_select_pred.where(df_select_pred[\"isCbkIndex\"] == 1).where(df_select_pred[\"prediction\"] == 1).count()\n",
        "# tn = df_select_pred.where(df_select_pred[\"isCbkIndex\"] == 0).where(df_select_pred[\"prediction\"] == 0).count()\n",
        "# fp = df_select_pred.where(df_select_pred[\"isCbkIndex\"] == 0).where(df_select_pred[\"prediction\"] == 1).count()\n",
        "# fn = df_select_pred.where(df_select_pred[\"isCbkIndex\"] == 1).where(df_select_pred[\"prediction\"] == 0).count()\n",
        "\n",
        "# print('TP = {}'.format(tp))\n",
        "# print('TN = {}'.format(tn))\n",
        "# print('FP = {}'.format(fp))\n",
        "# print('FN = {}'.format(fn))\n",
        "\n",
        "# print('Recall = {}'.format(tp/(tp+fn)))\n",
        "# print('Precision = {}'.format(tp/(tp+fp)))"
      ]
    },
    {
      "cell_type": "code",
      "execution_count": 58,
      "metadata": {
        "id": "gQSGEnTX2MbR"
      },
      "outputs": [],
      "source": [
        "# Fazendo previsões no conjunto de teste\n",
        "# predictions = model.transform(filter_val_data)\n",
        "# filtered_prediction = predictions.limit(10000)\n",
        "# Count the number of missing values per column\n",
        "# missing_counts = filtered_prediction.agg(*(F.count(F.col(c)).alias(c) for c in filtered_prediction.columns))\n",
        "# Print the results\n",
        "# missing_counts.show()\n",
        "# predictions.show(110)\n",
        "# predictions.head(1)"
      ]
    },
    {
      "cell_type": "markdown",
      "source": [
        "# Etapa de modelagem: Parte 2"
      ],
      "metadata": {
        "id": "Lt0YUe6AFuca"
      }
    },
    {
      "cell_type": "markdown",
      "source": [
        "Como dito acima seguiremos toda nossa etapa de construcao do modelo de ML utilizando python nativo para isso precisamos converter o objeto spark em um dataframe do pandas."
      ],
      "metadata": {
        "id": "DzSvZ3jyF36h"
      }
    },
    {
      "cell_type": "code",
      "source": [
        "!pip install scikit-optimize"
      ],
      "metadata": {
        "colab": {
          "base_uri": "https://localhost:8080/"
        },
        "id": "6hpCG282gio4",
        "outputId": "259d4fd1-a5f4-47c4-af3d-d5564413717a"
      },
      "execution_count": 59,
      "outputs": [
        {
          "output_type": "stream",
          "name": "stdout",
          "text": [
            "Requirement already satisfied: scikit-optimize in /usr/local/lib/python3.10/dist-packages (0.9.0)\n",
            "Requirement already satisfied: joblib>=0.11 in /usr/local/lib/python3.10/dist-packages (from scikit-optimize) (1.3.2)\n",
            "Requirement already satisfied: pyaml>=16.9 in /usr/local/lib/python3.10/dist-packages (from scikit-optimize) (23.12.0)\n",
            "Requirement already satisfied: numpy>=1.13.3 in /usr/local/lib/python3.10/dist-packages (from scikit-optimize) (1.25.2)\n",
            "Requirement already satisfied: scipy>=0.19.1 in /usr/local/lib/python3.10/dist-packages (from scikit-optimize) (1.11.4)\n",
            "Requirement already satisfied: scikit-learn>=0.20.0 in /usr/local/lib/python3.10/dist-packages (from scikit-optimize) (1.2.2)\n",
            "Requirement already satisfied: PyYAML in /usr/local/lib/python3.10/dist-packages (from pyaml>=16.9->scikit-optimize) (6.0.1)\n",
            "Requirement already satisfied: threadpoolctl>=2.0.0 in /usr/local/lib/python3.10/dist-packages (from scikit-learn>=0.20.0->scikit-optimize) (3.3.0)\n"
          ]
        }
      ]
    },
    {
      "cell_type": "code",
      "source": [
        "from sklearn.pipeline import Pipeline\n",
        "import pandas as pd\n",
        "# from collections import Counter\n",
        "from xgboost import XGBClassifier\n",
        "from sklearn.utils.class_weight import compute_class_weight\n",
        "from skopt import BayesSearchCV\n",
        "from skopt.space import Real, Categorical, Integer\n",
        "from sklearn.metrics import f1_score, make_scorer, classification_report, r2_score\n",
        "import warnings\n",
        "import time\n",
        "\n",
        "warnings.filterwarnings(\"ignore\")"
      ],
      "metadata": {
        "id": "IDGXIfrD7F0X"
      },
      "execution_count": 114,
      "outputs": []
    },
    {
      "cell_type": "code",
      "source": [
        "train_data, val_data, test_data = train_df_selected.toPandas(), val_df_selected.toPandas(), test_df_selected.toPandas()"
      ],
      "metadata": {
        "id": "zJ0mi3pTFwuF"
      },
      "execution_count": 115,
      "outputs": []
    },
    {
      "cell_type": "code",
      "source": [
        "cols_to_select = ['isCbk', 'totalAmount','mes_logDate', 'dia_logDate', 'dia_semana_logDate',\n",
        "                  'hora_logDate', 'ano_customerCreatedAt',\n",
        "                  'mes_customerCreatedAt', 'dia_customerCreatedAt', 'idade', 'faixa_etaria',\n",
        "                  'billingState','periodo_dia_logDate']\n",
        "\n",
        "filter_train_data = train_data[cols_to_select]\n",
        "filter_val_data = val_data[cols_to_select]\n",
        "filter_train_data.head(2)"
      ],
      "metadata": {
        "colab": {
          "base_uri": "https://localhost:8080/",
          "height": 132
        },
        "id": "e5erK1ON3gIt",
        "outputId": "daef0a11-c7fe-48d7-d344-a6f62fed3537"
      },
      "execution_count": 116,
      "outputs": [
        {
          "output_type": "execute_result",
          "data": {
            "text/plain": [
              "  isCbk  totalAmount  mes_logDate  dia_logDate  dia_semana_logDate  \\\n",
              "0     0        16.90            5           18                   3   \n",
              "1     0        34.84            5           19                   4   \n",
              "\n",
              "   hora_logDate  ano_customerCreatedAt  mes_customerCreatedAt  \\\n",
              "0            12                   2015                     11   \n",
              "1            15                   2015                     11   \n",
              "\n",
              "   dia_customerCreatedAt  idade faixa_etaria billingState periodo_dia_logDate  \n",
              "0                      3     27       [0,29]           SP              Semana  \n",
              "1                      3     27       [0,29]           SP              Semana  "
            ],
            "text/html": [
              "\n",
              "  <div id=\"df-b3fd9376-f3e7-4c7a-8c82-9679de8c8bc5\" class=\"colab-df-container\">\n",
              "    <div>\n",
              "<style scoped>\n",
              "    .dataframe tbody tr th:only-of-type {\n",
              "        vertical-align: middle;\n",
              "    }\n",
              "\n",
              "    .dataframe tbody tr th {\n",
              "        vertical-align: top;\n",
              "    }\n",
              "\n",
              "    .dataframe thead th {\n",
              "        text-align: right;\n",
              "    }\n",
              "</style>\n",
              "<table border=\"1\" class=\"dataframe\">\n",
              "  <thead>\n",
              "    <tr style=\"text-align: right;\">\n",
              "      <th></th>\n",
              "      <th>isCbk</th>\n",
              "      <th>totalAmount</th>\n",
              "      <th>mes_logDate</th>\n",
              "      <th>dia_logDate</th>\n",
              "      <th>dia_semana_logDate</th>\n",
              "      <th>hora_logDate</th>\n",
              "      <th>ano_customerCreatedAt</th>\n",
              "      <th>mes_customerCreatedAt</th>\n",
              "      <th>dia_customerCreatedAt</th>\n",
              "      <th>idade</th>\n",
              "      <th>faixa_etaria</th>\n",
              "      <th>billingState</th>\n",
              "      <th>periodo_dia_logDate</th>\n",
              "    </tr>\n",
              "  </thead>\n",
              "  <tbody>\n",
              "    <tr>\n",
              "      <th>0</th>\n",
              "      <td>0</td>\n",
              "      <td>16.90</td>\n",
              "      <td>5</td>\n",
              "      <td>18</td>\n",
              "      <td>3</td>\n",
              "      <td>12</td>\n",
              "      <td>2015</td>\n",
              "      <td>11</td>\n",
              "      <td>3</td>\n",
              "      <td>27</td>\n",
              "      <td>[0,29]</td>\n",
              "      <td>SP</td>\n",
              "      <td>Semana</td>\n",
              "    </tr>\n",
              "    <tr>\n",
              "      <th>1</th>\n",
              "      <td>0</td>\n",
              "      <td>34.84</td>\n",
              "      <td>5</td>\n",
              "      <td>19</td>\n",
              "      <td>4</td>\n",
              "      <td>15</td>\n",
              "      <td>2015</td>\n",
              "      <td>11</td>\n",
              "      <td>3</td>\n",
              "      <td>27</td>\n",
              "      <td>[0,29]</td>\n",
              "      <td>SP</td>\n",
              "      <td>Semana</td>\n",
              "    </tr>\n",
              "  </tbody>\n",
              "</table>\n",
              "</div>\n",
              "    <div class=\"colab-df-buttons\">\n",
              "\n",
              "  <div class=\"colab-df-container\">\n",
              "    <button class=\"colab-df-convert\" onclick=\"convertToInteractive('df-b3fd9376-f3e7-4c7a-8c82-9679de8c8bc5')\"\n",
              "            title=\"Convert this dataframe to an interactive table.\"\n",
              "            style=\"display:none;\">\n",
              "\n",
              "  <svg xmlns=\"http://www.w3.org/2000/svg\" height=\"24px\" viewBox=\"0 -960 960 960\">\n",
              "    <path d=\"M120-120v-720h720v720H120Zm60-500h600v-160H180v160Zm220 220h160v-160H400v160Zm0 220h160v-160H400v160ZM180-400h160v-160H180v160Zm440 0h160v-160H620v160ZM180-180h160v-160H180v160Zm440 0h160v-160H620v160Z\"/>\n",
              "  </svg>\n",
              "    </button>\n",
              "\n",
              "  <style>\n",
              "    .colab-df-container {\n",
              "      display:flex;\n",
              "      gap: 12px;\n",
              "    }\n",
              "\n",
              "    .colab-df-convert {\n",
              "      background-color: #E8F0FE;\n",
              "      border: none;\n",
              "      border-radius: 50%;\n",
              "      cursor: pointer;\n",
              "      display: none;\n",
              "      fill: #1967D2;\n",
              "      height: 32px;\n",
              "      padding: 0 0 0 0;\n",
              "      width: 32px;\n",
              "    }\n",
              "\n",
              "    .colab-df-convert:hover {\n",
              "      background-color: #E2EBFA;\n",
              "      box-shadow: 0px 1px 2px rgba(60, 64, 67, 0.3), 0px 1px 3px 1px rgba(60, 64, 67, 0.15);\n",
              "      fill: #174EA6;\n",
              "    }\n",
              "\n",
              "    .colab-df-buttons div {\n",
              "      margin-bottom: 4px;\n",
              "    }\n",
              "\n",
              "    [theme=dark] .colab-df-convert {\n",
              "      background-color: #3B4455;\n",
              "      fill: #D2E3FC;\n",
              "    }\n",
              "\n",
              "    [theme=dark] .colab-df-convert:hover {\n",
              "      background-color: #434B5C;\n",
              "      box-shadow: 0px 1px 3px 1px rgba(0, 0, 0, 0.15);\n",
              "      filter: drop-shadow(0px 1px 2px rgba(0, 0, 0, 0.3));\n",
              "      fill: #FFFFFF;\n",
              "    }\n",
              "  </style>\n",
              "\n",
              "    <script>\n",
              "      const buttonEl =\n",
              "        document.querySelector('#df-b3fd9376-f3e7-4c7a-8c82-9679de8c8bc5 button.colab-df-convert');\n",
              "      buttonEl.style.display =\n",
              "        google.colab.kernel.accessAllowed ? 'block' : 'none';\n",
              "\n",
              "      async function convertToInteractive(key) {\n",
              "        const element = document.querySelector('#df-b3fd9376-f3e7-4c7a-8c82-9679de8c8bc5');\n",
              "        const dataTable =\n",
              "          await google.colab.kernel.invokeFunction('convertToInteractive',\n",
              "                                                    [key], {});\n",
              "        if (!dataTable) return;\n",
              "\n",
              "        const docLinkHtml = 'Like what you see? Visit the ' +\n",
              "          '<a target=\"_blank\" href=https://colab.research.google.com/notebooks/data_table.ipynb>data table notebook</a>'\n",
              "          + ' to learn more about interactive tables.';\n",
              "        element.innerHTML = '';\n",
              "        dataTable['output_type'] = 'display_data';\n",
              "        await google.colab.output.renderOutput(dataTable, element);\n",
              "        const docLink = document.createElement('div');\n",
              "        docLink.innerHTML = docLinkHtml;\n",
              "        element.appendChild(docLink);\n",
              "      }\n",
              "    </script>\n",
              "  </div>\n",
              "\n",
              "\n",
              "<div id=\"df-f09dc3a4-eb22-4241-b0ae-4a3601f40a01\">\n",
              "  <button class=\"colab-df-quickchart\" onclick=\"quickchart('df-f09dc3a4-eb22-4241-b0ae-4a3601f40a01')\"\n",
              "            title=\"Suggest charts\"\n",
              "            style=\"display:none;\">\n",
              "\n",
              "<svg xmlns=\"http://www.w3.org/2000/svg\" height=\"24px\"viewBox=\"0 0 24 24\"\n",
              "     width=\"24px\">\n",
              "    <g>\n",
              "        <path d=\"M19 3H5c-1.1 0-2 .9-2 2v14c0 1.1.9 2 2 2h14c1.1 0 2-.9 2-2V5c0-1.1-.9-2-2-2zM9 17H7v-7h2v7zm4 0h-2V7h2v10zm4 0h-2v-4h2v4z\"/>\n",
              "    </g>\n",
              "</svg>\n",
              "  </button>\n",
              "\n",
              "<style>\n",
              "  .colab-df-quickchart {\n",
              "      --bg-color: #E8F0FE;\n",
              "      --fill-color: #1967D2;\n",
              "      --hover-bg-color: #E2EBFA;\n",
              "      --hover-fill-color: #174EA6;\n",
              "      --disabled-fill-color: #AAA;\n",
              "      --disabled-bg-color: #DDD;\n",
              "  }\n",
              "\n",
              "  [theme=dark] .colab-df-quickchart {\n",
              "      --bg-color: #3B4455;\n",
              "      --fill-color: #D2E3FC;\n",
              "      --hover-bg-color: #434B5C;\n",
              "      --hover-fill-color: #FFFFFF;\n",
              "      --disabled-bg-color: #3B4455;\n",
              "      --disabled-fill-color: #666;\n",
              "  }\n",
              "\n",
              "  .colab-df-quickchart {\n",
              "    background-color: var(--bg-color);\n",
              "    border: none;\n",
              "    border-radius: 50%;\n",
              "    cursor: pointer;\n",
              "    display: none;\n",
              "    fill: var(--fill-color);\n",
              "    height: 32px;\n",
              "    padding: 0;\n",
              "    width: 32px;\n",
              "  }\n",
              "\n",
              "  .colab-df-quickchart:hover {\n",
              "    background-color: var(--hover-bg-color);\n",
              "    box-shadow: 0 1px 2px rgba(60, 64, 67, 0.3), 0 1px 3px 1px rgba(60, 64, 67, 0.15);\n",
              "    fill: var(--button-hover-fill-color);\n",
              "  }\n",
              "\n",
              "  .colab-df-quickchart-complete:disabled,\n",
              "  .colab-df-quickchart-complete:disabled:hover {\n",
              "    background-color: var(--disabled-bg-color);\n",
              "    fill: var(--disabled-fill-color);\n",
              "    box-shadow: none;\n",
              "  }\n",
              "\n",
              "  .colab-df-spinner {\n",
              "    border: 2px solid var(--fill-color);\n",
              "    border-color: transparent;\n",
              "    border-bottom-color: var(--fill-color);\n",
              "    animation:\n",
              "      spin 1s steps(1) infinite;\n",
              "  }\n",
              "\n",
              "  @keyframes spin {\n",
              "    0% {\n",
              "      border-color: transparent;\n",
              "      border-bottom-color: var(--fill-color);\n",
              "      border-left-color: var(--fill-color);\n",
              "    }\n",
              "    20% {\n",
              "      border-color: transparent;\n",
              "      border-left-color: var(--fill-color);\n",
              "      border-top-color: var(--fill-color);\n",
              "    }\n",
              "    30% {\n",
              "      border-color: transparent;\n",
              "      border-left-color: var(--fill-color);\n",
              "      border-top-color: var(--fill-color);\n",
              "      border-right-color: var(--fill-color);\n",
              "    }\n",
              "    40% {\n",
              "      border-color: transparent;\n",
              "      border-right-color: var(--fill-color);\n",
              "      border-top-color: var(--fill-color);\n",
              "    }\n",
              "    60% {\n",
              "      border-color: transparent;\n",
              "      border-right-color: var(--fill-color);\n",
              "    }\n",
              "    80% {\n",
              "      border-color: transparent;\n",
              "      border-right-color: var(--fill-color);\n",
              "      border-bottom-color: var(--fill-color);\n",
              "    }\n",
              "    90% {\n",
              "      border-color: transparent;\n",
              "      border-bottom-color: var(--fill-color);\n",
              "    }\n",
              "  }\n",
              "</style>\n",
              "\n",
              "  <script>\n",
              "    async function quickchart(key) {\n",
              "      const quickchartButtonEl =\n",
              "        document.querySelector('#' + key + ' button');\n",
              "      quickchartButtonEl.disabled = true;  // To prevent multiple clicks.\n",
              "      quickchartButtonEl.classList.add('colab-df-spinner');\n",
              "      try {\n",
              "        const charts = await google.colab.kernel.invokeFunction(\n",
              "            'suggestCharts', [key], {});\n",
              "      } catch (error) {\n",
              "        console.error('Error during call to suggestCharts:', error);\n",
              "      }\n",
              "      quickchartButtonEl.classList.remove('colab-df-spinner');\n",
              "      quickchartButtonEl.classList.add('colab-df-quickchart-complete');\n",
              "    }\n",
              "    (() => {\n",
              "      let quickchartButtonEl =\n",
              "        document.querySelector('#df-f09dc3a4-eb22-4241-b0ae-4a3601f40a01 button');\n",
              "      quickchartButtonEl.style.display =\n",
              "        google.colab.kernel.accessAllowed ? 'block' : 'none';\n",
              "    })();\n",
              "  </script>\n",
              "</div>\n",
              "\n",
              "    </div>\n",
              "  </div>\n"
            ],
            "application/vnd.google.colaboratory.intrinsic+json": {
              "type": "dataframe",
              "variable_name": "filter_train_data",
              "summary": "{\n  \"name\": \"filter_train_data\",\n  \"rows\": 2826,\n  \"fields\": [\n    {\n      \"column\": \"isCbk\",\n      \"properties\": {\n        \"dtype\": \"category\",\n        \"num_unique_values\": 2,\n        \"samples\": [\n          \"1\",\n          \"0\"\n        ],\n        \"semantic_type\": \"\",\n        \"description\": \"\"\n      }\n    },\n    {\n      \"column\": \"totalAmount\",\n      \"properties\": {\n        \"dtype\": \"number\",\n        \"std\": 221.5418414490643,\n        \"min\": 2.01,\n        \"max\": 3569.35,\n        \"num_unique_values\": 716,\n        \"samples\": [\n          18.06,\n          269.63\n        ],\n        \"semantic_type\": \"\",\n        \"description\": \"\"\n      }\n    },\n    {\n      \"column\": \"mes_logDate\",\n      \"properties\": {\n        \"dtype\": \"int32\",\n        \"num_unique_values\": 2,\n        \"samples\": [\n          4,\n          5\n        ],\n        \"semantic_type\": \"\",\n        \"description\": \"\"\n      }\n    },\n    {\n      \"column\": \"dia_logDate\",\n      \"properties\": {\n        \"dtype\": \"int32\",\n        \"num_unique_values\": 31,\n        \"samples\": [\n          14,\n          24\n        ],\n        \"semantic_type\": \"\",\n        \"description\": \"\"\n      }\n    },\n    {\n      \"column\": \"dia_semana_logDate\",\n      \"properties\": {\n        \"dtype\": \"int32\",\n        \"num_unique_values\": 7,\n        \"samples\": [\n          3,\n          4\n        ],\n        \"semantic_type\": \"\",\n        \"description\": \"\"\n      }\n    },\n    {\n      \"column\": \"hora_logDate\",\n      \"properties\": {\n        \"dtype\": \"int32\",\n        \"num_unique_values\": 24,\n        \"samples\": [\n          19,\n          13\n        ],\n        \"semantic_type\": \"\",\n        \"description\": \"\"\n      }\n    },\n    {\n      \"column\": \"ano_customerCreatedAt\",\n      \"properties\": {\n        \"dtype\": \"int32\",\n        \"num_unique_values\": 9,\n        \"samples\": [\n          2014,\n          2017\n        ],\n        \"semantic_type\": \"\",\n        \"description\": \"\"\n      }\n    },\n    {\n      \"column\": \"mes_customerCreatedAt\",\n      \"properties\": {\n        \"dtype\": \"int32\",\n        \"num_unique_values\": 12,\n        \"samples\": [\n          10,\n          3\n        ],\n        \"semantic_type\": \"\",\n        \"description\": \"\"\n      }\n    },\n    {\n      \"column\": \"dia_customerCreatedAt\",\n      \"properties\": {\n        \"dtype\": \"int32\",\n        \"num_unique_values\": 31,\n        \"samples\": [\n          14,\n          10\n        ],\n        \"semantic_type\": \"\",\n        \"description\": \"\"\n      }\n    },\n    {\n      \"column\": \"idade\",\n      \"properties\": {\n        \"dtype\": \"int32\",\n        \"num_unique_values\": 58,\n        \"samples\": [\n          27,\n          22\n        ],\n        \"semantic_type\": \"\",\n        \"description\": \"\"\n      }\n    },\n    {\n      \"column\": \"faixa_etaria\",\n      \"properties\": {\n        \"dtype\": \"category\",\n        \"num_unique_values\": 3,\n        \"samples\": [\n          \"[0,29]\",\n          \"40+\"\n        ],\n        \"semantic_type\": \"\",\n        \"description\": \"\"\n      }\n    },\n    {\n      \"column\": \"billingState\",\n      \"properties\": {\n        \"dtype\": \"category\",\n        \"num_unique_values\": 25,\n        \"samples\": [\n          \"AL\",\n          \"PA\"\n        ],\n        \"semantic_type\": \"\",\n        \"description\": \"\"\n      }\n    },\n    {\n      \"column\": \"periodo_dia_logDate\",\n      \"properties\": {\n        \"dtype\": \"category\",\n        \"num_unique_values\": 2,\n        \"samples\": [\n          \"Final de semana\",\n          \"Semana\"\n        ],\n        \"semantic_type\": \"\",\n        \"description\": \"\"\n      }\n    }\n  ]\n}"
            }
          },
          "metadata": {},
          "execution_count": 116
        }
      ]
    },
    {
      "cell_type": "code",
      "source": [
        "def convert_datatypes(dataset: DataFrame):\n",
        "  int_list = ['isCbk']\n",
        "  category_list = ['mes_logDate', 'dia_logDate', 'dia_semana_logDate',\n",
        "                   'hora_logDate', 'ano_customerCreatedAt', 'mes_customerCreatedAt','dia_customerCreatedAt',\n",
        "                   'idade', 'faixa_etaria', 'billingState','periodo_dia_logDate','periodo_dia_logDate']\n",
        "\n",
        "  for ci in int_list:\n",
        "    dataset.loc[:, ci] = dataset[ci].astype(int)\n",
        "\n",
        "  for cl in category_list:\n",
        "    dataset.loc[:, cl] = dataset[cl].astype('category')\n",
        "\n",
        "  return dataset\n",
        "\n",
        "filter_train_data = convert_datatypes(filter_train_data)\n",
        "filter_val_data = convert_datatypes(filter_val_data)"
      ],
      "metadata": {
        "id": "jmisaLidGj1b"
      },
      "execution_count": 118,
      "outputs": []
    },
    {
      "cell_type": "code",
      "source": [
        "target = ['isCbk']\n",
        "\n",
        "X_train, y_train = (\n",
        "    filter_train_data.drop(target, axis=1), filter_train_data[target]\n",
        ")\n",
        "\n",
        "X_test, y_test = (\n",
        "    filter_val_data.drop(target, axis=1), filter_val_data[target]\n",
        ")"
      ],
      "metadata": {
        "id": "lot_5Ku9Byi6"
      },
      "execution_count": 119,
      "outputs": []
    },
    {
      "cell_type": "markdown",
      "source": [
        "**Versao 1: Baseline model** utilizando todos os parametros default"
      ],
      "metadata": {
        "id": "M7DCgiNOO_QS"
      }
    },
    {
      "cell_type": "code",
      "source": [
        "# start_time = time.time()\n",
        "base_params = {}\n",
        "\n",
        "pipeline = Pipeline([\n",
        "    ('xgb',  XGBClassifier(**base_params, enable_categorical=True))\n",
        "])\n",
        "\n",
        "pipeline.fit(X_train, y_train)\n",
        "\n",
        "# end_time = time.time()\n",
        "# print('Tempo de execucao = {}s' .format(np.round(end_time - start_time)))"
      ],
      "metadata": {
        "colab": {
          "base_uri": "https://localhost:8080/",
          "height": 92
        },
        "id": "kXY-HQFj3SRy",
        "outputId": "a826c04a-e0a7-43e8-89a4-5458a9ce6de0"
      },
      "execution_count": 120,
      "outputs": [
        {
          "output_type": "execute_result",
          "data": {
            "text/plain": [
              "Pipeline(steps=[('xgb',\n",
              "                 XGBClassifier(base_score=None, booster=None, callbacks=None,\n",
              "                               colsample_bylevel=None, colsample_bynode=None,\n",
              "                               colsample_bytree=None, device=None,\n",
              "                               early_stopping_rounds=None,\n",
              "                               enable_categorical=True, eval_metric=None,\n",
              "                               feature_types=None, gamma=None, grow_policy=None,\n",
              "                               importance_type=None,\n",
              "                               interaction_constraints=None, learning_rate=None,\n",
              "                               max_bin=None, max_cat_threshold=None,\n",
              "                               max_cat_to_onehot=None, max_delta_step=None,\n",
              "                               max_depth=None, max_leaves=None,\n",
              "                               min_child_weight=None, missing=nan,\n",
              "                               monotone_constraints=None, multi_strategy=None,\n",
              "                               n_estimators=None, n_jobs=None,\n",
              "                               num_parallel_tree=None, random_state=None, ...))])"
            ],
            "text/html": [
              "<style>#sk-container-id-8 {color: black;background-color: white;}#sk-container-id-8 pre{padding: 0;}#sk-container-id-8 div.sk-toggleable {background-color: white;}#sk-container-id-8 label.sk-toggleable__label {cursor: pointer;display: block;width: 100%;margin-bottom: 0;padding: 0.3em;box-sizing: border-box;text-align: center;}#sk-container-id-8 label.sk-toggleable__label-arrow:before {content: \"▸\";float: left;margin-right: 0.25em;color: #696969;}#sk-container-id-8 label.sk-toggleable__label-arrow:hover:before {color: black;}#sk-container-id-8 div.sk-estimator:hover label.sk-toggleable__label-arrow:before {color: black;}#sk-container-id-8 div.sk-toggleable__content {max-height: 0;max-width: 0;overflow: hidden;text-align: left;background-color: #f0f8ff;}#sk-container-id-8 div.sk-toggleable__content pre {margin: 0.2em;color: black;border-radius: 0.25em;background-color: #f0f8ff;}#sk-container-id-8 input.sk-toggleable__control:checked~div.sk-toggleable__content {max-height: 200px;max-width: 100%;overflow: auto;}#sk-container-id-8 input.sk-toggleable__control:checked~label.sk-toggleable__label-arrow:before {content: \"▾\";}#sk-container-id-8 div.sk-estimator input.sk-toggleable__control:checked~label.sk-toggleable__label {background-color: #d4ebff;}#sk-container-id-8 div.sk-label input.sk-toggleable__control:checked~label.sk-toggleable__label {background-color: #d4ebff;}#sk-container-id-8 input.sk-hidden--visually {border: 0;clip: rect(1px 1px 1px 1px);clip: rect(1px, 1px, 1px, 1px);height: 1px;margin: -1px;overflow: hidden;padding: 0;position: absolute;width: 1px;}#sk-container-id-8 div.sk-estimator {font-family: monospace;background-color: #f0f8ff;border: 1px dotted black;border-radius: 0.25em;box-sizing: border-box;margin-bottom: 0.5em;}#sk-container-id-8 div.sk-estimator:hover {background-color: #d4ebff;}#sk-container-id-8 div.sk-parallel-item::after {content: \"\";width: 100%;border-bottom: 1px solid gray;flex-grow: 1;}#sk-container-id-8 div.sk-label:hover label.sk-toggleable__label {background-color: #d4ebff;}#sk-container-id-8 div.sk-serial::before {content: \"\";position: absolute;border-left: 1px solid gray;box-sizing: border-box;top: 0;bottom: 0;left: 50%;z-index: 0;}#sk-container-id-8 div.sk-serial {display: flex;flex-direction: column;align-items: center;background-color: white;padding-right: 0.2em;padding-left: 0.2em;position: relative;}#sk-container-id-8 div.sk-item {position: relative;z-index: 1;}#sk-container-id-8 div.sk-parallel {display: flex;align-items: stretch;justify-content: center;background-color: white;position: relative;}#sk-container-id-8 div.sk-item::before, #sk-container-id-8 div.sk-parallel-item::before {content: \"\";position: absolute;border-left: 1px solid gray;box-sizing: border-box;top: 0;bottom: 0;left: 50%;z-index: -1;}#sk-container-id-8 div.sk-parallel-item {display: flex;flex-direction: column;z-index: 1;position: relative;background-color: white;}#sk-container-id-8 div.sk-parallel-item:first-child::after {align-self: flex-end;width: 50%;}#sk-container-id-8 div.sk-parallel-item:last-child::after {align-self: flex-start;width: 50%;}#sk-container-id-8 div.sk-parallel-item:only-child::after {width: 0;}#sk-container-id-8 div.sk-dashed-wrapped {border: 1px dashed gray;margin: 0 0.4em 0.5em 0.4em;box-sizing: border-box;padding-bottom: 0.4em;background-color: white;}#sk-container-id-8 div.sk-label label {font-family: monospace;font-weight: bold;display: inline-block;line-height: 1.2em;}#sk-container-id-8 div.sk-label-container {text-align: center;}#sk-container-id-8 div.sk-container {/* jupyter's `normalize.less` sets `[hidden] { display: none; }` but bootstrap.min.css set `[hidden] { display: none !important; }` so we also need the `!important` here to be able to override the default hidden behavior on the sphinx rendered scikit-learn.org. See: https://github.com/scikit-learn/scikit-learn/issues/21755 */display: inline-block !important;position: relative;}#sk-container-id-8 div.sk-text-repr-fallback {display: none;}</style><div id=\"sk-container-id-8\" class=\"sk-top-container\"><div class=\"sk-text-repr-fallback\"><pre>Pipeline(steps=[(&#x27;xgb&#x27;,\n",
              "                 XGBClassifier(base_score=None, booster=None, callbacks=None,\n",
              "                               colsample_bylevel=None, colsample_bynode=None,\n",
              "                               colsample_bytree=None, device=None,\n",
              "                               early_stopping_rounds=None,\n",
              "                               enable_categorical=True, eval_metric=None,\n",
              "                               feature_types=None, gamma=None, grow_policy=None,\n",
              "                               importance_type=None,\n",
              "                               interaction_constraints=None, learning_rate=None,\n",
              "                               max_bin=None, max_cat_threshold=None,\n",
              "                               max_cat_to_onehot=None, max_delta_step=None,\n",
              "                               max_depth=None, max_leaves=None,\n",
              "                               min_child_weight=None, missing=nan,\n",
              "                               monotone_constraints=None, multi_strategy=None,\n",
              "                               n_estimators=None, n_jobs=None,\n",
              "                               num_parallel_tree=None, random_state=None, ...))])</pre><b>In a Jupyter environment, please rerun this cell to show the HTML representation or trust the notebook. <br />On GitHub, the HTML representation is unable to render, please try loading this page with nbviewer.org.</b></div><div class=\"sk-container\" hidden><div class=\"sk-item sk-dashed-wrapped\"><div class=\"sk-label-container\"><div class=\"sk-label sk-toggleable\"><input class=\"sk-toggleable__control sk-hidden--visually\" id=\"sk-estimator-id-15\" type=\"checkbox\" ><label for=\"sk-estimator-id-15\" class=\"sk-toggleable__label sk-toggleable__label-arrow\">Pipeline</label><div class=\"sk-toggleable__content\"><pre>Pipeline(steps=[(&#x27;xgb&#x27;,\n",
              "                 XGBClassifier(base_score=None, booster=None, callbacks=None,\n",
              "                               colsample_bylevel=None, colsample_bynode=None,\n",
              "                               colsample_bytree=None, device=None,\n",
              "                               early_stopping_rounds=None,\n",
              "                               enable_categorical=True, eval_metric=None,\n",
              "                               feature_types=None, gamma=None, grow_policy=None,\n",
              "                               importance_type=None,\n",
              "                               interaction_constraints=None, learning_rate=None,\n",
              "                               max_bin=None, max_cat_threshold=None,\n",
              "                               max_cat_to_onehot=None, max_delta_step=None,\n",
              "                               max_depth=None, max_leaves=None,\n",
              "                               min_child_weight=None, missing=nan,\n",
              "                               monotone_constraints=None, multi_strategy=None,\n",
              "                               n_estimators=None, n_jobs=None,\n",
              "                               num_parallel_tree=None, random_state=None, ...))])</pre></div></div></div><div class=\"sk-serial\"><div class=\"sk-item\"><div class=\"sk-estimator sk-toggleable\"><input class=\"sk-toggleable__control sk-hidden--visually\" id=\"sk-estimator-id-16\" type=\"checkbox\" ><label for=\"sk-estimator-id-16\" class=\"sk-toggleable__label sk-toggleable__label-arrow\">XGBClassifier</label><div class=\"sk-toggleable__content\"><pre>XGBClassifier(base_score=None, booster=None, callbacks=None,\n",
              "              colsample_bylevel=None, colsample_bynode=None,\n",
              "              colsample_bytree=None, device=None, early_stopping_rounds=None,\n",
              "              enable_categorical=True, eval_metric=None, feature_types=None,\n",
              "              gamma=None, grow_policy=None, importance_type=None,\n",
              "              interaction_constraints=None, learning_rate=None, max_bin=None,\n",
              "              max_cat_threshold=None, max_cat_to_onehot=None,\n",
              "              max_delta_step=None, max_depth=None, max_leaves=None,\n",
              "              min_child_weight=None, missing=nan, monotone_constraints=None,\n",
              "              multi_strategy=None, n_estimators=None, n_jobs=None,\n",
              "              num_parallel_tree=None, random_state=None, ...)</pre></div></div></div></div></div></div></div>"
            ]
          },
          "metadata": {},
          "execution_count": 120
        }
      ]
    },
    {
      "cell_type": "markdown",
      "source": [
        "**AVALIACAO: Versao 1 do modelo**"
      ],
      "metadata": {
        "id": "c0oKsyGTUwjV"
      }
    },
    {
      "cell_type": "code",
      "source": [
        "predictions_xgb = pipeline.predict(X_test)\n",
        "print(classification_report(y_test, predictions_xgb))"
      ],
      "metadata": {
        "colab": {
          "base_uri": "https://localhost:8080/"
        },
        "id": "QZgrChOxGGt4",
        "outputId": "94951ce6-8eef-4a6f-fb9e-f65df8cc98b2"
      },
      "execution_count": 121,
      "outputs": [
        {
          "output_type": "stream",
          "name": "stdout",
          "text": [
            "              precision    recall  f1-score   support\n",
            "\n",
            "           0       0.98      1.00      0.99      2760\n",
            "           1       0.00      0.00      0.00        68\n",
            "\n",
            "    accuracy                           0.97      2828\n",
            "   macro avg       0.49      0.50      0.49      2828\n",
            "weighted avg       0.95      0.97      0.96      2828\n",
            "\n"
          ]
        }
      ]
    },
    {
      "cell_type": "code",
      "source": [
        "y_test_df = pd.DataFrame(y_test)\n",
        "predictions_xgb_df = pd.DataFrame(predictions_xgb).rename(columns={0:'isCbk_pred'})\n",
        "results_df = pd.concat([y_test_df, predictions_xgb_df], axis=1)"
      ],
      "metadata": {
        "id": "Snd8COAVWFhb"
      },
      "execution_count": 122,
      "outputs": []
    },
    {
      "cell_type": "code",
      "source": [
        "query_template = \"isCbk_pred==1 and isCbk==1\"\n",
        "results_df.query(query_template)"
      ],
      "metadata": {
        "colab": {
          "base_uri": "https://localhost:8080/",
          "height": 53
        },
        "id": "5wippW6ZXhcs",
        "outputId": "689b55ad-8de9-46d3-c7ef-fc432a3e1f05"
      },
      "execution_count": 123,
      "outputs": [
        {
          "output_type": "execute_result",
          "data": {
            "text/plain": [
              "Empty DataFrame\n",
              "Columns: [isCbk, isCbk_pred]\n",
              "Index: []"
            ],
            "text/html": [
              "\n",
              "  <div id=\"df-20b4c927-92c9-45eb-af95-4dcf20f3874a\" class=\"colab-df-container\">\n",
              "    <div>\n",
              "<style scoped>\n",
              "    .dataframe tbody tr th:only-of-type {\n",
              "        vertical-align: middle;\n",
              "    }\n",
              "\n",
              "    .dataframe tbody tr th {\n",
              "        vertical-align: top;\n",
              "    }\n",
              "\n",
              "    .dataframe thead th {\n",
              "        text-align: right;\n",
              "    }\n",
              "</style>\n",
              "<table border=\"1\" class=\"dataframe\">\n",
              "  <thead>\n",
              "    <tr style=\"text-align: right;\">\n",
              "      <th></th>\n",
              "      <th>isCbk</th>\n",
              "      <th>isCbk_pred</th>\n",
              "    </tr>\n",
              "  </thead>\n",
              "  <tbody>\n",
              "  </tbody>\n",
              "</table>\n",
              "</div>\n",
              "    <div class=\"colab-df-buttons\">\n",
              "\n",
              "  <div class=\"colab-df-container\">\n",
              "    <button class=\"colab-df-convert\" onclick=\"convertToInteractive('df-20b4c927-92c9-45eb-af95-4dcf20f3874a')\"\n",
              "            title=\"Convert this dataframe to an interactive table.\"\n",
              "            style=\"display:none;\">\n",
              "\n",
              "  <svg xmlns=\"http://www.w3.org/2000/svg\" height=\"24px\" viewBox=\"0 -960 960 960\">\n",
              "    <path d=\"M120-120v-720h720v720H120Zm60-500h600v-160H180v160Zm220 220h160v-160H400v160Zm0 220h160v-160H400v160ZM180-400h160v-160H180v160Zm440 0h160v-160H620v160ZM180-180h160v-160H180v160Zm440 0h160v-160H620v160Z\"/>\n",
              "  </svg>\n",
              "    </button>\n",
              "\n",
              "  <style>\n",
              "    .colab-df-container {\n",
              "      display:flex;\n",
              "      gap: 12px;\n",
              "    }\n",
              "\n",
              "    .colab-df-convert {\n",
              "      background-color: #E8F0FE;\n",
              "      border: none;\n",
              "      border-radius: 50%;\n",
              "      cursor: pointer;\n",
              "      display: none;\n",
              "      fill: #1967D2;\n",
              "      height: 32px;\n",
              "      padding: 0 0 0 0;\n",
              "      width: 32px;\n",
              "    }\n",
              "\n",
              "    .colab-df-convert:hover {\n",
              "      background-color: #E2EBFA;\n",
              "      box-shadow: 0px 1px 2px rgba(60, 64, 67, 0.3), 0px 1px 3px 1px rgba(60, 64, 67, 0.15);\n",
              "      fill: #174EA6;\n",
              "    }\n",
              "\n",
              "    .colab-df-buttons div {\n",
              "      margin-bottom: 4px;\n",
              "    }\n",
              "\n",
              "    [theme=dark] .colab-df-convert {\n",
              "      background-color: #3B4455;\n",
              "      fill: #D2E3FC;\n",
              "    }\n",
              "\n",
              "    [theme=dark] .colab-df-convert:hover {\n",
              "      background-color: #434B5C;\n",
              "      box-shadow: 0px 1px 3px 1px rgba(0, 0, 0, 0.15);\n",
              "      filter: drop-shadow(0px 1px 2px rgba(0, 0, 0, 0.3));\n",
              "      fill: #FFFFFF;\n",
              "    }\n",
              "  </style>\n",
              "\n",
              "    <script>\n",
              "      const buttonEl =\n",
              "        document.querySelector('#df-20b4c927-92c9-45eb-af95-4dcf20f3874a button.colab-df-convert');\n",
              "      buttonEl.style.display =\n",
              "        google.colab.kernel.accessAllowed ? 'block' : 'none';\n",
              "\n",
              "      async function convertToInteractive(key) {\n",
              "        const element = document.querySelector('#df-20b4c927-92c9-45eb-af95-4dcf20f3874a');\n",
              "        const dataTable =\n",
              "          await google.colab.kernel.invokeFunction('convertToInteractive',\n",
              "                                                    [key], {});\n",
              "        if (!dataTable) return;\n",
              "\n",
              "        const docLinkHtml = 'Like what you see? Visit the ' +\n",
              "          '<a target=\"_blank\" href=https://colab.research.google.com/notebooks/data_table.ipynb>data table notebook</a>'\n",
              "          + ' to learn more about interactive tables.';\n",
              "        element.innerHTML = '';\n",
              "        dataTable['output_type'] = 'display_data';\n",
              "        await google.colab.output.renderOutput(dataTable, element);\n",
              "        const docLink = document.createElement('div');\n",
              "        docLink.innerHTML = docLinkHtml;\n",
              "        element.appendChild(docLink);\n",
              "      }\n",
              "    </script>\n",
              "  </div>\n",
              "\n",
              "\n",
              "    </div>\n",
              "  </div>\n"
            ],
            "application/vnd.google.colaboratory.intrinsic+json": {
              "type": "dataframe",
              "summary": "{\n  \"name\": \"results_df\",\n  \"rows\": 0,\n  \"fields\": [\n    {\n      \"column\": \"isCbk\",\n      \"properties\": {\n        \"dtype\": \"number\",\n        \"std\": null,\n        \"min\": null,\n        \"max\": null,\n        \"num_unique_values\": 0,\n        \"samples\": [],\n        \"semantic_type\": \"\",\n        \"description\": \"\"\n      }\n    },\n    {\n      \"column\": \"isCbk_pred\",\n      \"properties\": {\n        \"dtype\": \"number\",\n        \"std\": null,\n        \"min\": null,\n        \"max\": null,\n        \"num_unique_values\": 0,\n        \"samples\": [],\n        \"semantic_type\": \"\",\n        \"description\": \"\"\n      }\n    }\n  ]\n}"
            }
          },
          "metadata": {},
          "execution_count": 123
        }
      ]
    },
    {
      "cell_type": "markdown",
      "source": [
        "**Versao 2: ajuste de alguns parametros** utilizando todos os parametros default"
      ],
      "metadata": {
        "id": "vnyfes0facxp"
      }
    },
    {
      "cell_type": "code",
      "source": [
        "class_weights = compute_class_weight('balanced', classes=[0, 1], y=y_train['isCbk'])\n",
        "class_weights"
      ],
      "metadata": {
        "colab": {
          "base_uri": "https://localhost:8080/"
        },
        "id": "gvzHgxqgdIy4",
        "outputId": "750a51e1-ea7c-4cdb-ec0e-312e6ee27d3e"
      },
      "execution_count": 124,
      "outputs": [
        {
          "output_type": "execute_result",
          "data": {
            "text/plain": [
              "array([ 0.5125136 , 20.47826087])"
            ]
          },
          "metadata": {},
          "execution_count": 124
        }
      ]
    },
    {
      "cell_type": "code",
      "source": [
        "xgb_params = {\n",
        "    \"class_weight\": {0: class_weights[0], 1: class_weights[1]},\n",
        "    \"n_estimators\": 300,\n",
        "    \"learning_rate\": 0.01,\n",
        "    \"max_depth\": 15,\n",
        "    \"min_child_weight\": 2,\n",
        "    # \"subsample\": 1.0,\n",
        "    # \"colsample_bytree\": 1.0,\n",
        "    # \"gamma\": 2,\n",
        "    \"reg_lambda\": 1,\n",
        "    \"objective\": \"binary:logistic\",\n",
        "    \"eval_metric\": \"logloss\",\n",
        "    # \"random_state\": 42,\n",
        "}\n",
        "\n",
        "pipeline = Pipeline([\n",
        "    ('xgb',  XGBClassifier(**xgb_params, use_label_encoder=False, enable_categorical=True))\n",
        "])\n",
        "\n",
        "pipeline.fit(X_train, y_train)"
      ],
      "metadata": {
        "colab": {
          "base_uri": "https://localhost:8080/",
          "height": 92
        },
        "id": "HPgIViV4X4Vb",
        "outputId": "b792ff20-862f-4c2e-c44a-77d14fa07946"
      },
      "execution_count": 136,
      "outputs": [
        {
          "output_type": "execute_result",
          "data": {
            "text/plain": [
              "Pipeline(steps=[('xgb',\n",
              "                 XGBClassifier(base_score=None, booster=None, callbacks=None,\n",
              "                               class_weight={0: 0.5125136017410229,\n",
              "                                             1: 20.47826086956522},\n",
              "                               colsample_bylevel=None, colsample_bynode=None,\n",
              "                               colsample_bytree=None, device=None,\n",
              "                               early_stopping_rounds=None,\n",
              "                               enable_categorical=True, eval_metric='logloss',\n",
              "                               feature_types=None, gamma=None, grow_policy=None,\n",
              "                               importance_type=None,\n",
              "                               interaction_constraints=None, learning_rate=0.01,\n",
              "                               max_bin=None, max_cat_threshold=None,\n",
              "                               max_cat_to_onehot=None, max_delta_step=None,\n",
              "                               max_depth=15, max_leaves=None,\n",
              "                               min_child_weight=2, missing=nan,\n",
              "                               monotone_constraints=None, multi_strategy=None,\n",
              "                               n_estimators=300, n_jobs=None,\n",
              "                               num_parallel_tree=None, ...))])"
            ],
            "text/html": [
              "<style>#sk-container-id-13 {color: black;background-color: white;}#sk-container-id-13 pre{padding: 0;}#sk-container-id-13 div.sk-toggleable {background-color: white;}#sk-container-id-13 label.sk-toggleable__label {cursor: pointer;display: block;width: 100%;margin-bottom: 0;padding: 0.3em;box-sizing: border-box;text-align: center;}#sk-container-id-13 label.sk-toggleable__label-arrow:before {content: \"▸\";float: left;margin-right: 0.25em;color: #696969;}#sk-container-id-13 label.sk-toggleable__label-arrow:hover:before {color: black;}#sk-container-id-13 div.sk-estimator:hover label.sk-toggleable__label-arrow:before {color: black;}#sk-container-id-13 div.sk-toggleable__content {max-height: 0;max-width: 0;overflow: hidden;text-align: left;background-color: #f0f8ff;}#sk-container-id-13 div.sk-toggleable__content pre {margin: 0.2em;color: black;border-radius: 0.25em;background-color: #f0f8ff;}#sk-container-id-13 input.sk-toggleable__control:checked~div.sk-toggleable__content {max-height: 200px;max-width: 100%;overflow: auto;}#sk-container-id-13 input.sk-toggleable__control:checked~label.sk-toggleable__label-arrow:before {content: \"▾\";}#sk-container-id-13 div.sk-estimator input.sk-toggleable__control:checked~label.sk-toggleable__label {background-color: #d4ebff;}#sk-container-id-13 div.sk-label input.sk-toggleable__control:checked~label.sk-toggleable__label {background-color: #d4ebff;}#sk-container-id-13 input.sk-hidden--visually {border: 0;clip: rect(1px 1px 1px 1px);clip: rect(1px, 1px, 1px, 1px);height: 1px;margin: -1px;overflow: hidden;padding: 0;position: absolute;width: 1px;}#sk-container-id-13 div.sk-estimator {font-family: monospace;background-color: #f0f8ff;border: 1px dotted black;border-radius: 0.25em;box-sizing: border-box;margin-bottom: 0.5em;}#sk-container-id-13 div.sk-estimator:hover {background-color: #d4ebff;}#sk-container-id-13 div.sk-parallel-item::after {content: \"\";width: 100%;border-bottom: 1px solid gray;flex-grow: 1;}#sk-container-id-13 div.sk-label:hover label.sk-toggleable__label {background-color: #d4ebff;}#sk-container-id-13 div.sk-serial::before {content: \"\";position: absolute;border-left: 1px solid gray;box-sizing: border-box;top: 0;bottom: 0;left: 50%;z-index: 0;}#sk-container-id-13 div.sk-serial {display: flex;flex-direction: column;align-items: center;background-color: white;padding-right: 0.2em;padding-left: 0.2em;position: relative;}#sk-container-id-13 div.sk-item {position: relative;z-index: 1;}#sk-container-id-13 div.sk-parallel {display: flex;align-items: stretch;justify-content: center;background-color: white;position: relative;}#sk-container-id-13 div.sk-item::before, #sk-container-id-13 div.sk-parallel-item::before {content: \"\";position: absolute;border-left: 1px solid gray;box-sizing: border-box;top: 0;bottom: 0;left: 50%;z-index: -1;}#sk-container-id-13 div.sk-parallel-item {display: flex;flex-direction: column;z-index: 1;position: relative;background-color: white;}#sk-container-id-13 div.sk-parallel-item:first-child::after {align-self: flex-end;width: 50%;}#sk-container-id-13 div.sk-parallel-item:last-child::after {align-self: flex-start;width: 50%;}#sk-container-id-13 div.sk-parallel-item:only-child::after {width: 0;}#sk-container-id-13 div.sk-dashed-wrapped {border: 1px dashed gray;margin: 0 0.4em 0.5em 0.4em;box-sizing: border-box;padding-bottom: 0.4em;background-color: white;}#sk-container-id-13 div.sk-label label {font-family: monospace;font-weight: bold;display: inline-block;line-height: 1.2em;}#sk-container-id-13 div.sk-label-container {text-align: center;}#sk-container-id-13 div.sk-container {/* jupyter's `normalize.less` sets `[hidden] { display: none; }` but bootstrap.min.css set `[hidden] { display: none !important; }` so we also need the `!important` here to be able to override the default hidden behavior on the sphinx rendered scikit-learn.org. See: https://github.com/scikit-learn/scikit-learn/issues/21755 */display: inline-block !important;position: relative;}#sk-container-id-13 div.sk-text-repr-fallback {display: none;}</style><div id=\"sk-container-id-13\" class=\"sk-top-container\"><div class=\"sk-text-repr-fallback\"><pre>Pipeline(steps=[(&#x27;xgb&#x27;,\n",
              "                 XGBClassifier(base_score=None, booster=None, callbacks=None,\n",
              "                               class_weight={0: 0.5125136017410229,\n",
              "                                             1: 20.47826086956522},\n",
              "                               colsample_bylevel=None, colsample_bynode=None,\n",
              "                               colsample_bytree=None, device=None,\n",
              "                               early_stopping_rounds=None,\n",
              "                               enable_categorical=True, eval_metric=&#x27;logloss&#x27;,\n",
              "                               feature_types=None, gamma=None, grow_policy=None,\n",
              "                               importance_type=None,\n",
              "                               interaction_constraints=None, learning_rate=0.01,\n",
              "                               max_bin=None, max_cat_threshold=None,\n",
              "                               max_cat_to_onehot=None, max_delta_step=None,\n",
              "                               max_depth=15, max_leaves=None,\n",
              "                               min_child_weight=2, missing=nan,\n",
              "                               monotone_constraints=None, multi_strategy=None,\n",
              "                               n_estimators=300, n_jobs=None,\n",
              "                               num_parallel_tree=None, ...))])</pre><b>In a Jupyter environment, please rerun this cell to show the HTML representation or trust the notebook. <br />On GitHub, the HTML representation is unable to render, please try loading this page with nbviewer.org.</b></div><div class=\"sk-container\" hidden><div class=\"sk-item sk-dashed-wrapped\"><div class=\"sk-label-container\"><div class=\"sk-label sk-toggleable\"><input class=\"sk-toggleable__control sk-hidden--visually\" id=\"sk-estimator-id-25\" type=\"checkbox\" ><label for=\"sk-estimator-id-25\" class=\"sk-toggleable__label sk-toggleable__label-arrow\">Pipeline</label><div class=\"sk-toggleable__content\"><pre>Pipeline(steps=[(&#x27;xgb&#x27;,\n",
              "                 XGBClassifier(base_score=None, booster=None, callbacks=None,\n",
              "                               class_weight={0: 0.5125136017410229,\n",
              "                                             1: 20.47826086956522},\n",
              "                               colsample_bylevel=None, colsample_bynode=None,\n",
              "                               colsample_bytree=None, device=None,\n",
              "                               early_stopping_rounds=None,\n",
              "                               enable_categorical=True, eval_metric=&#x27;logloss&#x27;,\n",
              "                               feature_types=None, gamma=None, grow_policy=None,\n",
              "                               importance_type=None,\n",
              "                               interaction_constraints=None, learning_rate=0.01,\n",
              "                               max_bin=None, max_cat_threshold=None,\n",
              "                               max_cat_to_onehot=None, max_delta_step=None,\n",
              "                               max_depth=15, max_leaves=None,\n",
              "                               min_child_weight=2, missing=nan,\n",
              "                               monotone_constraints=None, multi_strategy=None,\n",
              "                               n_estimators=300, n_jobs=None,\n",
              "                               num_parallel_tree=None, ...))])</pre></div></div></div><div class=\"sk-serial\"><div class=\"sk-item\"><div class=\"sk-estimator sk-toggleable\"><input class=\"sk-toggleable__control sk-hidden--visually\" id=\"sk-estimator-id-26\" type=\"checkbox\" ><label for=\"sk-estimator-id-26\" class=\"sk-toggleable__label sk-toggleable__label-arrow\">XGBClassifier</label><div class=\"sk-toggleable__content\"><pre>XGBClassifier(base_score=None, booster=None, callbacks=None,\n",
              "              class_weight={0: 0.5125136017410229, 1: 20.47826086956522},\n",
              "              colsample_bylevel=None, colsample_bynode=None,\n",
              "              colsample_bytree=None, device=None, early_stopping_rounds=None,\n",
              "              enable_categorical=True, eval_metric=&#x27;logloss&#x27;,\n",
              "              feature_types=None, gamma=None, grow_policy=None,\n",
              "              importance_type=None, interaction_constraints=None,\n",
              "              learning_rate=0.01, max_bin=None, max_cat_threshold=None,\n",
              "              max_cat_to_onehot=None, max_delta_step=None, max_depth=15,\n",
              "              max_leaves=None, min_child_weight=2, missing=nan,\n",
              "              monotone_constraints=None, multi_strategy=None, n_estimators=300,\n",
              "              n_jobs=None, num_parallel_tree=None, ...)</pre></div></div></div></div></div></div></div>"
            ]
          },
          "metadata": {},
          "execution_count": 136
        }
      ]
    },
    {
      "cell_type": "code",
      "source": [
        "predictions_xgb = pipeline.predict(X_test)\n",
        "print(classification_report(y_test, predictions_xgb))"
      ],
      "metadata": {
        "colab": {
          "base_uri": "https://localhost:8080/"
        },
        "id": "03-WVU3hY_Z3",
        "outputId": "02a9e842-3de7-44ee-db0f-9079e401ee52"
      },
      "execution_count": 137,
      "outputs": [
        {
          "output_type": "stream",
          "name": "stdout",
          "text": [
            "              precision    recall  f1-score   support\n",
            "\n",
            "           0       0.98      1.00      0.99      2760\n",
            "           1       0.00      0.00      0.00        68\n",
            "\n",
            "    accuracy                           0.97      2828\n",
            "   macro avg       0.49      0.50      0.49      2828\n",
            "weighted avg       0.95      0.97      0.96      2828\n",
            "\n"
          ]
        }
      ]
    },
    {
      "cell_type": "markdown",
      "source": [
        "Otimizacao de hiperparametros"
      ],
      "metadata": {
        "id": "AI3jgPoPpNHM"
      }
    },
    {
      "cell_type": "code",
      "source": [
        "import numpy as np\n",
        "parameters = {\n",
        "    'xgb__n_estimators': Integer(100, 300),\n",
        "    'xgb__max_depth': Integer(5, 15),\n",
        "    'xgb__learning_rate': Real(0.01, 1.0, 'log-uniform')\n",
        "}\n",
        "\n",
        "# Definindo a função objetivo\n",
        "f1_scorer = make_scorer(f1_score)\n",
        "\n",
        "# Realizando a busca dos melhores parâmetros\n",
        "bayes_search = BayesSearchCV(pipeline, parameters, scoring=f1_scorer, n_jobs=-1, n_iter=50, cv=5)\n",
        "# bayes_search.fit(X_train, y_train)"
      ],
      "metadata": {
        "id": "qEoYmPXsimmr"
      },
      "execution_count": 138,
      "outputs": []
    },
    {
      "cell_type": "code",
      "source": [
        "bayes_search.fit(X_train, y_train)"
      ],
      "metadata": {
        "colab": {
          "base_uri": "https://localhost:8080/",
          "height": 373
        },
        "id": "yfCRWvlGjH_R",
        "outputId": "6db1715e-d424-4763-d217-893893296279"
      },
      "execution_count": 139,
      "outputs": [
        {
          "output_type": "error",
          "ename": "AttributeError",
          "evalue": "module 'numpy' has no attribute 'int'.\n`np.int` was a deprecated alias for the builtin `int`. To avoid this error in existing code, use `int` by itself. Doing this will not modify any behavior and is safe. When replacing `np.int`, you may wish to use e.g. `np.int64` or `np.int32` to specify the precision. If you wish to review your current use, check the release note link for additional information.\nThe aliases was originally deprecated in NumPy 1.20; for more details and guidance see the original release note at:\n    https://numpy.org/devdocs/release/1.20.0-notes.html#deprecations",
          "traceback": [
            "\u001b[0;31m---------------------------------------------------------------------------\u001b[0m",
            "\u001b[0;31mAttributeError\u001b[0m                            Traceback (most recent call last)",
            "\u001b[0;32m<ipython-input-139-8738d42b77ed>\u001b[0m in \u001b[0;36m<cell line: 1>\u001b[0;34m()\u001b[0m\n\u001b[0;32m----> 1\u001b[0;31m \u001b[0mbayes_search\u001b[0m\u001b[0;34m.\u001b[0m\u001b[0mfit\u001b[0m\u001b[0;34m(\u001b[0m\u001b[0mX_train\u001b[0m\u001b[0;34m,\u001b[0m \u001b[0my_train\u001b[0m\u001b[0;34m)\u001b[0m\u001b[0;34m\u001b[0m\u001b[0;34m\u001b[0m\u001b[0m\n\u001b[0m",
            "\u001b[0;32m/usr/local/lib/python3.10/dist-packages/skopt/searchcv.py\u001b[0m in \u001b[0;36mfit\u001b[0;34m(self, X, y, groups, callback, **fit_params)\u001b[0m\n\u001b[1;32m    464\u001b[0m             \u001b[0mself\u001b[0m\u001b[0;34m.\u001b[0m\u001b[0moptimizer_kwargs_\u001b[0m \u001b[0;34m=\u001b[0m \u001b[0mdict\u001b[0m\u001b[0;34m(\u001b[0m\u001b[0mself\u001b[0m\u001b[0;34m.\u001b[0m\u001b[0moptimizer_kwargs\u001b[0m\u001b[0;34m)\u001b[0m\u001b[0;34m\u001b[0m\u001b[0;34m\u001b[0m\u001b[0m\n\u001b[1;32m    465\u001b[0m \u001b[0;34m\u001b[0m\u001b[0m\n\u001b[0;32m--> 466\u001b[0;31m         \u001b[0msuper\u001b[0m\u001b[0;34m(\u001b[0m\u001b[0;34m)\u001b[0m\u001b[0;34m.\u001b[0m\u001b[0mfit\u001b[0m\u001b[0;34m(\u001b[0m\u001b[0mX\u001b[0m\u001b[0;34m=\u001b[0m\u001b[0mX\u001b[0m\u001b[0;34m,\u001b[0m \u001b[0my\u001b[0m\u001b[0;34m=\u001b[0m\u001b[0my\u001b[0m\u001b[0;34m,\u001b[0m \u001b[0mgroups\u001b[0m\u001b[0;34m=\u001b[0m\u001b[0mgroups\u001b[0m\u001b[0;34m,\u001b[0m \u001b[0;34m**\u001b[0m\u001b[0mfit_params\u001b[0m\u001b[0;34m)\u001b[0m\u001b[0;34m\u001b[0m\u001b[0;34m\u001b[0m\u001b[0m\n\u001b[0m\u001b[1;32m    467\u001b[0m \u001b[0;34m\u001b[0m\u001b[0m\n\u001b[1;32m    468\u001b[0m         \u001b[0;31m# BaseSearchCV never ranked train scores,\u001b[0m\u001b[0;34m\u001b[0m\u001b[0;34m\u001b[0m\u001b[0m\n",
            "\u001b[0;32m/usr/local/lib/python3.10/dist-packages/sklearn/model_selection/_search.py\u001b[0m in \u001b[0;36mfit\u001b[0;34m(self, X, y, groups, **fit_params)\u001b[0m\n\u001b[1;32m    872\u001b[0m                 \u001b[0;32mreturn\u001b[0m \u001b[0mresults\u001b[0m\u001b[0;34m\u001b[0m\u001b[0;34m\u001b[0m\u001b[0m\n\u001b[1;32m    873\u001b[0m \u001b[0;34m\u001b[0m\u001b[0m\n\u001b[0;32m--> 874\u001b[0;31m             \u001b[0mself\u001b[0m\u001b[0;34m.\u001b[0m\u001b[0m_run_search\u001b[0m\u001b[0;34m(\u001b[0m\u001b[0mevaluate_candidates\u001b[0m\u001b[0;34m)\u001b[0m\u001b[0;34m\u001b[0m\u001b[0;34m\u001b[0m\u001b[0m\n\u001b[0m\u001b[1;32m    875\u001b[0m \u001b[0;34m\u001b[0m\u001b[0m\n\u001b[1;32m    876\u001b[0m             \u001b[0;31m# multimetric is determined here because in the case of a callable\u001b[0m\u001b[0;34m\u001b[0m\u001b[0;34m\u001b[0m\u001b[0m\n",
            "\u001b[0;32m/usr/local/lib/python3.10/dist-packages/skopt/searchcv.py\u001b[0m in \u001b[0;36m_run_search\u001b[0;34m(self, evaluate_candidates)\u001b[0m\n\u001b[1;32m    510\u001b[0m                 \u001b[0mn_points_adjusted\u001b[0m \u001b[0;34m=\u001b[0m \u001b[0mmin\u001b[0m\u001b[0;34m(\u001b[0m\u001b[0mn_iter\u001b[0m\u001b[0;34m,\u001b[0m \u001b[0mn_points\u001b[0m\u001b[0;34m)\u001b[0m\u001b[0;34m\u001b[0m\u001b[0;34m\u001b[0m\u001b[0m\n\u001b[1;32m    511\u001b[0m \u001b[0;34m\u001b[0m\u001b[0m\n\u001b[0;32m--> 512\u001b[0;31m                 optim_result = self._step(\n\u001b[0m\u001b[1;32m    513\u001b[0m                     \u001b[0msearch_space\u001b[0m\u001b[0;34m,\u001b[0m \u001b[0moptimizer\u001b[0m\u001b[0;34m,\u001b[0m\u001b[0;34m\u001b[0m\u001b[0;34m\u001b[0m\u001b[0m\n\u001b[1;32m    514\u001b[0m                     \u001b[0mevaluate_candidates\u001b[0m\u001b[0;34m,\u001b[0m \u001b[0mn_points\u001b[0m\u001b[0;34m=\u001b[0m\u001b[0mn_points_adjusted\u001b[0m\u001b[0;34m\u001b[0m\u001b[0;34m\u001b[0m\u001b[0m\n",
            "\u001b[0;32m/usr/local/lib/python3.10/dist-packages/skopt/searchcv.py\u001b[0m in \u001b[0;36m_step\u001b[0;34m(self, search_space, optimizer, evaluate_candidates, n_points)\u001b[0m\n\u001b[1;32m    398\u001b[0m         \"\"\"\n\u001b[1;32m    399\u001b[0m         \u001b[0;31m# get parameter values to evaluate\u001b[0m\u001b[0;34m\u001b[0m\u001b[0;34m\u001b[0m\u001b[0m\n\u001b[0;32m--> 400\u001b[0;31m         \u001b[0mparams\u001b[0m \u001b[0;34m=\u001b[0m \u001b[0moptimizer\u001b[0m\u001b[0;34m.\u001b[0m\u001b[0mask\u001b[0m\u001b[0;34m(\u001b[0m\u001b[0mn_points\u001b[0m\u001b[0;34m=\u001b[0m\u001b[0mn_points\u001b[0m\u001b[0;34m)\u001b[0m\u001b[0;34m\u001b[0m\u001b[0;34m\u001b[0m\u001b[0m\n\u001b[0m\u001b[1;32m    401\u001b[0m \u001b[0;34m\u001b[0m\u001b[0m\n\u001b[1;32m    402\u001b[0m         \u001b[0;31m# convert parameters to python native types\u001b[0m\u001b[0;34m\u001b[0m\u001b[0;34m\u001b[0m\u001b[0m\n",
            "\u001b[0;32m/usr/local/lib/python3.10/dist-packages/skopt/optimizer/optimizer.py\u001b[0m in \u001b[0;36mask\u001b[0;34m(self, n_points, strategy)\u001b[0m\n\u001b[1;32m    393\u001b[0m         \u001b[0mX\u001b[0m \u001b[0;34m=\u001b[0m \u001b[0;34m[\u001b[0m\u001b[0;34m]\u001b[0m\u001b[0;34m\u001b[0m\u001b[0;34m\u001b[0m\u001b[0m\n\u001b[1;32m    394\u001b[0m         \u001b[0;32mfor\u001b[0m \u001b[0mi\u001b[0m \u001b[0;32min\u001b[0m \u001b[0mrange\u001b[0m\u001b[0;34m(\u001b[0m\u001b[0mn_points\u001b[0m\u001b[0;34m)\u001b[0m\u001b[0;34m:\u001b[0m\u001b[0;34m\u001b[0m\u001b[0;34m\u001b[0m\u001b[0m\n\u001b[0;32m--> 395\u001b[0;31m             \u001b[0mx\u001b[0m \u001b[0;34m=\u001b[0m \u001b[0mopt\u001b[0m\u001b[0;34m.\u001b[0m\u001b[0mask\u001b[0m\u001b[0;34m(\u001b[0m\u001b[0;34m)\u001b[0m\u001b[0;34m\u001b[0m\u001b[0;34m\u001b[0m\u001b[0m\n\u001b[0m\u001b[1;32m    396\u001b[0m             \u001b[0mX\u001b[0m\u001b[0;34m.\u001b[0m\u001b[0mappend\u001b[0m\u001b[0;34m(\u001b[0m\u001b[0mx\u001b[0m\u001b[0;34m)\u001b[0m\u001b[0;34m\u001b[0m\u001b[0;34m\u001b[0m\u001b[0m\n\u001b[1;32m    397\u001b[0m \u001b[0;34m\u001b[0m\u001b[0m\n",
            "\u001b[0;32m/usr/local/lib/python3.10/dist-packages/skopt/optimizer/optimizer.py\u001b[0m in \u001b[0;36mask\u001b[0;34m(self, n_points, strategy)\u001b[0m\n\u001b[1;32m    365\u001b[0m         \"\"\"\n\u001b[1;32m    366\u001b[0m         \u001b[0;32mif\u001b[0m \u001b[0mn_points\u001b[0m \u001b[0;32mis\u001b[0m \u001b[0;32mNone\u001b[0m\u001b[0;34m:\u001b[0m\u001b[0;34m\u001b[0m\u001b[0;34m\u001b[0m\u001b[0m\n\u001b[0;32m--> 367\u001b[0;31m             \u001b[0;32mreturn\u001b[0m \u001b[0mself\u001b[0m\u001b[0;34m.\u001b[0m\u001b[0m_ask\u001b[0m\u001b[0;34m(\u001b[0m\u001b[0;34m)\u001b[0m\u001b[0;34m\u001b[0m\u001b[0;34m\u001b[0m\u001b[0m\n\u001b[0m\u001b[1;32m    368\u001b[0m \u001b[0;34m\u001b[0m\u001b[0m\n\u001b[1;32m    369\u001b[0m         \u001b[0msupported_strategies\u001b[0m \u001b[0;34m=\u001b[0m \u001b[0;34m[\u001b[0m\u001b[0;34m\"cl_min\"\u001b[0m\u001b[0;34m,\u001b[0m \u001b[0;34m\"cl_mean\"\u001b[0m\u001b[0;34m,\u001b[0m \u001b[0;34m\"cl_max\"\u001b[0m\u001b[0;34m]\u001b[0m\u001b[0;34m\u001b[0m\u001b[0;34m\u001b[0m\u001b[0m\n",
            "\u001b[0;32m/usr/local/lib/python3.10/dist-packages/skopt/optimizer/optimizer.py\u001b[0m in \u001b[0;36m_ask\u001b[0;34m(self)\u001b[0m\n\u001b[1;32m    432\u001b[0m             \u001b[0;31m# our random state.\u001b[0m\u001b[0;34m\u001b[0m\u001b[0;34m\u001b[0m\u001b[0m\n\u001b[1;32m    433\u001b[0m             \u001b[0;32mif\u001b[0m \u001b[0mself\u001b[0m\u001b[0;34m.\u001b[0m\u001b[0m_initial_samples\u001b[0m \u001b[0;32mis\u001b[0m \u001b[0;32mNone\u001b[0m\u001b[0;34m:\u001b[0m\u001b[0;34m\u001b[0m\u001b[0;34m\u001b[0m\u001b[0m\n\u001b[0;32m--> 434\u001b[0;31m                 \u001b[0;32mreturn\u001b[0m \u001b[0mself\u001b[0m\u001b[0;34m.\u001b[0m\u001b[0mspace\u001b[0m\u001b[0;34m.\u001b[0m\u001b[0mrvs\u001b[0m\u001b[0;34m(\u001b[0m\u001b[0mrandom_state\u001b[0m\u001b[0;34m=\u001b[0m\u001b[0mself\u001b[0m\u001b[0;34m.\u001b[0m\u001b[0mrng\u001b[0m\u001b[0;34m)\u001b[0m\u001b[0;34m[\u001b[0m\u001b[0;36m0\u001b[0m\u001b[0;34m]\u001b[0m\u001b[0;34m\u001b[0m\u001b[0;34m\u001b[0m\u001b[0m\n\u001b[0m\u001b[1;32m    435\u001b[0m             \u001b[0;32melse\u001b[0m\u001b[0;34m:\u001b[0m\u001b[0;34m\u001b[0m\u001b[0;34m\u001b[0m\u001b[0m\n\u001b[1;32m    436\u001b[0m                 \u001b[0;31m# The samples are evaluated starting form initial_samples[0]\u001b[0m\u001b[0;34m\u001b[0m\u001b[0;34m\u001b[0m\u001b[0m\n",
            "\u001b[0;32m/usr/local/lib/python3.10/dist-packages/skopt/space/space.py\u001b[0m in \u001b[0;36mrvs\u001b[0;34m(self, n_samples, random_state)\u001b[0m\n\u001b[1;32m    898\u001b[0m \u001b[0;34m\u001b[0m\u001b[0m\n\u001b[1;32m    899\u001b[0m         \u001b[0;32mfor\u001b[0m \u001b[0mdim\u001b[0m \u001b[0;32min\u001b[0m \u001b[0mself\u001b[0m\u001b[0;34m.\u001b[0m\u001b[0mdimensions\u001b[0m\u001b[0;34m:\u001b[0m\u001b[0;34m\u001b[0m\u001b[0;34m\u001b[0m\u001b[0m\n\u001b[0;32m--> 900\u001b[0;31m             \u001b[0mcolumns\u001b[0m\u001b[0;34m.\u001b[0m\u001b[0mappend\u001b[0m\u001b[0;34m(\u001b[0m\u001b[0mdim\u001b[0m\u001b[0;34m.\u001b[0m\u001b[0mrvs\u001b[0m\u001b[0;34m(\u001b[0m\u001b[0mn_samples\u001b[0m\u001b[0;34m=\u001b[0m\u001b[0mn_samples\u001b[0m\u001b[0;34m,\u001b[0m \u001b[0mrandom_state\u001b[0m\u001b[0;34m=\u001b[0m\u001b[0mrng\u001b[0m\u001b[0;34m)\u001b[0m\u001b[0;34m)\u001b[0m\u001b[0;34m\u001b[0m\u001b[0;34m\u001b[0m\u001b[0m\n\u001b[0m\u001b[1;32m    901\u001b[0m \u001b[0;34m\u001b[0m\u001b[0m\n\u001b[1;32m    902\u001b[0m         \u001b[0;31m# Transpose\u001b[0m\u001b[0;34m\u001b[0m\u001b[0;34m\u001b[0m\u001b[0m\n",
            "\u001b[0;32m/usr/local/lib/python3.10/dist-packages/skopt/space/space.py\u001b[0m in \u001b[0;36mrvs\u001b[0;34m(self, n_samples, random_state)\u001b[0m\n\u001b[1;32m    156\u001b[0m         \u001b[0mrng\u001b[0m \u001b[0;34m=\u001b[0m \u001b[0mcheck_random_state\u001b[0m\u001b[0;34m(\u001b[0m\u001b[0mrandom_state\u001b[0m\u001b[0;34m)\u001b[0m\u001b[0;34m\u001b[0m\u001b[0;34m\u001b[0m\u001b[0m\n\u001b[1;32m    157\u001b[0m         \u001b[0msamples\u001b[0m \u001b[0;34m=\u001b[0m \u001b[0mself\u001b[0m\u001b[0;34m.\u001b[0m\u001b[0m_rvs\u001b[0m\u001b[0;34m.\u001b[0m\u001b[0mrvs\u001b[0m\u001b[0;34m(\u001b[0m\u001b[0msize\u001b[0m\u001b[0;34m=\u001b[0m\u001b[0mn_samples\u001b[0m\u001b[0;34m,\u001b[0m \u001b[0mrandom_state\u001b[0m\u001b[0;34m=\u001b[0m\u001b[0mrng\u001b[0m\u001b[0;34m)\u001b[0m\u001b[0;34m\u001b[0m\u001b[0;34m\u001b[0m\u001b[0m\n\u001b[0;32m--> 158\u001b[0;31m         \u001b[0;32mreturn\u001b[0m \u001b[0mself\u001b[0m\u001b[0;34m.\u001b[0m\u001b[0minverse_transform\u001b[0m\u001b[0;34m(\u001b[0m\u001b[0msamples\u001b[0m\u001b[0;34m)\u001b[0m\u001b[0;34m\u001b[0m\u001b[0;34m\u001b[0m\u001b[0m\n\u001b[0m\u001b[1;32m    159\u001b[0m \u001b[0;34m\u001b[0m\u001b[0m\n\u001b[1;32m    160\u001b[0m     \u001b[0;32mdef\u001b[0m \u001b[0mtransform\u001b[0m\u001b[0;34m(\u001b[0m\u001b[0mself\u001b[0m\u001b[0;34m,\u001b[0m \u001b[0mX\u001b[0m\u001b[0;34m)\u001b[0m\u001b[0;34m:\u001b[0m\u001b[0;34m\u001b[0m\u001b[0;34m\u001b[0m\u001b[0m\n",
            "\u001b[0;32m/usr/local/lib/python3.10/dist-packages/skopt/space/space.py\u001b[0m in \u001b[0;36minverse_transform\u001b[0;34m(self, Xt)\u001b[0m\n\u001b[1;32m    526\u001b[0m         \u001b[0;31m# The concatenation of all transformed dimensions makes Xt to be\u001b[0m\u001b[0;34m\u001b[0m\u001b[0;34m\u001b[0m\u001b[0m\n\u001b[1;32m    527\u001b[0m         \u001b[0;31m# of type float, hence the required cast back to int.\u001b[0m\u001b[0;34m\u001b[0m\u001b[0;34m\u001b[0m\u001b[0m\n\u001b[0;32m--> 528\u001b[0;31m         \u001b[0minv_transform\u001b[0m \u001b[0;34m=\u001b[0m \u001b[0msuper\u001b[0m\u001b[0;34m(\u001b[0m\u001b[0mInteger\u001b[0m\u001b[0;34m,\u001b[0m \u001b[0mself\u001b[0m\u001b[0;34m)\u001b[0m\u001b[0;34m.\u001b[0m\u001b[0minverse_transform\u001b[0m\u001b[0;34m(\u001b[0m\u001b[0mXt\u001b[0m\u001b[0;34m)\u001b[0m\u001b[0;34m\u001b[0m\u001b[0;34m\u001b[0m\u001b[0m\n\u001b[0m\u001b[1;32m    529\u001b[0m         \u001b[0;32mif\u001b[0m \u001b[0misinstance\u001b[0m\u001b[0;34m(\u001b[0m\u001b[0minv_transform\u001b[0m\u001b[0;34m,\u001b[0m \u001b[0mlist\u001b[0m\u001b[0;34m)\u001b[0m\u001b[0;34m:\u001b[0m\u001b[0;34m\u001b[0m\u001b[0;34m\u001b[0m\u001b[0m\n\u001b[1;32m    530\u001b[0m             \u001b[0minv_transform\u001b[0m \u001b[0;34m=\u001b[0m \u001b[0mnp\u001b[0m\u001b[0;34m.\u001b[0m\u001b[0marray\u001b[0m\u001b[0;34m(\u001b[0m\u001b[0minv_transform\u001b[0m\u001b[0;34m)\u001b[0m\u001b[0;34m\u001b[0m\u001b[0;34m\u001b[0m\u001b[0m\n",
            "\u001b[0;32m/usr/local/lib/python3.10/dist-packages/skopt/space/space.py\u001b[0m in \u001b[0;36minverse_transform\u001b[0;34m(self, Xt)\u001b[0m\n\u001b[1;32m    166\u001b[0m            \u001b[0moriginal\u001b[0m \u001b[0mspace\u001b[0m\u001b[0;34m.\u001b[0m\u001b[0;34m\u001b[0m\u001b[0;34m\u001b[0m\u001b[0m\n\u001b[1;32m    167\u001b[0m         \"\"\"\n\u001b[0;32m--> 168\u001b[0;31m         \u001b[0;32mreturn\u001b[0m \u001b[0mself\u001b[0m\u001b[0;34m.\u001b[0m\u001b[0mtransformer\u001b[0m\u001b[0;34m.\u001b[0m\u001b[0minverse_transform\u001b[0m\u001b[0;34m(\u001b[0m\u001b[0mXt\u001b[0m\u001b[0;34m)\u001b[0m\u001b[0;34m\u001b[0m\u001b[0;34m\u001b[0m\u001b[0m\n\u001b[0m\u001b[1;32m    169\u001b[0m \u001b[0;34m\u001b[0m\u001b[0m\n\u001b[1;32m    170\u001b[0m     \u001b[0;32mdef\u001b[0m \u001b[0mset_transformer\u001b[0m\u001b[0;34m(\u001b[0m\u001b[0mself\u001b[0m\u001b[0;34m)\u001b[0m\u001b[0;34m:\u001b[0m\u001b[0;34m\u001b[0m\u001b[0;34m\u001b[0m\u001b[0m\n",
            "\u001b[0;32m/usr/local/lib/python3.10/dist-packages/skopt/space/transformers.py\u001b[0m in \u001b[0;36minverse_transform\u001b[0;34m(self, X)\u001b[0m\n\u001b[1;32m    307\u001b[0m     \u001b[0;32mdef\u001b[0m \u001b[0minverse_transform\u001b[0m\u001b[0;34m(\u001b[0m\u001b[0mself\u001b[0m\u001b[0;34m,\u001b[0m \u001b[0mX\u001b[0m\u001b[0;34m)\u001b[0m\u001b[0;34m:\u001b[0m\u001b[0;34m\u001b[0m\u001b[0;34m\u001b[0m\u001b[0m\n\u001b[1;32m    308\u001b[0m         \u001b[0;32mfor\u001b[0m \u001b[0mtransformer\u001b[0m \u001b[0;32min\u001b[0m \u001b[0mself\u001b[0m\u001b[0;34m.\u001b[0m\u001b[0mtransformers\u001b[0m\u001b[0;34m[\u001b[0m\u001b[0;34m:\u001b[0m\u001b[0;34m:\u001b[0m\u001b[0;34m-\u001b[0m\u001b[0;36m1\u001b[0m\u001b[0;34m]\u001b[0m\u001b[0;34m:\u001b[0m\u001b[0;34m\u001b[0m\u001b[0;34m\u001b[0m\u001b[0m\n\u001b[0;32m--> 309\u001b[0;31m             \u001b[0mX\u001b[0m \u001b[0;34m=\u001b[0m \u001b[0mtransformer\u001b[0m\u001b[0;34m.\u001b[0m\u001b[0minverse_transform\u001b[0m\u001b[0;34m(\u001b[0m\u001b[0mX\u001b[0m\u001b[0;34m)\u001b[0m\u001b[0;34m\u001b[0m\u001b[0;34m\u001b[0m\u001b[0m\n\u001b[0m\u001b[1;32m    310\u001b[0m         \u001b[0;32mreturn\u001b[0m \u001b[0mX\u001b[0m\u001b[0;34m\u001b[0m\u001b[0;34m\u001b[0m\u001b[0m\n",
            "\u001b[0;32m/usr/local/lib/python3.10/dist-packages/skopt/space/transformers.py\u001b[0m in \u001b[0;36minverse_transform\u001b[0;34m(self, X)\u001b[0m\n\u001b[1;32m    273\u001b[0m         \u001b[0mX_orig\u001b[0m \u001b[0;34m=\u001b[0m \u001b[0mX\u001b[0m \u001b[0;34m*\u001b[0m \u001b[0;34m(\u001b[0m\u001b[0mself\u001b[0m\u001b[0;34m.\u001b[0m\u001b[0mhigh\u001b[0m \u001b[0;34m-\u001b[0m \u001b[0mself\u001b[0m\u001b[0;34m.\u001b[0m\u001b[0mlow\u001b[0m\u001b[0;34m)\u001b[0m \u001b[0;34m+\u001b[0m \u001b[0mself\u001b[0m\u001b[0;34m.\u001b[0m\u001b[0mlow\u001b[0m\u001b[0;34m\u001b[0m\u001b[0;34m\u001b[0m\u001b[0m\n\u001b[1;32m    274\u001b[0m         \u001b[0;32mif\u001b[0m \u001b[0mself\u001b[0m\u001b[0;34m.\u001b[0m\u001b[0mis_int\u001b[0m\u001b[0;34m:\u001b[0m\u001b[0;34m\u001b[0m\u001b[0;34m\u001b[0m\u001b[0m\n\u001b[0;32m--> 275\u001b[0;31m             \u001b[0;32mreturn\u001b[0m \u001b[0mnp\u001b[0m\u001b[0;34m.\u001b[0m\u001b[0mround\u001b[0m\u001b[0;34m(\u001b[0m\u001b[0mX_orig\u001b[0m\u001b[0;34m)\u001b[0m\u001b[0;34m.\u001b[0m\u001b[0mastype\u001b[0m\u001b[0;34m(\u001b[0m\u001b[0mnp\u001b[0m\u001b[0;34m.\u001b[0m\u001b[0mint\u001b[0m\u001b[0;34m)\u001b[0m\u001b[0;34m\u001b[0m\u001b[0;34m\u001b[0m\u001b[0m\n\u001b[0m\u001b[1;32m    276\u001b[0m         \u001b[0;32mreturn\u001b[0m \u001b[0mX_orig\u001b[0m\u001b[0;34m\u001b[0m\u001b[0;34m\u001b[0m\u001b[0m\n\u001b[1;32m    277\u001b[0m \u001b[0;34m\u001b[0m\u001b[0m\n",
            "\u001b[0;32m/usr/local/lib/python3.10/dist-packages/numpy/__init__.py\u001b[0m in \u001b[0;36m__getattr__\u001b[0;34m(attr)\u001b[0m\n\u001b[1;32m    317\u001b[0m \u001b[0;34m\u001b[0m\u001b[0m\n\u001b[1;32m    318\u001b[0m         \u001b[0;32mif\u001b[0m \u001b[0mattr\u001b[0m \u001b[0;32min\u001b[0m \u001b[0m__former_attrs__\u001b[0m\u001b[0;34m:\u001b[0m\u001b[0;34m\u001b[0m\u001b[0;34m\u001b[0m\u001b[0m\n\u001b[0;32m--> 319\u001b[0;31m             \u001b[0;32mraise\u001b[0m \u001b[0mAttributeError\u001b[0m\u001b[0;34m(\u001b[0m\u001b[0m__former_attrs__\u001b[0m\u001b[0;34m[\u001b[0m\u001b[0mattr\u001b[0m\u001b[0;34m]\u001b[0m\u001b[0;34m)\u001b[0m\u001b[0;34m\u001b[0m\u001b[0;34m\u001b[0m\u001b[0m\n\u001b[0m\u001b[1;32m    320\u001b[0m \u001b[0;34m\u001b[0m\u001b[0m\n\u001b[1;32m    321\u001b[0m         \u001b[0;32mif\u001b[0m \u001b[0mattr\u001b[0m \u001b[0;34m==\u001b[0m \u001b[0;34m'testing'\u001b[0m\u001b[0;34m:\u001b[0m\u001b[0;34m\u001b[0m\u001b[0;34m\u001b[0m\u001b[0m\n",
            "\u001b[0;31mAttributeError\u001b[0m: module 'numpy' has no attribute 'int'.\n`np.int` was a deprecated alias for the builtin `int`. To avoid this error in existing code, use `int` by itself. Doing this will not modify any behavior and is safe. When replacing `np.int`, you may wish to use e.g. `np.int64` or `np.int32` to specify the precision. If you wish to review your current use, check the release note link for additional information.\nThe aliases was originally deprecated in NumPy 1.20; for more details and guidance see the original release note at:\n    https://numpy.org/devdocs/release/1.20.0-notes.html#deprecations"
          ]
        }
      ]
    },
    {
      "cell_type": "code",
      "source": [],
      "metadata": {
        "id": "-0My2D16bzml"
      },
      "execution_count": 84,
      "outputs": []
    },
    {
      "cell_type": "code",
      "source": [],
      "metadata": {
        "id": "5K4lk5GPiQXU"
      },
      "execution_count": null,
      "outputs": []
    }
  ],
  "metadata": {
    "colab": {
      "provenance": [],
      "mount_file_id": "1mF6dEiiI96y6l2dN7BX5oEt6X8HXU3T1",
      "authorship_tag": "ABX9TyM/KtgVJGD6eGauhzedKu7M",
      "include_colab_link": true
    },
    "kernelspec": {
      "display_name": "Python 3",
      "name": "python3"
    },
    "language_info": {
      "name": "python"
    }
  },
  "nbformat": 4,
  "nbformat_minor": 0
}